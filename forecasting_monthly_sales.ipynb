{
 "cells": [
  {
   "cell_type": "markdown",
   "id": "018f9f8d-beb4-4916-9a46-9e39d0ae543c",
   "metadata": {},
   "source": [
    "### Import libraries"
   ]
  },
  {
   "cell_type": "code",
   "execution_count": 1,
   "id": "684af310-5892-4aca-a474-051bd9f6fe52",
   "metadata": {},
   "outputs": [],
   "source": [
    "import math"
   ]
  },
  {
   "cell_type": "code",
   "execution_count": 2,
   "id": "85e9de3d-b748-4260-9c0e-69e6a0c02b8a",
   "metadata": {},
   "outputs": [],
   "source": [
    "import pandas as pd\n",
    "import numpy as np\n",
    "import matplotlib.pyplot as plt\n",
    "import seaborn as sns"
   ]
  },
  {
   "cell_type": "code",
   "execution_count": 3,
   "id": "97caa139-bb8c-4e66-8ddb-5de7ee9c99e0",
   "metadata": {},
   "outputs": [
    {
     "name": "stderr",
     "output_type": "stream",
     "text": [
      "Importing plotly failed. Interactive plots will not work.\n"
     ]
    }
   ],
   "source": [
    "from prophet import Prophet"
   ]
  },
  {
   "cell_type": "code",
   "execution_count": 4,
   "id": "aee4a983-7cba-47ff-aa70-2ba904c5a773",
   "metadata": {},
   "outputs": [],
   "source": [
    "from sklearn.metrics import mean_squared_error, mean_absolute_error"
   ]
  },
  {
   "cell_type": "code",
   "execution_count": 5,
   "id": "42cc8acb-cbef-44e9-b4bb-c1006e6b2147",
   "metadata": {},
   "outputs": [],
   "source": [
    "from statsmodels.tsa.arima.model import ARIMA\n",
    "from statsmodels.tsa.statespace.sarimax import SARIMAX"
   ]
  },
  {
   "cell_type": "code",
   "execution_count": 6,
   "id": "038f152a-6bad-4404-b3d9-8084d661ab5a",
   "metadata": {},
   "outputs": [],
   "source": [
    "from pmdarima import auto_arima"
   ]
  },
  {
   "cell_type": "code",
   "execution_count": 7,
   "id": "d6385358-1dd6-4de0-8b84-d583cb63a37c",
   "metadata": {},
   "outputs": [],
   "source": [
    "from statsmodels.tsa.seasonal import seasonal_decompose\n",
    "from statsmodels.tsa.stattools import adfuller\n",
    "from statsmodels.graphics.tsaplots import plot_acf, plot_pacf"
   ]
  },
  {
   "cell_type": "code",
   "execution_count": 8,
   "id": "010b37a5-25b4-4122-b13a-863b9de34555",
   "metadata": {},
   "outputs": [],
   "source": [
    "from sklearn.preprocessing import MinMaxScaler\n",
    "from tensorflow.keras.models import Sequential\n",
    "from tensorflow.keras.layers import LSTM, Dense, Dropout"
   ]
  },
  {
   "cell_type": "code",
   "execution_count": 9,
   "id": "9d7bf82f-1cbd-4d32-b41e-a44920a5e737",
   "metadata": {},
   "outputs": [],
   "source": [
    "import warnings\n",
    "warnings.filterwarnings(\"ignore\");"
   ]
  },
  {
   "cell_type": "markdown",
   "id": "9782ff75-c61f-4f3e-92cd-63114b61e28a",
   "metadata": {},
   "source": [
    "### Loading dataset"
   ]
  },
  {
   "cell_type": "code",
   "execution_count": 10,
   "id": "6aca759d-5d57-48ff-93cf-d0a253a1ddec",
   "metadata": {},
   "outputs": [],
   "source": [
    "df = pd.read_csv('purchases_monthly.csv')"
   ]
  },
  {
   "cell_type": "code",
   "execution_count": 11,
   "id": "036e5ad7-7672-4cac-b707-d46ac4d1bee8",
   "metadata": {},
   "outputs": [
    {
     "data": {
      "text/html": [
       "<div>\n",
       "<style scoped>\n",
       "    .dataframe tbody tr th:only-of-type {\n",
       "        vertical-align: middle;\n",
       "    }\n",
       "\n",
       "    .dataframe tbody tr th {\n",
       "        vertical-align: top;\n",
       "    }\n",
       "\n",
       "    .dataframe thead th {\n",
       "        text-align: right;\n",
       "    }\n",
       "</style>\n",
       "<table border=\"1\" class=\"dataframe\">\n",
       "  <thead>\n",
       "    <tr style=\"text-align: right;\">\n",
       "      <th></th>\n",
       "      <th>dim_product_sk</th>\n",
       "      <th>year_month</th>\n",
       "      <th>amount</th>\n",
       "      <th>quantity</th>\n",
       "      <th>year</th>\n",
       "      <th>month</th>\n",
       "    </tr>\n",
       "  </thead>\n",
       "  <tbody>\n",
       "    <tr>\n",
       "      <th>0</th>\n",
       "      <td>5</td>\n",
       "      <td>2019-01</td>\n",
       "      <td>4008.34</td>\n",
       "      <td>95.0</td>\n",
       "      <td>2019</td>\n",
       "      <td>1</td>\n",
       "    </tr>\n",
       "    <tr>\n",
       "      <th>1</th>\n",
       "      <td>5</td>\n",
       "      <td>2019-02</td>\n",
       "      <td>8282.05</td>\n",
       "      <td>197.0</td>\n",
       "      <td>2019</td>\n",
       "      <td>2</td>\n",
       "    </tr>\n",
       "    <tr>\n",
       "      <th>2</th>\n",
       "      <td>5</td>\n",
       "      <td>2019-03</td>\n",
       "      <td>5168.46</td>\n",
       "      <td>123.0</td>\n",
       "      <td>2019</td>\n",
       "      <td>3</td>\n",
       "    </tr>\n",
       "    <tr>\n",
       "      <th>3</th>\n",
       "      <td>5</td>\n",
       "      <td>2019-04</td>\n",
       "      <td>3659.85</td>\n",
       "      <td>87.0</td>\n",
       "      <td>2019</td>\n",
       "      <td>4</td>\n",
       "    </tr>\n",
       "    <tr>\n",
       "      <th>4</th>\n",
       "      <td>5</td>\n",
       "      <td>2019-05</td>\n",
       "      <td>6643.27</td>\n",
       "      <td>158.0</td>\n",
       "      <td>2019</td>\n",
       "      <td>5</td>\n",
       "    </tr>\n",
       "  </tbody>\n",
       "</table>\n",
       "</div>"
      ],
      "text/plain": [
       "   dim_product_sk year_month   amount  quantity  year  month\n",
       "0               5    2019-01  4008.34      95.0  2019      1\n",
       "1               5    2019-02  8282.05     197.0  2019      2\n",
       "2               5    2019-03  5168.46     123.0  2019      3\n",
       "3               5    2019-04  3659.85      87.0  2019      4\n",
       "4               5    2019-05  6643.27     158.0  2019      5"
      ]
     },
     "execution_count": 11,
     "metadata": {},
     "output_type": "execute_result"
    }
   ],
   "source": [
    "df.head()"
   ]
  },
  {
   "cell_type": "markdown",
   "id": "2c48826b-76af-439b-ad4c-e678c2bbdb96",
   "metadata": {},
   "source": [
    "### Data information"
   ]
  },
  {
   "cell_type": "code",
   "execution_count": 12,
   "id": "66952654-271a-4a66-9e02-4950f05fe378",
   "metadata": {},
   "outputs": [
    {
     "name": "stdout",
     "output_type": "stream",
     "text": [
      "<class 'pandas.core.frame.DataFrame'>\n",
      "RangeIndex: 180831 entries, 0 to 180830\n",
      "Data columns (total 6 columns):\n",
      " #   Column          Non-Null Count   Dtype  \n",
      "---  ------          --------------   -----  \n",
      " 0   dim_product_sk  180831 non-null  int64  \n",
      " 1   year_month      180831 non-null  object \n",
      " 2   amount          180831 non-null  float64\n",
      " 3   quantity        180831 non-null  float64\n",
      " 4   year            180831 non-null  int64  \n",
      " 5   month           180831 non-null  int64  \n",
      "dtypes: float64(2), int64(3), object(1)\n",
      "memory usage: 8.3+ MB\n"
     ]
    }
   ],
   "source": [
    "df.info()"
   ]
  },
  {
   "cell_type": "markdown",
   "id": "85431547-0eea-4c46-adf6-44b3c0cbe9da",
   "metadata": {},
   "source": [
    "### Data Cleaning"
   ]
  },
  {
   "cell_type": "markdown",
   "id": "d3dd3467-88f1-452e-aae6-9f669fd2189e",
   "metadata": {},
   "source": [
    "### Check for missing values"
   ]
  },
  {
   "cell_type": "code",
   "execution_count": 13,
   "id": "509adc26-5385-4e6c-8f41-d6e8397612f2",
   "metadata": {},
   "outputs": [
    {
     "name": "stdout",
     "output_type": "stream",
     "text": [
      "Number of rows with missing values: \n",
      "dim_product_sk    0\n",
      "year_month        0\n",
      "amount            0\n",
      "quantity          0\n",
      "year              0\n",
      "month             0\n",
      "dtype: int64\n"
     ]
    }
   ],
   "source": [
    "print(f\"Number of rows with missing values: \\n{df.isna().sum()}\")"
   ]
  },
  {
   "cell_type": "markdown",
   "id": "b7c7dba1-71d3-4437-a733-3d85928161fd",
   "metadata": {},
   "source": [
    "### Check for duplicate values"
   ]
  },
  {
   "cell_type": "code",
   "execution_count": 14,
   "id": "d3c84b48-ed52-4d04-a1d0-06bc3fb65d14",
   "metadata": {},
   "outputs": [
    {
     "name": "stdout",
     "output_type": "stream",
     "text": [
      "Number of duplicate rows: 0\n"
     ]
    }
   ],
   "source": [
    "print(f\"Number of duplicate rows: {df.duplicated().sum()}\")"
   ]
  },
  {
   "cell_type": "markdown",
   "id": "89e89b07-e819-4b10-a133-0a4daa0c74c8",
   "metadata": {},
   "source": [
    "### Check for negative values"
   ]
  },
  {
   "cell_type": "code",
   "execution_count": 15,
   "id": "1caa7966-eb84-426d-999f-32404ad381d3",
   "metadata": {},
   "outputs": [
    {
     "name": "stdout",
     "output_type": "stream",
     "text": [
      "Negative quantity rows: 0\n",
      "Negative amount rows: 0\n"
     ]
    }
   ],
   "source": [
    "print(f\"Negative quantity rows: {(df['quantity'] < 0).sum()}\")\n",
    "print(f\"Negative amount rows: {(df['amount'] < 0).sum()}\")"
   ]
  },
  {
   "cell_type": "markdown",
   "id": "bc73384a-6763-4bde-8510-72ec57e2765a",
   "metadata": {},
   "source": [
    "### Univariate analysis"
   ]
  },
  {
   "cell_type": "markdown",
   "id": "2b2fcc72-669c-4edc-a812-7762ee378e1f",
   "metadata": {},
   "source": [
    "### Unique products"
   ]
  },
  {
   "cell_type": "code",
   "execution_count": 16,
   "id": "18017328-4f43-40d7-adaa-691ca222991a",
   "metadata": {},
   "outputs": [
    {
     "name": "stdout",
     "output_type": "stream",
     "text": [
      "Unique SK Products : 2289\n"
     ]
    }
   ],
   "source": [
    "print(f\"Unique SK Products : {df['dim_product_sk'].nunique()}\")"
   ]
  },
  {
   "cell_type": "markdown",
   "id": "a72f30e2-5c73-4518-800d-90fe28c63b53",
   "metadata": {},
   "source": [
    "### Monthly sold quantity"
   ]
  },
  {
   "cell_type": "code",
   "execution_count": 17,
   "id": "f963fbb8-ba19-407a-8a8b-28dea0ee905f",
   "metadata": {},
   "outputs": [
    {
     "data": {
      "text/plain": [
       "<Axes: xlabel='month'>"
      ]
     },
     "execution_count": 17,
     "metadata": {},
     "output_type": "execute_result"
    },
    {
     "data": {
      "image/png": "[encoded data removed]",
      "text/plain": [
       "<Figure size 800x400 with 1 Axes>"
      ]
     },
     "metadata": {},
     "output_type": "display_data"
    }
   ],
   "source": [
    "df.groupby('month')['quantity'].mean().plot(kind=\"bar\", figsize=(8, 4))"
   ]
  },
  {
   "cell_type": "markdown",
   "id": "f627c4a7-fd0a-40f2-888f-d9da6dc3fcfa",
   "metadata": {},
   "source": [
    "### Monthly sold amount"
   ]
  },
  {
   "cell_type": "code",
   "execution_count": 18,
   "id": "2bdb643c-ca70-4045-b01d-b4d69d0d4ac5",
   "metadata": {},
   "outputs": [
    {
     "data": {
      "text/plain": [
       "<Axes: xlabel='month'>"
      ]
     },
     "execution_count": 18,
     "metadata": {},
     "output_type": "execute_result"
    },
    {
     "data": {
      "image/png": "[encoded data removed]",
      "text/plain": [
       "<Figure size 800x400 with 1 Axes>"
      ]
     },
     "metadata": {},
     "output_type": "display_data"
    }
   ],
   "source": [
    "df.groupby('month')['amount'].mean().plot(kind=\"bar\", figsize=(8,4))"
   ]
  },
  {
   "cell_type": "markdown",
   "id": "298c8fb2-f50d-4e7f-82cc-51f41af08ff6",
   "metadata": {},
   "source": [
    "### Yearly sold quantity"
   ]
  },
  {
   "cell_type": "code",
   "execution_count": 19,
   "id": "5c19db25-70ff-4013-bd7d-4b77045e8618",
   "metadata": {},
   "outputs": [
    {
     "data": {
      "text/plain": [
       "<Axes: xlabel='year'>"
      ]
     },
     "execution_count": 19,
     "metadata": {},
     "output_type": "execute_result"
    },
    {
     "data": {
      "image/png": "[encoded data removed]",
      "text/plain": [
       "<Figure size 800x400 with 1 Axes>"
      ]
     },
     "metadata": {},
     "output_type": "display_data"
    }
   ],
   "source": [
    "df.groupby('year')['quantity'].mean().plot(kind='bar', figsize=(8,4))"
   ]
  },
  {
   "cell_type": "markdown",
   "id": "95fb1436-838b-4c14-afda-9a0475f6fdb8",
   "metadata": {},
   "source": [
    "### Yearly sold amount"
   ]
  },
  {
   "cell_type": "code",
   "execution_count": 20,
   "id": "3d38cb40-c71c-41d8-8402-4c299b9a2cd2",
   "metadata": {},
   "outputs": [
    {
     "data": {
      "text/plain": [
       "<Axes: xlabel='year'>"
      ]
     },
     "execution_count": 20,
     "metadata": {},
     "output_type": "execute_result"
    },
    {
     "data": {
      "image/png": "[encoded data removed]",
      "text/plain": [
       "<Figure size 800x400 with 1 Axes>"
      ]
     },
     "metadata": {},
     "output_type": "display_data"
    }
   ],
   "source": [
    "df.groupby('year')['amount'].mean().plot(kind='bar', figsize=(8,4))"
   ]
  },
  {
   "cell_type": "markdown",
   "id": "b6f82e32-b650-48eb-81f8-fa7e1c20d532",
   "metadata": {},
   "source": [
    "### Decomposition"
   ]
  },
  {
   "cell_type": "code",
   "execution_count": 21,
   "id": "df79d4b5-9d50-4eb6-a398-b9f23b166d2d",
   "metadata": {},
   "outputs": [],
   "source": [
    "df['year_month'] = pd.to_datetime(df['year_month'])"
   ]
  },
  {
   "cell_type": "markdown",
   "id": "59583c7e-b377-4b5f-8b4a-1e196012d3d0",
   "metadata": {},
   "source": [
    "### Visualizing for trends"
   ]
  },
  {
   "cell_type": "code",
   "execution_count": 22,
   "id": "df090531-a2a6-4311-ad56-cc354d848874",
   "metadata": {},
   "outputs": [],
   "source": [
    "df_trends = df.groupby('year_month')['quantity'].sum()"
   ]
  },
  {
   "cell_type": "code",
   "execution_count": 23,
   "id": "994aac60-26a3-4c05-b79e-5d9dc729a87e",
   "metadata": {},
   "outputs": [
    {
     "data": {
      "image/png": "[encoded data removed]",
      "text/plain": [
       "<Figure size 800x400 with 1 Axes>"
      ]
     },
     "metadata": {},
     "output_type": "display_data"
    }
   ],
   "source": [
    "plt.figure(figsize=(8,4))\n",
    "plt.plot(df_trends.index, df_trends.values, label=\"Quantity sold\", marker = 'o')\n",
    "plt.title('Monthly total quantity sold - Trends')\n",
    "plt.xlabel('Date')\n",
    "plt.ylabel('Total quantity')\n",
    "plt.tight_layout()\n",
    "plt.show()"
   ]
  },
  {
   "cell_type": "markdown",
   "id": "d31ba88e-15da-49bf-83e3-5b79816b0bf4",
   "metadata": {},
   "source": [
    "### Visualizing for seasonality"
   ]
  },
  {
   "cell_type": "code",
   "execution_count": 24,
   "id": "cc5f9199-c7ec-4cc0-b8e0-11a3dfe69740",
   "metadata": {},
   "outputs": [],
   "source": [
    "df_seasonality = df.groupby('month')['quantity'].mean()"
   ]
  },
  {
   "cell_type": "code",
   "execution_count": 25,
   "id": "9a24d25e-f8b1-4d4a-8486-d71fee39f5db",
   "metadata": {},
   "outputs": [
    {
     "data": {
      "image/png": "[encoded data removed]",
      "text/plain": [
       "<Figure size 800x400 with 1 Axes>"
      ]
     },
     "metadata": {},
     "output_type": "display_data"
    }
   ],
   "source": [
    "plt.figure(figsize=(8, 4))\n",
    "plt.plot(df_seasonality.index, df_seasonality.values, marker='o', label='Quantity sold')\n",
    "plt.title('Average monthly quantity')\n",
    "plt.xlabel('Month')\n",
    "plt.ylabel('Average Quantity')\n",
    "plt.tight_layout()\n",
    "plt.show()"
   ]
  },
  {
   "cell_type": "markdown",
   "id": "3e0b71c7-16eb-488c-9893-010040bb007a",
   "metadata": {},
   "source": [
    "### Visualizing noise"
   ]
  },
  {
   "cell_type": "code",
   "execution_count": 26,
   "id": "f45c6631-1f6f-4987-a483-8f95fa9a41d9",
   "metadata": {},
   "outputs": [],
   "source": [
    "df_ts_decomposition = seasonal_decompose(df['quantity'], model='additive', period=12)"
   ]
  },
  {
   "cell_type": "code",
   "execution_count": 27,
   "id": "29630787-d00c-431e-9e41-32df64dcf383",
   "metadata": {},
   "outputs": [
    {
     "data": {
      "image/png": "[encoded data removed]",
      "text/plain": [
       "<Figure size 800x400 with 1 Axes>"
      ]
     },
     "metadata": {},
     "output_type": "display_data"
    }
   ],
   "source": [
    "plt.figure(figsize=(8,4))\n",
    "residuals = df_ts_decomposition.resid\n",
    "reisduals = residuals.dropna()\n",
    "plt.plot(residuals.index, residuals, label=\"Noise\", marker='o')\n",
    "plt.tight_layout()\n",
    "plt.xlabel('No. of rows')\n",
    "plt.ylabel('Quantity')\n",
    "plt.show()"
   ]
  },
  {
   "cell_type": "markdown",
   "id": "daad612d-444a-422a-9366-3afc375213b6",
   "metadata": {},
   "source": [
    "## ADF test"
   ]
  },
  {
   "cell_type": "code",
   "execution_count": 28,
   "id": "e12be0ea-27cb-40e2-ab1f-79c5bad9fabf",
   "metadata": {},
   "outputs": [],
   "source": [
    "df_monthly = df.groupby('year_month')['quantity'].sum()"
   ]
  },
  {
   "cell_type": "code",
   "execution_count": 29,
   "id": "75488100-1da1-4676-9954-f8d9ae52f9c7",
   "metadata": {},
   "outputs": [],
   "source": [
    "adftest_result = adfuller(df_monthly)"
   ]
  },
  {
   "cell_type": "code",
   "execution_count": 30,
   "id": "a82da1df-0e1d-478f-af53-7c15bebc8a79",
   "metadata": {},
   "outputs": [
    {
     "name": "stdout",
     "output_type": "stream",
     "text": [
      "ADF Test on monthly quantity \n",
      "\n",
      "ADF Test Statistic: -6.77095996513049\n",
      "p-value: , 0.0000000026\n",
      "Lags Used: 0\n",
      "Number of Observations: 78\n",
      "Critical Values:\n",
      "   1%: -3.517\n",
      "   5%: -2.899\n",
      "   10%: -2.587\n",
      "Series is stationary - reject null hypothesis\n"
     ]
    }
   ],
   "source": [
    "print('ADF Test on monthly quantity \\n')\n",
    "print(\"ADF Test Statistic:\", adftest_result[0])\n",
    "print(f\"p-value: , {adftest_result[1]:.10f}\")\n",
    "print(\"Lags Used:\", adftest_result[2])\n",
    "print(\"Number of Observations:\", adftest_result[3])\n",
    "\n",
    "print(\"Critical Values:\")\n",
    "for key, value in adftest_result[4].items():\n",
    "    print(f\"   {key}: {value:.3f}\")\n",
    "\n",
    "if adftest_result[1] <= 0.05:\n",
    "    print(\"Series is stationary - reject null hypothesis\")\n",
    "else:\n",
    "    print(\"Series is non-stationary - (fail to reject null hypothesis)\")"
   ]
  },
  {
   "cell_type": "markdown",
   "id": "3ccfdb8b-8439-40c1-a6cd-0da72affaa41",
   "metadata": {},
   "source": [
    "### Autocorrelation function test"
   ]
  },
  {
   "cell_type": "code",
   "execution_count": 31,
   "id": "62e7f843-9eea-4349-8cbb-e3ddd06655b9",
   "metadata": {},
   "outputs": [
    {
     "data": {
      "text/plain": [
       "<Figure size 800x400 with 0 Axes>"
      ]
     },
     "metadata": {},
     "output_type": "display_data"
    },
    {
     "data": {
      "image/png": "[encoded data removed]",
      "text/plain": [
       "<Figure size 640x480 with 1 Axes>"
      ]
     },
     "metadata": {},
     "output_type": "display_data"
    }
   ],
   "source": [
    "plt.figure(figsize=(8, 4))\n",
    "plot_acf(df_monthly, lags=36)\n",
    "plt.title(\"Autocorrelation - Quantity\")\n",
    "plt.show()"
   ]
  },
  {
   "cell_type": "markdown",
   "id": "efc8b087-f911-40e6-b13e-2fd83e8dc066",
   "metadata": {},
   "source": [
    "### Partial autocorrelation function test"
   ]
  },
  {
   "cell_type": "code",
   "execution_count": 32,
   "id": "defd5281-4e19-441b-a1a2-1cf83ac0dff3",
   "metadata": {},
   "outputs": [
    {
     "data": {
      "text/plain": [
       "<Figure size 800x400 with 0 Axes>"
      ]
     },
     "metadata": {},
     "output_type": "display_data"
    },
    {
     "data": {
      "image/png": "[encoded data removed]",
      "text/plain": [
       "<Figure size 640x480 with 1 Axes>"
      ]
     },
     "metadata": {},
     "output_type": "display_data"
    }
   ],
   "source": [
    "plt.figure(figsize=(8, 4))\n",
    "plot_pacf(df_monthly, lags=36)\n",
    "plt.title(\"Autocorrelation - Quantity\")\n",
    "plt.show()"
   ]
  },
  {
   "cell_type": "markdown",
   "id": "c06162e5-e062-4799-a04c-914584781a85",
   "metadata": {},
   "source": [
    "# Prophet model\n",
    "Prophet model is designed as a univariate time series forecasting. We have one datetime column and one target column."
   ]
  },
  {
   "cell_type": "markdown",
   "id": "fb068774-0f4a-435f-bb7e-c7e5b0eda981",
   "metadata": {},
   "source": [
    "### Feauture selection for Prophet model"
   ]
  },
  {
   "cell_type": "code",
   "execution_count": 33,
   "id": "924ae43e-0589-4b49-a6d8-b2197ea614bf",
   "metadata": {},
   "outputs": [],
   "source": [
    "df_for_prophet = df.drop(columns=['year', 'month', 'dim_product_sk', 'amount'], axis=1)"
   ]
  },
  {
   "cell_type": "code",
   "execution_count": 34,
   "id": "679245d2-9845-40a8-83bc-5cc7163a9603",
   "metadata": {},
   "outputs": [
    {
     "data": {
      "text/html": [
       "<div>\n",
       "<style scoped>\n",
       "    .dataframe tbody tr th:only-of-type {\n",
       "        vertical-align: middle;\n",
       "    }\n",
       "\n",
       "    .dataframe tbody tr th {\n",
       "        vertical-align: top;\n",
       "    }\n",
       "\n",
       "    .dataframe thead th {\n",
       "        text-align: right;\n",
       "    }\n",
       "</style>\n",
       "<table border=\"1\" class=\"dataframe\">\n",
       "  <thead>\n",
       "    <tr style=\"text-align: right;\">\n",
       "      <th></th>\n",
       "      <th>year_month</th>\n",
       "      <th>quantity</th>\n",
       "    </tr>\n",
       "  </thead>\n",
       "  <tbody>\n",
       "    <tr>\n",
       "      <th>0</th>\n",
       "      <td>2019-01-01</td>\n",
       "      <td>95.0</td>\n",
       "    </tr>\n",
       "    <tr>\n",
       "      <th>1</th>\n",
       "      <td>2019-02-01</td>\n",
       "      <td>197.0</td>\n",
       "    </tr>\n",
       "    <tr>\n",
       "      <th>2</th>\n",
       "      <td>2019-03-01</td>\n",
       "      <td>123.0</td>\n",
       "    </tr>\n",
       "    <tr>\n",
       "      <th>3</th>\n",
       "      <td>2019-04-01</td>\n",
       "      <td>87.0</td>\n",
       "    </tr>\n",
       "    <tr>\n",
       "      <th>4</th>\n",
       "      <td>2019-05-01</td>\n",
       "      <td>158.0</td>\n",
       "    </tr>\n",
       "  </tbody>\n",
       "</table>\n",
       "</div>"
      ],
      "text/plain": [
       "  year_month  quantity\n",
       "0 2019-01-01      95.0\n",
       "1 2019-02-01     197.0\n",
       "2 2019-03-01     123.0\n",
       "3 2019-04-01      87.0\n",
       "4 2019-05-01     158.0"
      ]
     },
     "execution_count": 34,
     "metadata": {},
     "output_type": "execute_result"
    }
   ],
   "source": [
    "df_for_prophet.head()"
   ]
  },
  {
   "cell_type": "markdown",
   "id": "40f482a8-8f62-4c3b-a114-31ed59b34ad6",
   "metadata": {},
   "source": [
    "### Grouping\n",
    "Grouping quantites of all products by months."
   ]
  },
  {
   "cell_type": "code",
   "execution_count": 35,
   "id": "c3323685-a44f-4ef2-a269-e75ad5aa4faa",
   "metadata": {},
   "outputs": [],
   "source": [
    "df_final = (\n",
    "    df_for_prophet.groupby('year_month', as_index=False).agg({'quantity': 'sum'})\n",
    ")"
   ]
  },
  {
   "cell_type": "code",
   "execution_count": 36,
   "id": "19edaa37-fea4-41f2-96bd-d2ce9099ab1b",
   "metadata": {},
   "outputs": [],
   "source": [
    "df_for_prophet = df_final.copy()"
   ]
  },
  {
   "cell_type": "code",
   "execution_count": 37,
   "id": "67c7774a-b350-4c1d-a673-7704a2757e57",
   "metadata": {},
   "outputs": [
    {
     "data": {
      "text/html": [
       "<div>\n",
       "<style scoped>\n",
       "    .dataframe tbody tr th:only-of-type {\n",
       "        vertical-align: middle;\n",
       "    }\n",
       "\n",
       "    .dataframe tbody tr th {\n",
       "        vertical-align: top;\n",
       "    }\n",
       "\n",
       "    .dataframe thead th {\n",
       "        text-align: right;\n",
       "    }\n",
       "</style>\n",
       "<table border=\"1\" class=\"dataframe\">\n",
       "  <thead>\n",
       "    <tr style=\"text-align: right;\">\n",
       "      <th></th>\n",
       "      <th>year_month</th>\n",
       "      <th>quantity</th>\n",
       "    </tr>\n",
       "  </thead>\n",
       "  <tbody>\n",
       "    <tr>\n",
       "      <th>0</th>\n",
       "      <td>2019-01-01</td>\n",
       "      <td>165313.0</td>\n",
       "    </tr>\n",
       "    <tr>\n",
       "      <th>1</th>\n",
       "      <td>2019-02-01</td>\n",
       "      <td>140022.0</td>\n",
       "    </tr>\n",
       "    <tr>\n",
       "      <th>2</th>\n",
       "      <td>2019-03-01</td>\n",
       "      <td>126374.0</td>\n",
       "    </tr>\n",
       "    <tr>\n",
       "      <th>3</th>\n",
       "      <td>2019-04-01</td>\n",
       "      <td>172013.0</td>\n",
       "    </tr>\n",
       "    <tr>\n",
       "      <th>4</th>\n",
       "      <td>2019-05-01</td>\n",
       "      <td>312183.0</td>\n",
       "    </tr>\n",
       "  </tbody>\n",
       "</table>\n",
       "</div>"
      ],
      "text/plain": [
       "  year_month  quantity\n",
       "0 2019-01-01  165313.0\n",
       "1 2019-02-01  140022.0\n",
       "2 2019-03-01  126374.0\n",
       "3 2019-04-01  172013.0\n",
       "4 2019-05-01  312183.0"
      ]
     },
     "execution_count": 37,
     "metadata": {},
     "output_type": "execute_result"
    }
   ],
   "source": [
    "df_for_prophet.head(5)"
   ]
  },
  {
   "cell_type": "code",
   "execution_count": 38,
   "id": "278694b0-3fa9-493a-a95a-89c43a4d70ad",
   "metadata": {},
   "outputs": [],
   "source": [
    "df_for_prophet['year_month'] = pd.to_datetime(df_for_prophet['year_month'])"
   ]
  },
  {
   "cell_type": "markdown",
   "id": "d86f10c7-f66f-4f4b-9716-99e13f743e35",
   "metadata": {},
   "source": [
    "### Changing column names"
   ]
  },
  {
   "cell_type": "code",
   "execution_count": 39,
   "id": "d967cd06-7ade-4d69-ad28-88b87c16437b",
   "metadata": {},
   "outputs": [],
   "source": [
    "df_for_prophet = df_for_prophet[['year_month', 'quantity']].rename(columns={'year_month':'ds', 'quantity' : 'y'})"
   ]
  },
  {
   "cell_type": "code",
   "execution_count": 40,
   "id": "8c1a4130-67fe-4f8c-b31a-4c23d9ff724c",
   "metadata": {},
   "outputs": [
    {
     "data": {
      "text/html": [
       "<div>\n",
       "<style scoped>\n",
       "    .dataframe tbody tr th:only-of-type {\n",
       "        vertical-align: middle;\n",
       "    }\n",
       "\n",
       "    .dataframe tbody tr th {\n",
       "        vertical-align: top;\n",
       "    }\n",
       "\n",
       "    .dataframe thead th {\n",
       "        text-align: right;\n",
       "    }\n",
       "</style>\n",
       "<table border=\"1\" class=\"dataframe\">\n",
       "  <thead>\n",
       "    <tr style=\"text-align: right;\">\n",
       "      <th></th>\n",
       "      <th>ds</th>\n",
       "      <th>y</th>\n",
       "    </tr>\n",
       "  </thead>\n",
       "  <tbody>\n",
       "    <tr>\n",
       "      <th>0</th>\n",
       "      <td>2019-01-01</td>\n",
       "      <td>165313.0</td>\n",
       "    </tr>\n",
       "    <tr>\n",
       "      <th>1</th>\n",
       "      <td>2019-02-01</td>\n",
       "      <td>140022.0</td>\n",
       "    </tr>\n",
       "  </tbody>\n",
       "</table>\n",
       "</div>"
      ],
      "text/plain": [
       "          ds         y\n",
       "0 2019-01-01  165313.0\n",
       "1 2019-02-01  140022.0"
      ]
     },
     "execution_count": 40,
     "metadata": {},
     "output_type": "execute_result"
    }
   ],
   "source": [
    "df_for_prophet.head(2)"
   ]
  },
  {
   "cell_type": "markdown",
   "id": "e76df0cc-ff55-47c0-a848-9b1bebd23c8f",
   "metadata": {},
   "source": [
    "### Train test split"
   ]
  },
  {
   "cell_type": "code",
   "execution_count": 41,
   "id": "b919849f-4a65-4648-9495-4cdc7e7ce6a8",
   "metadata": {},
   "outputs": [],
   "source": [
    "H = 12 # 12 months "
   ]
  },
  {
   "cell_type": "code",
   "execution_count": 42,
   "id": "71b5ee9a-02c7-4fe0-a286-6a84c1d60632",
   "metadata": {},
   "outputs": [],
   "source": [
    "train = df_for_prophet.iloc[:-H].copy()\n",
    "test = df_for_prophet.iloc[-H:].copy()"
   ]
  },
  {
   "cell_type": "markdown",
   "id": "d7b45a97-b765-404c-a511-9c91114f0ccf",
   "metadata": {},
   "source": [
    "### Defining model"
   ]
  },
  {
   "cell_type": "code",
   "execution_count": 43,
   "id": "488eed84-2c88-4804-97ff-256ea3a0414c",
   "metadata": {},
   "outputs": [],
   "source": [
    "prophet_model = Prophet(\n",
    "    growth='linear',\n",
    "    yearly_seasonality=True,\n",
    "    weekly_seasonality=False,\n",
    "    daily_seasonality=False,\n",
    "    changepoint_prior_scale=0.05,\n",
    "    interval_width=0.80    \n",
    ")"
   ]
  },
  {
   "cell_type": "markdown",
   "id": "e9701298-f2a1-48db-b851-171429477bc2",
   "metadata": {},
   "source": [
    "### Fitting model"
   ]
  },
  {
   "cell_type": "code",
   "execution_count": 44,
   "id": "b4a8bbbd-beb6-4555-8570-e5834b194283",
   "metadata": {},
   "outputs": [
    {
     "name": "stderr",
     "output_type": "stream",
     "text": [
      "16:21:58 - cmdstanpy - INFO - Chain [1] start processing\n",
      "16:21:59 - cmdstanpy - INFO - Chain [1] done processing\n"
     ]
    },
    {
     "data": {
      "text/plain": [
       "<prophet.forecaster.Prophet at 0x1aba3e2db80>"
      ]
     },
     "execution_count": 44,
     "metadata": {},
     "output_type": "execute_result"
    }
   ],
   "source": [
    "prophet_model.fit(train)"
   ]
  },
  {
   "cell_type": "markdown",
   "id": "b6304a5b-c8ed-42f6-a771-c07b19e12851",
   "metadata": {},
   "source": [
    "### Forecasting"
   ]
  },
  {
   "cell_type": "code",
   "execution_count": 45,
   "id": "551d558a-33d6-4129-bc27-a5a798b258fe",
   "metadata": {},
   "outputs": [],
   "source": [
    "future = prophet_model.make_future_dataframe(periods=H, freq='MS')"
   ]
  },
  {
   "cell_type": "code",
   "execution_count": 46,
   "id": "acf26597-b45d-4e5c-b56e-34d3768d4d9f",
   "metadata": {},
   "outputs": [],
   "source": [
    "forecast = prophet_model.predict(future)"
   ]
  },
  {
   "cell_type": "markdown",
   "id": "fcbadb18-f1cf-4330-b2a4-287cc03db8e7",
   "metadata": {},
   "source": [
    "### Model Evaluation"
   ]
  },
  {
   "cell_type": "code",
   "execution_count": 47,
   "id": "dd4831c1-c259-4367-a717-8a1e378ad70d",
   "metadata": {},
   "outputs": [],
   "source": [
    "pred_vs_actual = forecast.set_index('ds')[['yhat', 'yhat_lower', 'yhat_upper']].join(df_for_prophet.set_index('ds')['y'])"
   ]
  },
  {
   "cell_type": "code",
   "execution_count": 48,
   "id": "308bd33b-c393-4e5e-ac9d-fb647d9a0050",
   "metadata": {},
   "outputs": [],
   "source": [
    "pred_test = pred_vs_actual.loc[test['ds']]"
   ]
  },
  {
   "cell_type": "code",
   "execution_count": 49,
   "id": "ad42e9c6-08ab-497e-8591-0d4aa7966b89",
   "metadata": {},
   "outputs": [],
   "source": [
    "y_true = pred_test['y'].values"
   ]
  },
  {
   "cell_type": "code",
   "execution_count": 50,
   "id": "41c4d711-cd12-4946-95ff-14ce16417708",
   "metadata": {},
   "outputs": [],
   "source": [
    "y_pred  = pred_test['yhat'].values"
   ]
  },
  {
   "cell_type": "code",
   "execution_count": 51,
   "id": "2af9a92f-2abf-4764-835f-da009583113f",
   "metadata": {},
   "outputs": [],
   "source": [
    "prophet_mae  = mean_absolute_error(y_true, y_pred)\n",
    "prophet_mse = mean_squared_error(y_true, y_pred)\n",
    "prophet_rmse = math.sqrt(prophet_mse)\n",
    "prophet_mape = (np.abs((y_true - y_pred) / y_true).mean() * 100)\n",
    "prophet_accuracy = 100-prophet_mape"
   ]
  },
  {
   "cell_type": "code",
   "execution_count": 52,
   "id": "7c03d324-1ab8-4ddd-ba85-a5bbc8143195",
   "metadata": {},
   "outputs": [
    {
     "name": "stdout",
     "output_type": "stream",
     "text": [
      "\n",
      "Model Evaluation\n",
      "\n",
      "MAE:  31,128.04\n",
      "MSE:  1,720,680,607.96\n",
      "RMSE: 41,481.09\n",
      "MAPE: 24.29%\n",
      "Accuracy: 75.71%\n"
     ]
    }
   ],
   "source": [
    "print(\"\\nModel Evaluation\\n\")\n",
    "print(f\"MAE:  {prophet_mae:,.2f}\")\n",
    "print(f\"MSE:  {prophet_mse:,.2f}\")\n",
    "print(f\"RMSE: {prophet_rmse:,.2f}\")\n",
    "print(f\"MAPE: {prophet_mape:.2f}%\")\n",
    "print(f\"Accuracy: {prophet_accuracy:.2f}%\")"
   ]
  },
  {
   "cell_type": "markdown",
   "id": "f76e8dfb-e4d0-4dff-a409-1d1aaed11631",
   "metadata": {},
   "source": [
    "### Final Forecasting"
   ]
  },
  {
   "cell_type": "code",
   "execution_count": 53,
   "id": "1676008d-4640-4993-b887-e6836e8759f0",
   "metadata": {},
   "outputs": [
    {
     "data": {
      "image/png": "[encoded data removed]",
      "text/plain": [
       "<Figure size 1000x600 with 1 Axes>"
      ]
     },
     "metadata": {},
     "output_type": "display_data"
    }
   ],
   "source": [
    "fig1 = prophet_model.plot(forecast)\n",
    "plt.title('Final Forecast')\n",
    "plt.show()"
   ]
  },
  {
   "cell_type": "code",
   "execution_count": 54,
   "id": "1a079276-7057-4aa7-9fab-c13e5acbccf9",
   "metadata": {},
   "outputs": [
    {
     "data": {
      "image/png": "[encoded data removed]",
      "text/plain": [
       "<Figure size 900x600 with 2 Axes>"
      ]
     },
     "metadata": {},
     "output_type": "display_data"
    }
   ],
   "source": [
    "fig2 = prophet_model.plot_components(forecast)\n",
    "plt.show()"
   ]
  },
  {
   "cell_type": "markdown",
   "id": "b61c2bfc-f899-4597-abcc-c48e8b2ee7ff",
   "metadata": {},
   "source": [
    "### Forecasting 2026"
   ]
  },
  {
   "cell_type": "code",
   "execution_count": 55,
   "id": "a82b7418-a9e2-4815-ae09-46fc45e940a0",
   "metadata": {},
   "outputs": [],
   "source": [
    "future = prophet_model.make_future_dataframe(periods=24, freq='MS')"
   ]
  },
  {
   "cell_type": "code",
   "execution_count": 56,
   "id": "55b77f4b-cf25-417a-a792-bada4d6a005c",
   "metadata": {},
   "outputs": [],
   "source": [
    "forecast = prophet_model.predict(future)"
   ]
  },
  {
   "cell_type": "code",
   "execution_count": 57,
   "id": "3a3e0fa1-809d-4aa3-b42f-c9828c863508",
   "metadata": {},
   "outputs": [
    {
     "name": "stdout",
     "output_type": "stream",
     "text": [
      "           ds           yhat     yhat_lower     yhat_upper\n",
      "84 2026-01-01  181254.911743  142773.109991  217702.211767\n",
      "85 2026-02-01  157476.423243  120296.294855  191563.419053\n",
      "86 2026-03-01  171449.858184  132123.953022  207410.985304\n",
      "87 2026-04-01  167382.470473  129716.641706  201881.699509\n",
      "88 2026-05-01  212909.217983  176409.659227  250638.487044\n",
      "89 2026-06-01  185536.430151  149145.471620  223680.812371\n",
      "90 2026-07-01  180846.744055  142319.156714  217113.694725\n"
     ]
    }
   ],
   "source": [
    "forecast_2026 = forecast[forecast['ds'].dt.year == 2026]\n",
    "print(forecast_2026[['ds', 'yhat', 'yhat_lower', 'yhat_upper']])"
   ]
  },
  {
   "cell_type": "code",
   "execution_count": 58,
   "id": "6218d7b2-fc6e-4b71-84a9-4e41f99ec37e",
   "metadata": {},
   "outputs": [
    {
     "data": {
      "image/png": "[encoded data removed]",
      "text/plain": [
       "<Figure size 1000x600 with 1 Axes>"
      ]
     },
     "metadata": {},
     "output_type": "display_data"
    }
   ],
   "source": [
    "fig = prophet_model.plot(forecast)\n",
    "plt.title(\"Quantity sold forecast up to 2026\")\n",
    "plt.xlabel(\"Date\")\n",
    "plt.ylabel(\"Quantity\")\n",
    "plt.show()"
   ]
  },
  {
   "cell_type": "markdown",
   "id": "ef27a02a-d68c-4578-9d7f-2ea3d1ca68ad",
   "metadata": {},
   "source": [
    "# ARIMA\n",
    "\n",
    "ARIMA for forecasting"
   ]
  },
  {
   "cell_type": "code",
   "execution_count": 59,
   "id": "3e66f7d2-0a18-4e40-b269-189a1b6af905",
   "metadata": {},
   "outputs": [],
   "source": [
    "df_arima = df_final.copy()"
   ]
  },
  {
   "cell_type": "markdown",
   "id": "8a3f8b7f-38ac-4dd8-bc82-28bf91466cc4",
   "metadata": {},
   "source": [
    "### Train test split"
   ]
  },
  {
   "cell_type": "code",
   "execution_count": 60,
   "id": "6205796f-e094-4a6a-a98e-489000581c32",
   "metadata": {},
   "outputs": [],
   "source": [
    "split = int(len(df_final) * 0.8) "
   ]
  },
  {
   "cell_type": "code",
   "execution_count": 61,
   "id": "ee5d9b86-b961-4a3a-bc99-375127e054b7",
   "metadata": {},
   "outputs": [],
   "source": [
    "train = df_arima['quantity'][:split]\n",
    "test = df_arima['quantity'][split:]"
   ]
  },
  {
   "cell_type": "code",
   "execution_count": 62,
   "id": "01f328c6-d42a-4396-a013-12a29b786c94",
   "metadata": {},
   "outputs": [
    {
     "name": "stdout",
     "output_type": "stream",
     "text": [
      "Training set: 63 observations\n",
      "Test set: 16 observations\n"
     ]
    }
   ],
   "source": [
    "print(f\"Training set: {len(train)} observations\")\n",
    "print(f\"Test set: {len(test)} observations\")"
   ]
  },
  {
   "cell_type": "markdown",
   "id": "0df0508f-06d2-4191-b1e4-292c7db80ed1",
   "metadata": {},
   "source": [
    "### Auto ARIMA"
   ]
  },
  {
   "cell_type": "code",
   "execution_count": 63,
   "id": "7ae5296d-bf50-45fb-88c0-502513b46bf3",
   "metadata": {},
   "outputs": [],
   "source": [
    "y = train"
   ]
  },
  {
   "cell_type": "code",
   "execution_count": 64,
   "id": "7fd37b75-37c2-47b2-b1d4-51964a910d79",
   "metadata": {},
   "outputs": [
    {
     "name": "stdout",
     "output_type": "stream",
     "text": [
      "Performing stepwise search to minimize aic\n",
      " ARIMA(0,1,0)(0,0,0)[0] intercept   : AIC=1513.845, Time=0.08 sec\n",
      " ARIMA(1,1,0)(0,0,0)[0] intercept   : AIC=1505.185, Time=0.05 sec\n",
      " ARIMA(0,1,1)(0,0,0)[0] intercept   : AIC=1502.215, Time=0.17 sec\n",
      " ARIMA(0,1,0)(0,0,0)[0]             : AIC=1511.868, Time=0.01 sec\n",
      " ARIMA(1,1,1)(0,0,0)[0] intercept   : AIC=inf, Time=0.14 sec\n",
      " ARIMA(0,1,2)(0,0,0)[0] intercept   : AIC=1507.293, Time=0.03 sec\n",
      " ARIMA(1,1,2)(0,0,0)[0] intercept   : AIC=1509.211, Time=0.06 sec\n",
      " ARIMA(0,1,1)(0,0,0)[0]             : AIC=1500.512, Time=0.01 sec\n",
      " ARIMA(1,1,1)(0,0,0)[0]             : AIC=1496.651, Time=0.03 sec\n",
      " ARIMA(1,1,0)(0,0,0)[0]             : AIC=1503.261, Time=0.01 sec\n",
      " ARIMA(2,1,1)(0,0,0)[0]             : AIC=inf, Time=0.08 sec\n",
      " ARIMA(1,1,2)(0,0,0)[0]             : AIC=inf, Time=0.10 sec\n",
      " ARIMA(0,1,2)(0,0,0)[0]             : AIC=inf, Time=0.06 sec\n",
      " ARIMA(2,1,0)(0,0,0)[0]             : AIC=1501.959, Time=0.01 sec\n",
      " ARIMA(2,1,2)(0,0,0)[0]             : AIC=inf, Time=0.13 sec\n",
      "\n",
      "Best model:  ARIMA(1,1,1)(0,0,0)[0]          \n",
      "Total fit time: 0.984 seconds\n"
     ]
    }
   ],
   "source": [
    "auto_model = auto_arima(\n",
    "    y,\n",
    "    start_p=0, start_q=0,\n",
    "    max_p=5, max_q=5, \n",
    "    d=1,           \n",
    "    seasonal=False,   \n",
    "    stepwise=True,\n",
    "    suppress_warnings=True,\n",
    "    error_action='ignore',\n",
    "    trace=True\n",
    ")"
   ]
  },
  {
   "cell_type": "code",
   "execution_count": 65,
   "id": "33bc664f-3850-4514-a80f-39f2b7a6c42a",
   "metadata": {},
   "outputs": [
    {
     "name": "stdout",
     "output_type": "stream",
     "text": [
      "Best model: (1, 1, 1)\n"
     ]
    }
   ],
   "source": [
    "print(f\"Best model: {auto_model.order}\")"
   ]
  },
  {
   "cell_type": "markdown",
   "id": "2f99628a-cb9a-4e57-96d7-e61660103c4b",
   "metadata": {},
   "source": [
    "### Final ARIMA model"
   ]
  },
  {
   "cell_type": "code",
   "execution_count": 66,
   "id": "8b533359-254c-49b0-b4c6-5932e1312f20",
   "metadata": {},
   "outputs": [],
   "source": [
    "best_order = auto_model.order"
   ]
  },
  {
   "cell_type": "code",
   "execution_count": 67,
   "id": "4d68ed46-e1ee-4725-bb97-7d700ec9f421",
   "metadata": {},
   "outputs": [],
   "source": [
    "final_model = ARIMA(y, order=best_order)"
   ]
  },
  {
   "cell_type": "markdown",
   "id": "34e84627-b8b8-4d34-8e48-2044353b6a42",
   "metadata": {},
   "source": [
    "### Fit ARIMA"
   ]
  },
  {
   "cell_type": "code",
   "execution_count": 68,
   "id": "1d81d5f2-d8a5-42f3-946c-4eb373d71d16",
   "metadata": {},
   "outputs": [],
   "source": [
    "arima_fitted = final_model.fit()"
   ]
  },
  {
   "cell_type": "markdown",
   "id": "0d43f5fa-8358-4c37-badf-0848a5d89257",
   "metadata": {},
   "source": [
    "### Summary of ARIMA"
   ]
  },
  {
   "cell_type": "code",
   "execution_count": 69,
   "id": "24f1570e-90e2-4d30-a882-a91164106285",
   "metadata": {},
   "outputs": [
    {
     "name": "stdout",
     "output_type": "stream",
     "text": [
      "                               SARIMAX Results                                \n",
      "==============================================================================\n",
      "Dep. Variable:               quantity   No. Observations:                   63\n",
      "Model:                 ARIMA(1, 1, 1)   Log Likelihood                -745.325\n",
      "Date:                Sat, 04 Oct 2025   AIC                           1496.651\n",
      "Time:                        16:22:02   BIC                           1503.032\n",
      "Sample:                             0   HQIC                          1499.156\n",
      "                                 - 63                                         \n",
      "Covariance Type:                  opg                                         \n",
      "==============================================================================\n",
      "                 coef    std err          z      P>|z|      [0.025      0.975]\n",
      "------------------------------------------------------------------------------\n",
      "ar.L1          0.3168      0.112      2.824      0.005       0.097       0.537\n",
      "ma.L1         -0.9794      0.069    -14.286      0.000      -1.114      -0.845\n",
      "sigma2      1.379e+09   4.92e-11    2.8e+19      0.000    1.38e+09    1.38e+09\n",
      "===================================================================================\n",
      "Ljung-Box (L1) (Q):                   0.09   Jarque-Bera (JB):                37.83\n",
      "Prob(Q):                              0.77   Prob(JB):                         0.00\n",
      "Heteroskedasticity (H):               0.36   Skew:                             0.62\n",
      "Prob(H) (two-sided):                  0.02   Kurtosis:                         6.62\n",
      "===================================================================================\n",
      "\n",
      "Warnings:\n",
      "[1] Covariance matrix calculated using the outer product of gradients (complex-step).\n",
      "[2] Covariance matrix is singular or near-singular, with condition number    inf. Standard errors may be unstable.\n"
     ]
    }
   ],
   "source": [
    "print(arima_fitted.summary())"
   ]
  },
  {
   "cell_type": "markdown",
   "id": "71902fa1-7ff6-4c5f-8489-9577688af1f0",
   "metadata": {},
   "source": [
    "### Forecast using ARIMA"
   ]
  },
  {
   "cell_type": "code",
   "execution_count": 70,
   "id": "8f234e84-5ae5-45d6-accc-bafd66999adf",
   "metadata": {},
   "outputs": [],
   "source": [
    "forecast = arima_fitted.forecast(steps=len(test))"
   ]
  },
  {
   "cell_type": "markdown",
   "id": "b3434f3b-8535-4bb9-8b5b-6e9b2ce6838f",
   "metadata": {},
   "source": [
    "### ARIMA model Evaluation"
   ]
  },
  {
   "cell_type": "code",
   "execution_count": 71,
   "id": "4c1c7231-b50f-4d8e-a6ca-accf8b99c96a",
   "metadata": {},
   "outputs": [],
   "source": [
    "arima_mae = mean_absolute_error(test, forecast)\n",
    "arima_mse = mean_squared_error(test, forecast)\n",
    "arima_rmse = np.sqrt(arima_mse)\n",
    "arima_mape = (np.abs((test - forecast) / test).mean() * 100)\n",
    "arima_accuracy = 100-arima_mape"
   ]
  },
  {
   "cell_type": "code",
   "execution_count": 72,
   "id": "75e1427a-a28b-4e35-a6c7-011bf06501c0",
   "metadata": {},
   "outputs": [
    {
     "name": "stdout",
     "output_type": "stream",
     "text": [
      "\n",
      "Model Evaluation: \n",
      "\n",
      "MAE:  23,346.82\n",
      "MSE:  856,831,771.52\n",
      "RMSE: 29,271.69\n",
      "MAPE: 16.51%\n",
      "Accuracy: 83.49%\n"
     ]
    }
   ],
   "source": [
    "print(\"\\nModel Evaluation: \\n\")\n",
    "print(f\"MAE:  {arima_mae:,.2f}\")\n",
    "print(f\"MSE:  {arima_mse:,.2f}\")\n",
    "print(f\"RMSE: {arima_rmse:,.2f}\")\n",
    "print(f\"MAPE: {arima_mape:.2f}%\")\n",
    "print(f\"Accuracy: {arima_accuracy:.2f}%\")"
   ]
  },
  {
   "cell_type": "markdown",
   "id": "7c1020c1-02c6-4f61-978a-393f1962cf12",
   "metadata": {},
   "source": [
    "# SARIMAX\n",
    "Forecasting with SARIMAX"
   ]
  },
  {
   "cell_type": "code",
   "execution_count": 73,
   "id": "df20339a-3a53-43fc-8fef-34310bcac09e",
   "metadata": {},
   "outputs": [],
   "source": [
    "df_sarimax = df_final.copy()\n",
    "df_sarimax['year_month'] = pd.to_datetime(df_sarimax['year_month'])\n",
    "df_sarimax = df_sarimax.set_index('year_month')"
   ]
  },
  {
   "cell_type": "markdown",
   "id": "117d5642-4fb6-4b58-9ef3-73b2965625a6",
   "metadata": {},
   "source": [
    "### Train Test Split"
   ]
  },
  {
   "cell_type": "code",
   "execution_count": 74,
   "id": "641cee04-8f02-4e09-a9aa-406839fb543d",
   "metadata": {},
   "outputs": [],
   "source": [
    "train = df_sarimax[:split]\n",
    "y_train = train['quantity']\n",
    "test = df_sarimax[split:]"
   ]
  },
  {
   "cell_type": "markdown",
   "id": "eff2788a-f82e-4840-bb64-722b77c6c1fa",
   "metadata": {},
   "source": [
    "### Auto Arima\n",
    "To find best order"
   ]
  },
  {
   "cell_type": "code",
   "execution_count": 75,
   "id": "aef58270-52e2-47aa-b193-a4ae828ac902",
   "metadata": {},
   "outputs": [
    {
     "name": "stdout",
     "output_type": "stream",
     "text": [
      "Performing stepwise search to minimize aic\n",
      " ARIMA(2,0,2)(1,0,1)[12] intercept   : AIC=inf, Time=0.88 sec\n",
      " ARIMA(0,0,0)(0,0,0)[12] intercept   : AIC=1510.382, Time=0.01 sec\n",
      " ARIMA(1,0,0)(1,0,0)[12] intercept   : AIC=1510.254, Time=0.08 sec\n",
      " ARIMA(0,0,1)(0,0,1)[12] intercept   : AIC=1509.305, Time=0.03 sec\n",
      " ARIMA(0,0,0)(0,0,0)[12]             : AIC=1699.318, Time=0.01 sec\n",
      " ARIMA(0,0,1)(0,0,0)[12] intercept   : AIC=1509.620, Time=0.04 sec\n",
      " ARIMA(0,0,1)(1,0,1)[12] intercept   : AIC=1511.235, Time=0.18 sec\n",
      " ARIMA(0,0,1)(0,0,2)[12] intercept   : AIC=1511.072, Time=0.06 sec\n",
      " ARIMA(0,0,1)(1,0,0)[12] intercept   : AIC=1511.442, Time=0.06 sec\n",
      " ARIMA(0,0,1)(1,0,2)[12] intercept   : AIC=1513.008, Time=0.12 sec\n",
      " ARIMA(0,0,0)(0,0,1)[12] intercept   : AIC=1508.878, Time=0.02 sec\n",
      " ARIMA(0,0,0)(1,0,1)[12] intercept   : AIC=1510.851, Time=0.18 sec\n",
      " ARIMA(0,0,0)(0,0,2)[12] intercept   : AIC=1510.874, Time=0.06 sec\n",
      " ARIMA(0,0,0)(1,0,0)[12] intercept   : AIC=1512.251, Time=0.07 sec\n",
      " ARIMA(0,0,0)(1,0,2)[12] intercept   : AIC=1512.847, Time=0.38 sec\n",
      " ARIMA(1,0,0)(0,0,1)[12] intercept   : AIC=1508.815, Time=0.05 sec\n",
      " ARIMA(1,0,0)(0,0,0)[12] intercept   : AIC=1509.131, Time=0.02 sec\n",
      " ARIMA(1,0,0)(1,0,1)[12] intercept   : AIC=1510.627, Time=0.52 sec\n",
      " ARIMA(1,0,0)(0,0,2)[12] intercept   : AIC=1510.445, Time=0.69 sec\n",
      " ARIMA(1,0,0)(1,0,2)[12] intercept   : AIC=1512.414, Time=0.99 sec\n",
      " ARIMA(2,0,0)(0,0,1)[12] intercept   : AIC=1510.627, Time=0.07 sec\n",
      " ARIMA(1,0,1)(0,0,1)[12] intercept   : AIC=1510.802, Time=0.11 sec\n",
      " ARIMA(2,0,1)(0,0,1)[12] intercept   : AIC=1512.655, Time=0.60 sec\n",
      " ARIMA(1,0,0)(0,0,1)[12]             : AIC=1541.430, Time=0.08 sec\n",
      "\n",
      "Best model:  ARIMA(1,0,0)(0,0,1)[12] intercept\n",
      "Total fit time: 5.350 seconds\n"
     ]
    }
   ],
   "source": [
    "model = auto_arima(\n",
    "    y_train,\n",
    "    seasonal = True,\n",
    "    m=12,\n",
    "    trace=True,\n",
    "    error_action='ignore',\n",
    "    suppress_warnings=True,\n",
    "    stepwise=True\n",
    ")"
   ]
  },
  {
   "cell_type": "markdown",
   "id": "a570cada-722f-4ef1-97cd-40f82c9fcea0",
   "metadata": {},
   "source": [
    "### Model summary"
   ]
  },
  {
   "cell_type": "code",
   "execution_count": 76,
   "id": "6ae8d7a1-e5d6-47e4-bc87-886488d7904a",
   "metadata": {},
   "outputs": [
    {
     "name": "stdout",
     "output_type": "stream",
     "text": [
      "                                      SARIMAX Results                                       \n",
      "============================================================================================\n",
      "Dep. Variable:                                    y   No. Observations:                   63\n",
      "Model:             SARIMAX(1, 0, 0)x(0, 0, [1], 12)   Log Likelihood                -750.407\n",
      "Date:                              Sat, 04 Oct 2025   AIC                           1508.815\n",
      "Time:                                      16:22:07   BIC                           1517.387\n",
      "Sample:                                  01-01-2019   HQIC                          1512.187\n",
      "                                       - 03-01-2024                                         \n",
      "Covariance Type:                                opg                                         \n",
      "==============================================================================\n",
      "                 coef    std err          z      P>|z|      [0.025      0.975]\n",
      "------------------------------------------------------------------------------\n",
      "intercept   1.291e+05   2.82e+04      4.582      0.000    7.39e+04    1.84e+05\n",
      "ar.L1          0.2248      0.170      1.322      0.186      -0.108       0.558\n",
      "ma.S.L12      -0.2556      0.132     -1.932      0.053      -0.515       0.004\n",
      "sigma2      1.368e+09      0.614   2.23e+09      0.000    1.37e+09    1.37e+09\n",
      "===================================================================================\n",
      "Ljung-Box (L1) (Q):                   0.14   Jarque-Bera (JB):                19.10\n",
      "Prob(Q):                              0.71   Prob(JB):                         0.00\n",
      "Heteroskedasticity (H):               0.49   Skew:                             0.67\n",
      "Prob(H) (two-sided):                  0.11   Kurtosis:                         5.34\n",
      "===================================================================================\n",
      "\n",
      "Warnings:\n",
      "[1] Covariance matrix calculated using the outer product of gradients (complex-step).\n",
      "[2] Covariance matrix is singular or near-singular, with condition number 1.43e+25. Standard errors may be unstable.\n"
     ]
    }
   ],
   "source": [
    "print(model.summary())"
   ]
  },
  {
   "cell_type": "markdown",
   "id": "b93423f1-1aab-4f82-99e4-a881fe107bce",
   "metadata": {},
   "source": [
    "### Best order"
   ]
  },
  {
   "cell_type": "code",
   "execution_count": 77,
   "id": "0229a3e2-965a-4591-b3cd-e6025255931c",
   "metadata": {},
   "outputs": [
    {
     "name": "stdout",
     "output_type": "stream",
     "text": [
      "Best order (p,d,q):  (1, 0, 0)\n"
     ]
    }
   ],
   "source": [
    "print(\"Best order (p,d,q): \", model.order) "
   ]
  },
  {
   "cell_type": "markdown",
   "id": "e1598475-cd4c-4170-a7e0-3c828ee1f69b",
   "metadata": {},
   "source": [
    "### Seasoanl order"
   ]
  },
  {
   "cell_type": "code",
   "execution_count": 78,
   "id": "a37b5238-aa52-4fab-922e-5c7a316c73df",
   "metadata": {},
   "outputs": [
    {
     "name": "stdout",
     "output_type": "stream",
     "text": [
      "Best seasonal order (P,D,Q,m):  (0, 0, 1, 12)\n"
     ]
    }
   ],
   "source": [
    "print(\"Best seasonal order (P,D,Q,m): \", model.seasonal_order)"
   ]
  },
  {
   "cell_type": "markdown",
   "id": "472005b9-93f3-4cb4-9a58-eb8194591253",
   "metadata": {},
   "source": [
    "### Forecast"
   ]
  },
  {
   "cell_type": "code",
   "execution_count": 79,
   "id": "138388a0-f7a3-4af6-83d4-02e0bfc472b8",
   "metadata": {},
   "outputs": [],
   "source": [
    "sarimax_model = SARIMAX(\n",
    "    y_train,\n",
    "    order=model.order,\n",
    "    seasonal_order=model.seasonal_order,\n",
    "    enforce_stationarity=False,\n",
    "    enforce_invertibility=False\n",
    ")"
   ]
  },
  {
   "cell_type": "markdown",
   "id": "95e1ec5f-0d55-427f-8f21-4806f2818e31",
   "metadata": {},
   "source": [
    "### Fitting Sarimax model"
   ]
  },
  {
   "cell_type": "code",
   "execution_count": 80,
   "id": "06a9a9b3-0623-4f0e-bd30-a569cf60a7d4",
   "metadata": {},
   "outputs": [],
   "source": [
    "final_sarimax = sarimax_model.fit(disp=False)"
   ]
  },
  {
   "cell_type": "code",
   "execution_count": 81,
   "id": "b8172781-e930-45f1-ba07-3050697d1c14",
   "metadata": {},
   "outputs": [
    {
     "name": "stdout",
     "output_type": "stream",
     "text": [
      "                                      SARIMAX Results                                       \n",
      "============================================================================================\n",
      "Dep. Variable:                             quantity   No. Observations:                   63\n",
      "Model:             SARIMAX(1, 0, 0)x(0, 0, [1], 12)   Log Likelihood                -604.486\n",
      "Date:                              Sat, 04 Oct 2025   AIC                           1214.972\n",
      "Time:                                      16:22:07   BIC                           1220.708\n",
      "Sample:                                  01-01-2019   HQIC                          1217.156\n",
      "                                       - 03-01-2024                                         \n",
      "Covariance Type:                                opg                                         \n",
      "==============================================================================\n",
      "                 coef    std err          z      P>|z|      [0.025      0.975]\n",
      "------------------------------------------------------------------------------\n",
      "ar.L1          0.9830      0.037     26.610      0.000       0.911       1.055\n",
      "ma.S.L12      -0.1506      0.145     -1.040      0.298      -0.434       0.133\n",
      "sigma2      2.175e+09   5.17e-12    4.2e+20      0.000    2.17e+09    2.17e+09\n",
      "===================================================================================\n",
      "Ljung-Box (L1) (Q):                  11.18   Jarque-Bera (JB):                 0.46\n",
      "Prob(Q):                              0.00   Prob(JB):                         0.79\n",
      "Heteroskedasticity (H):               1.38   Skew:                            -0.21\n",
      "Prob(H) (two-sided):                  0.51   Kurtosis:                         2.78\n",
      "===================================================================================\n",
      "\n",
      "Warnings:\n",
      "[1] Covariance matrix calculated using the outer product of gradients (complex-step).\n",
      "[2] Covariance matrix is singular or near-singular, with condition number 8.79e+36. Standard errors may be unstable.\n"
     ]
    }
   ],
   "source": [
    "print(final_sarimax.summary())"
   ]
  },
  {
   "cell_type": "markdown",
   "id": "1e030e05-17cc-4a76-850c-5fe8dfdd938d",
   "metadata": {},
   "source": [
    "### Forecast using Sarimax"
   ]
  },
  {
   "cell_type": "code",
   "execution_count": 82,
   "id": "4c918f46-42a7-446d-9921-038ebef11838",
   "metadata": {},
   "outputs": [],
   "source": [
    "n = len(test)"
   ]
  },
  {
   "cell_type": "code",
   "execution_count": 83,
   "id": "64555cf0-982e-4385-b3e9-0f3a43673b86",
   "metadata": {},
   "outputs": [],
   "source": [
    "forecast = final_sarimax.get_forecast(steps=n)\n",
    "forecast_mean = forecast.predicted_mean\n",
    "forecast_confidence_interval = forecast.conf_int()"
   ]
  },
  {
   "cell_type": "code",
   "execution_count": 84,
   "id": "9ddd4f4f-5435-442d-80d1-6303acb5a3e5",
   "metadata": {},
   "outputs": [
    {
     "data": {
      "image/png": "[encoded data removed]",
      "text/plain": [
       "<Figure size 800x400 with 1 Axes>"
      ]
     },
     "metadata": {},
     "output_type": "display_data"
    }
   ],
   "source": [
    "plt.figure(figsize=(8,4))\n",
    "plt.plot(train.index, train['quantity'], label=\"Original\")\n",
    "plt.plot(test.index, test['quantity'], label='Test', color='red')\n",
    "plt.plot(forecast_mean.index, forecast_mean, label=\"Forecast\", color='green')\n",
    "plt.fill_between(forecast_confidence_interval.index,\n",
    "                 forecast_confidence_interval.iloc[:,0],\n",
    "                 forecast_confidence_interval.iloc[:,1],\n",
    "                 color='k', alpha=0.2)\n",
    "plt.legend()\n",
    "plt.show()"
   ]
  },
  {
   "cell_type": "markdown",
   "id": "19605a40-0e56-4481-8ccc-581347d27d8a",
   "metadata": {},
   "source": [
    "### Sarimax evaluation"
   ]
  },
  {
   "cell_type": "code",
   "execution_count": 85,
   "id": "11ff880f-f988-4db1-9c34-7cd136f8911f",
   "metadata": {},
   "outputs": [],
   "source": [
    "y_true = test['quantity']\n",
    "y_pred = forecast_mean"
   ]
  },
  {
   "cell_type": "code",
   "execution_count": 86,
   "id": "8b7f3be1-7636-40e8-84b1-df747e95b596",
   "metadata": {},
   "outputs": [],
   "source": [
    "sarimax_mse = mean_squared_error(y_true, y_pred)\n",
    "sarimax_rmse = np.sqrt(sarimax_mse)\n",
    "sarimax_mae = mean_absolute_error(y_true, y_pred)\n",
    "sarimax_mape = np.mean(np.abs((y_true - y_pred) / y_true)) * 100\n",
    "sarimax_accuracy = 100-sarimax_mape"
   ]
  },
  {
   "cell_type": "code",
   "execution_count": 87,
   "id": "2af8e661-0153-44a6-a2a8-bef78c527de9",
   "metadata": {},
   "outputs": [
    {
     "name": "stdout",
     "output_type": "stream",
     "text": [
      "\n",
      "Model Evaluation: \n",
      "\n",
      "MAE: 21703.44\n",
      "MSE: 1093994457.31\n",
      "RMSE:  33075.59\n",
      "MAPE: 16.89%\n",
      "Accuracy: 83.11%\n"
     ]
    }
   ],
   "source": [
    "print(\"\\nModel Evaluation: \\n\")\n",
    "print(f\"MAE: {sarimax_mae:.2f}\")\n",
    "print(f\"MSE: {sarimax_mse:.2f}\")\n",
    "print(f\"RMSE:  {sarimax_rmse:.2f}\")\n",
    "print(f\"MAPE: {sarimax_mape:.2f}%\")\n",
    "print(f\"Accuracy: {sarimax_accuracy:.2f}%\")"
   ]
  },
  {
   "cell_type": "markdown",
   "id": "15ca2768-b5a2-402e-9182-3ba354b00daf",
   "metadata": {},
   "source": [
    "# LSTM"
   ]
  },
  {
   "cell_type": "code",
   "execution_count": 88,
   "id": "66a77dd1-3938-4d5c-a73b-63ed3e7cdb50",
   "metadata": {},
   "outputs": [],
   "source": [
    "df_lstm = df_final.copy()"
   ]
  },
  {
   "cell_type": "markdown",
   "id": "ba9808e2-99aa-410d-a6e0-a52818eb36b0",
   "metadata": {},
   "source": [
    "### Feature engineering for LSTM"
   ]
  },
  {
   "cell_type": "code",
   "execution_count": 89,
   "id": "2175b825-4d9d-442c-96d4-49746dfb1fb6",
   "metadata": {},
   "outputs": [],
   "source": [
    "df_lstm['year_month'] = pd.to_datetime(df_lstm['year_month'])\n",
    "df_lstm = df_lstm.set_index('year_month')\n",
    "input_series = df_lstm['quantity'].astype(float)"
   ]
  },
  {
   "cell_type": "markdown",
   "id": "0b62b97d-2f04-4fcd-a628-67557d616b0d",
   "metadata": {},
   "source": [
    "### Scaling series"
   ]
  },
  {
   "cell_type": "code",
   "execution_count": 90,
   "id": "26dba33f-1329-42e6-a453-4ab81694b420",
   "metadata": {},
   "outputs": [],
   "source": [
    "scaler = MinMaxScaler(feature_range=(0,1))"
   ]
  },
  {
   "cell_type": "code",
   "execution_count": 91,
   "id": "dfd5a379-573d-4b4e-96e2-8e0882f548a7",
   "metadata": {},
   "outputs": [],
   "source": [
    "scaled_input_series = scaler.fit_transform(input_series.values.reshape(-1, 1))"
   ]
  },
  {
   "cell_type": "markdown",
   "id": "3fddc495-e326-471e-8bd3-fef75cc4880e",
   "metadata": {},
   "source": [
    "### Creating sequence\n",
    "LSTM is a supervised learning algorithm, create a sequence of X,y from time series dataset."
   ]
  },
  {
   "cell_type": "code",
   "execution_count": 92,
   "id": "5cd7f5a3-517e-403f-a735-7e4ff0d04e11",
   "metadata": {},
   "outputs": [],
   "source": [
    "def create_sequences(data, sequence_length = 12):\n",
    "    X, y = [], []\n",
    "    for i in range(len(data) - sequence_length):\n",
    "        X.append(data[i:i+sequence_length])\n",
    "        y.append(data[i+sequence_length])\n",
    "    return np.array(X), np.array(y)"
   ]
  },
  {
   "cell_type": "code",
   "execution_count": 93,
   "id": "b7ad2d47-28b3-469d-8c43-e8f6bde42c1d",
   "metadata": {},
   "outputs": [],
   "source": [
    "seq_length = 12\n",
    "X, y = create_sequences(scaled_input_series, seq_length)"
   ]
  },
  {
   "cell_type": "markdown",
   "id": "f78acf19-067b-4799-90f6-f93e7228d642",
   "metadata": {},
   "source": [
    "### Train Test split"
   ]
  },
  {
   "cell_type": "code",
   "execution_count": 94,
   "id": "f7d0675e-3d55-4783-ada9-2ef8c6a56bb4",
   "metadata": {},
   "outputs": [],
   "source": [
    "split = int(len(X) * 0.8)"
   ]
  },
  {
   "cell_type": "code",
   "execution_count": 95,
   "id": "979e4f7f-fd7b-471b-b0ac-83a7ee0a505d",
   "metadata": {},
   "outputs": [],
   "source": [
    "X_train = X[:split]\n",
    "X_test = X[split:]\n",
    "y_train = y[:split]\n",
    "y_test = y[split:]"
   ]
  },
  {
   "cell_type": "markdown",
   "id": "eca55e75-0d4a-48c7-a278-2fa97311152a",
   "metadata": {},
   "source": [
    "### Making input 3D\n",
    "LSTM expects 3D input."
   ]
  },
  {
   "cell_type": "code",
   "execution_count": 96,
   "id": "8c848e4b-063a-494e-af43-af128b4cf590",
   "metadata": {},
   "outputs": [],
   "source": [
    "X_train = X_train.reshape((X_train.shape[0], X_train.shape[1], 1))\n",
    "X_test  = X_test.reshape((X_test.shape[0], X_test.shape[1], 1))"
   ]
  },
  {
   "cell_type": "markdown",
   "id": "ea03d8ea-4bca-42bd-9199-6f2223200bdf",
   "metadata": {},
   "source": [
    "### Building model"
   ]
  },
  {
   "cell_type": "code",
   "execution_count": 97,
   "id": "16a6d5a0-e1c6-42ad-b6eb-282765bce8db",
   "metadata": {},
   "outputs": [],
   "source": [
    "model = Sequential()"
   ]
  },
  {
   "cell_type": "code",
   "execution_count": 98,
   "id": "0fd2d519-b0e9-47ed-ad99-18bc3760187d",
   "metadata": {},
   "outputs": [],
   "source": [
    "model.add(LSTM(64, activation='tanh', return_sequences=True, input_shape=(seq_length, 1)))\n",
    "model.add(Dropout(0.2))\n",
    "model.add(LSTM(32, activation='tanh'))\n",
    "model.add(Dropout(0.2))\n",
    "model.add(Dense(1))"
   ]
  },
  {
   "cell_type": "markdown",
   "id": "554dcfd7-6281-4a04-9e88-bc0b6e5f2c5f",
   "metadata": {},
   "source": [
    "### Compile model"
   ]
  },
  {
   "cell_type": "code",
   "execution_count": 99,
   "id": "09d2a087-c2e1-4d52-accd-7ae061075507",
   "metadata": {},
   "outputs": [],
   "source": [
    "model.compile(optimizer='adam', loss='mse')"
   ]
  },
  {
   "cell_type": "markdown",
   "id": "6b17e079-ad47-4f44-a1ff-eeeadbecca9b",
   "metadata": {},
   "source": [
    "### Model summary"
   ]
  },
  {
   "cell_type": "code",
   "execution_count": 100,
   "id": "95deb7a5-211f-4444-922d-ace0438b3f24",
   "metadata": {},
   "outputs": [
    {
     "data": {
      "text/html": [
       "<pre style=\"white-space:pre;overflow-x:auto;line-height:normal;font-family:Menlo,'DejaVu Sans Mono',consolas,'Courier New',monospace\"><span style=\"font-weight: bold\">Model: \"sequential\"</span>\n",
       "</pre>\n"
      ],
      "text/plain": [
       "\u001b[1mModel: \"sequential\"\u001b[0m\n"
      ]
     },
     "metadata": {},
     "output_type": "display_data"
    },
    {
     "data": {
      "text/html": [
       "<pre style=\"white-space:pre;overflow-x:auto;line-height:normal;font-family:Menlo,'DejaVu Sans Mono',consolas,'Courier New',monospace\">┏━━━━━━━━━━━━━━━━━━━━━━━━━━━━━━━━━━━━━━┳━━━━━━━━━━━━━━━━━━━━━━━━━━━━━┳━━━━━━━━━━━━━━━━━┓\n",
       "┃<span style=\"font-weight: bold\"> Layer (type)                         </span>┃<span style=\"font-weight: bold\"> Output Shape                </span>┃<span style=\"font-weight: bold\">         Param # </span>┃\n",
       "┡━━━━━━━━━━━━━━━━━━━━━━━━━━━━━━━━━━━━━━╇━━━━━━━━━━━━━━━━━━━━━━━━━━━━━╇━━━━━━━━━━━━━━━━━┩\n",
       "│ lstm (<span style=\"color: #0087ff; text-decoration-color: #0087ff\">LSTM</span>)                          │ (<span style=\"color: #00d7ff; text-decoration-color: #00d7ff\">None</span>, <span style=\"color: #00af00; text-decoration-color: #00af00\">12</span>, <span style=\"color: #00af00; text-decoration-color: #00af00\">64</span>)              │          <span style=\"color: #00af00; text-decoration-color: #00af00\">16,896</span> │\n",
       "├──────────────────────────────────────┼─────────────────────────────┼─────────────────┤\n",
       "│ dropout (<span style=\"color: #0087ff; text-decoration-color: #0087ff\">Dropout</span>)                    │ (<span style=\"color: #00d7ff; text-decoration-color: #00d7ff\">None</span>, <span style=\"color: #00af00; text-decoration-color: #00af00\">12</span>, <span style=\"color: #00af00; text-decoration-color: #00af00\">64</span>)              │               <span style=\"color: #00af00; text-decoration-color: #00af00\">0</span> │\n",
       "├──────────────────────────────────────┼─────────────────────────────┼─────────────────┤\n",
       "│ lstm_1 (<span style=\"color: #0087ff; text-decoration-color: #0087ff\">LSTM</span>)                        │ (<span style=\"color: #00d7ff; text-decoration-color: #00d7ff\">None</span>, <span style=\"color: #00af00; text-decoration-color: #00af00\">32</span>)                  │          <span style=\"color: #00af00; text-decoration-color: #00af00\">12,416</span> │\n",
       "├──────────────────────────────────────┼─────────────────────────────┼─────────────────┤\n",
       "│ dropout_1 (<span style=\"color: #0087ff; text-decoration-color: #0087ff\">Dropout</span>)                  │ (<span style=\"color: #00d7ff; text-decoration-color: #00d7ff\">None</span>, <span style=\"color: #00af00; text-decoration-color: #00af00\">32</span>)                  │               <span style=\"color: #00af00; text-decoration-color: #00af00\">0</span> │\n",
       "├──────────────────────────────────────┼─────────────────────────────┼─────────────────┤\n",
       "│ dense (<span style=\"color: #0087ff; text-decoration-color: #0087ff\">Dense</span>)                        │ (<span style=\"color: #00d7ff; text-decoration-color: #00d7ff\">None</span>, <span style=\"color: #00af00; text-decoration-color: #00af00\">1</span>)                   │              <span style=\"color: #00af00; text-decoration-color: #00af00\">33</span> │\n",
       "└──────────────────────────────────────┴─────────────────────────────┴─────────────────┘\n",
       "</pre>\n"
      ],
      "text/plain": [
       "┏━━━━━━━━━━━━━━━━━━━━━━━━━━━━━━━━━━━━━━┳━━━━━━━━━━━━━━━━━━━━━━━━━━━━━┳━━━━━━━━━━━━━━━━━┓\n",
       "┃\u001b[1m \u001b[0m\u001b[1mLayer (type)                        \u001b[0m\u001b[1m \u001b[0m┃\u001b[1m \u001b[0m\u001b[1mOutput Shape               \u001b[0m\u001b[1m \u001b[0m┃\u001b[1m \u001b[0m\u001b[1m        Param #\u001b[0m\u001b[1m \u001b[0m┃\n",
       "┡━━━━━━━━━━━━━━━━━━━━━━━━━━━━━━━━━━━━━━╇━━━━━━━━━━━━━━━━━━━━━━━━━━━━━╇━━━━━━━━━━━━━━━━━┩\n",
       "│ lstm (\u001b[38;5;33mLSTM\u001b[0m)                          │ (\u001b[38;5;45mNone\u001b[0m, \u001b[38;5;34m12\u001b[0m, \u001b[38;5;34m64\u001b[0m)              │          \u001b[38;5;34m16,896\u001b[0m │\n",
       "├──────────────────────────────────────┼─────────────────────────────┼─────────────────┤\n",
       "│ dropout (\u001b[38;5;33mDropout\u001b[0m)                    │ (\u001b[38;5;45mNone\u001b[0m, \u001b[38;5;34m12\u001b[0m, \u001b[38;5;34m64\u001b[0m)              │               \u001b[38;5;34m0\u001b[0m │\n",
       "├──────────────────────────────────────┼─────────────────────────────┼─────────────────┤\n",
       "│ lstm_1 (\u001b[38;5;33mLSTM\u001b[0m)                        │ (\u001b[38;5;45mNone\u001b[0m, \u001b[38;5;34m32\u001b[0m)                  │          \u001b[38;5;34m12,416\u001b[0m │\n",
       "├──────────────────────────────────────┼─────────────────────────────┼─────────────────┤\n",
       "│ dropout_1 (\u001b[38;5;33mDropout\u001b[0m)                  │ (\u001b[38;5;45mNone\u001b[0m, \u001b[38;5;34m32\u001b[0m)                  │               \u001b[38;5;34m0\u001b[0m │\n",
       "├──────────────────────────────────────┼─────────────────────────────┼─────────────────┤\n",
       "│ dense (\u001b[38;5;33mDense\u001b[0m)                        │ (\u001b[38;5;45mNone\u001b[0m, \u001b[38;5;34m1\u001b[0m)                   │              \u001b[38;5;34m33\u001b[0m │\n",
       "└──────────────────────────────────────┴─────────────────────────────┴─────────────────┘\n"
      ]
     },
     "metadata": {},
     "output_type": "display_data"
    },
    {
     "data": {
      "text/html": [
       "<pre style=\"white-space:pre;overflow-x:auto;line-height:normal;font-family:Menlo,'DejaVu Sans Mono',consolas,'Courier New',monospace\"><span style=\"font-weight: bold\"> Total params: </span><span style=\"color: #00af00; text-decoration-color: #00af00\">29,345</span> (114.63 KB)\n",
       "</pre>\n"
      ],
      "text/plain": [
       "\u001b[1m Total params: \u001b[0m\u001b[38;5;34m29,345\u001b[0m (114.63 KB)\n"
      ]
     },
     "metadata": {},
     "output_type": "display_data"
    },
    {
     "data": {
      "text/html": [
       "<pre style=\"white-space:pre;overflow-x:auto;line-height:normal;font-family:Menlo,'DejaVu Sans Mono',consolas,'Courier New',monospace\"><span style=\"font-weight: bold\"> Trainable params: </span><span style=\"color: #00af00; text-decoration-color: #00af00\">29,345</span> (114.63 KB)\n",
       "</pre>\n"
      ],
      "text/plain": [
       "\u001b[1m Trainable params: \u001b[0m\u001b[38;5;34m29,345\u001b[0m (114.63 KB)\n"
      ]
     },
     "metadata": {},
     "output_type": "display_data"
    },
    {
     "data": {
      "text/html": [
       "<pre style=\"white-space:pre;overflow-x:auto;line-height:normal;font-family:Menlo,'DejaVu Sans Mono',consolas,'Courier New',monospace\"><span style=\"font-weight: bold\"> Non-trainable params: </span><span style=\"color: #00af00; text-decoration-color: #00af00\">0</span> (0.00 B)\n",
       "</pre>\n"
      ],
      "text/plain": [
       "\u001b[1m Non-trainable params: \u001b[0m\u001b[38;5;34m0\u001b[0m (0.00 B)\n"
      ]
     },
     "metadata": {},
     "output_type": "display_data"
    }
   ],
   "source": [
    "model.summary()"
   ]
  },
  {
   "cell_type": "markdown",
   "id": "3f83f117-64b9-44ed-a2ae-fc237bc738d3",
   "metadata": {},
   "source": [
    "### Training LSTM on our sequence"
   ]
  },
  {
   "cell_type": "code",
   "execution_count": 101,
   "id": "15a6e8e8-3b90-4577-b586-1d08c233559c",
   "metadata": {},
   "outputs": [
    {
     "name": "stdout",
     "output_type": "stream",
     "text": [
      "Epoch 1/50\n",
      "\u001b[1m4/4\u001b[0m \u001b[32m━━━━━━━━━━━━━━━━━━━━\u001b[0m\u001b[37m\u001b[0m \u001b[1m4s\u001b[0m 143ms/step - loss: 0.2416 - val_loss: 0.1102\n",
      "Epoch 2/50\n",
      "\u001b[1m4/4\u001b[0m \u001b[32m━━━━━━━━━━━━━━━━━━━━\u001b[0m\u001b[37m\u001b[0m \u001b[1m0s\u001b[0m 27ms/step - loss: 0.0916 - val_loss: 0.0239\n",
      "Epoch 3/50\n",
      "\u001b[1m4/4\u001b[0m \u001b[32m━━━━━━━━━━━━━━━━━━━━\u001b[0m\u001b[37m\u001b[0m \u001b[1m0s\u001b[0m 26ms/step - loss: 0.0271 - val_loss: 0.0282\n",
      "Epoch 4/50\n",
      "\u001b[1m4/4\u001b[0m \u001b[32m━━━━━━━━━━━━━━━━━━━━\u001b[0m\u001b[37m\u001b[0m \u001b[1m0s\u001b[0m 49ms/step - loss: 0.0481 - val_loss: 0.0301\n",
      "Epoch 5/50\n",
      "\u001b[1m4/4\u001b[0m \u001b[32m━━━━━━━━━━━━━━━━━━━━\u001b[0m\u001b[37m\u001b[0m \u001b[1m0s\u001b[0m 29ms/step - loss: 0.0347 - val_loss: 0.0135\n",
      "Epoch 6/50\n",
      "\u001b[1m4/4\u001b[0m \u001b[32m━━━━━━━━━━━━━━━━━━━━\u001b[0m\u001b[37m\u001b[0m \u001b[1m0s\u001b[0m 27ms/step - loss: 0.0199 - val_loss: 0.0136\n",
      "Epoch 7/50\n",
      "\u001b[1m4/4\u001b[0m \u001b[32m━━━━━━━━━━━━━━━━━━━━\u001b[0m\u001b[37m\u001b[0m \u001b[1m0s\u001b[0m 26ms/step - loss: 0.0258 - val_loss: 0.0144\n",
      "Epoch 8/50\n",
      "\u001b[1m4/4\u001b[0m \u001b[32m━━━━━━━━━━━━━━━━━━━━\u001b[0m\u001b[37m\u001b[0m \u001b[1m0s\u001b[0m 25ms/step - loss: 0.0267 - val_loss: 0.0126\n",
      "Epoch 9/50\n",
      "\u001b[1m4/4\u001b[0m \u001b[32m━━━━━━━━━━━━━━━━━━━━\u001b[0m\u001b[37m\u001b[0m \u001b[1m0s\u001b[0m 27ms/step - loss: 0.0250 - val_loss: 0.0129\n",
      "Epoch 10/50\n",
      "\u001b[1m4/4\u001b[0m \u001b[32m━━━━━━━━━━━━━━━━━━━━\u001b[0m\u001b[37m\u001b[0m \u001b[1m0s\u001b[0m 28ms/step - loss: 0.0168 - val_loss: 0.0140\n",
      "Epoch 11/50\n",
      "\u001b[1m4/4\u001b[0m \u001b[32m━━━━━━━━━━━━━━━━━━━━\u001b[0m\u001b[37m\u001b[0m \u001b[1m0s\u001b[0m 58ms/step - loss: 0.0252 - val_loss: 0.0133\n",
      "Epoch 12/50\n",
      "\u001b[1m4/4\u001b[0m \u001b[32m━━━━━━━━━━━━━━━━━━━━\u001b[0m\u001b[37m\u001b[0m \u001b[1m0s\u001b[0m 34ms/step - loss: 0.0131 - val_loss: 0.0129\n",
      "Epoch 13/50\n",
      "\u001b[1m4/4\u001b[0m \u001b[32m━━━━━━━━━━━━━━━━━━━━\u001b[0m\u001b[37m\u001b[0m \u001b[1m0s\u001b[0m 33ms/step - loss: 0.0196 - val_loss: 0.0122\n",
      "Epoch 14/50\n",
      "\u001b[1m4/4\u001b[0m \u001b[32m━━━━━━━━━━━━━━━━━━━━\u001b[0m\u001b[37m\u001b[0m \u001b[1m0s\u001b[0m 55ms/step - loss: 0.0159 - val_loss: 0.0123\n",
      "Epoch 15/50\n",
      "\u001b[1m4/4\u001b[0m \u001b[32m━━━━━━━━━━━━━━━━━━━━\u001b[0m\u001b[37m\u001b[0m \u001b[1m0s\u001b[0m 32ms/step - loss: 0.0202 - val_loss: 0.0124\n",
      "Epoch 16/50\n",
      "\u001b[1m4/4\u001b[0m \u001b[32m━━━━━━━━━━━━━━━━━━━━\u001b[0m\u001b[37m\u001b[0m \u001b[1m0s\u001b[0m 29ms/step - loss: 0.0229 - val_loss: 0.0128\n",
      "Epoch 17/50\n",
      "\u001b[1m4/4\u001b[0m \u001b[32m━━━━━━━━━━━━━━━━━━━━\u001b[0m\u001b[37m\u001b[0m \u001b[1m0s\u001b[0m 48ms/step - loss: 0.0181 - val_loss: 0.0127\n",
      "Epoch 18/50\n",
      "\u001b[1m4/4\u001b[0m \u001b[32m━━━━━━━━━━━━━━━━━━━━\u001b[0m\u001b[37m\u001b[0m \u001b[1m0s\u001b[0m 31ms/step - loss: 0.0181 - val_loss: 0.0127\n",
      "Epoch 19/50\n",
      "\u001b[1m4/4\u001b[0m \u001b[32m━━━━━━━━━━━━━━━━━━━━\u001b[0m\u001b[37m\u001b[0m \u001b[1m0s\u001b[0m 49ms/step - loss: 0.0169 - val_loss: 0.0128\n",
      "Epoch 20/50\n",
      "\u001b[1m4/4\u001b[0m \u001b[32m━━━━━━━━━━━━━━━━━━━━\u001b[0m\u001b[37m\u001b[0m \u001b[1m0s\u001b[0m 27ms/step - loss: 0.0197 - val_loss: 0.0122\n",
      "Epoch 21/50\n",
      "\u001b[1m4/4\u001b[0m \u001b[32m━━━━━━━━━━━━━━━━━━━━\u001b[0m\u001b[37m\u001b[0m \u001b[1m0s\u001b[0m 40ms/step - loss: 0.0186 - val_loss: 0.0122\n",
      "Epoch 22/50\n",
      "\u001b[1m4/4\u001b[0m \u001b[32m━━━━━━━━━━━━━━━━━━━━\u001b[0m\u001b[37m\u001b[0m \u001b[1m0s\u001b[0m 47ms/step - loss: 0.0174 - val_loss: 0.0123\n",
      "Epoch 23/50\n",
      "\u001b[1m4/4\u001b[0m \u001b[32m━━━━━━━━━━━━━━━━━━━━\u001b[0m\u001b[37m\u001b[0m \u001b[1m0s\u001b[0m 30ms/step - loss: 0.0147 - val_loss: 0.0126\n",
      "Epoch 24/50\n",
      "\u001b[1m4/4\u001b[0m \u001b[32m━━━━━━━━━━━━━━━━━━━━\u001b[0m\u001b[37m\u001b[0m \u001b[1m0s\u001b[0m 29ms/step - loss: 0.0253 - val_loss: 0.0125\n",
      "Epoch 25/50\n",
      "\u001b[1m4/4\u001b[0m \u001b[32m━━━━━━━━━━━━━━━━━━━━\u001b[0m\u001b[37m\u001b[0m \u001b[1m0s\u001b[0m 32ms/step - loss: 0.0195 - val_loss: 0.0121\n",
      "Epoch 26/50\n",
      "\u001b[1m4/4\u001b[0m \u001b[32m━━━━━━━━━━━━━━━━━━━━\u001b[0m\u001b[37m\u001b[0m \u001b[1m0s\u001b[0m 31ms/step - loss: 0.0199 - val_loss: 0.0121\n",
      "Epoch 27/50\n",
      "\u001b[1m4/4\u001b[0m \u001b[32m━━━━━━━━━━━━━━━━━━━━\u001b[0m\u001b[37m\u001b[0m \u001b[1m0s\u001b[0m 40ms/step - loss: 0.0172 - val_loss: 0.0123\n",
      "Epoch 28/50\n",
      "\u001b[1m4/4\u001b[0m \u001b[32m━━━━━━━━━━━━━━━━━━━━\u001b[0m\u001b[37m\u001b[0m \u001b[1m0s\u001b[0m 84ms/step - loss: 0.0152 - val_loss: 0.0130\n",
      "Epoch 29/50\n",
      "\u001b[1m4/4\u001b[0m \u001b[32m━━━━━━━━━━━━━━━━━━━━\u001b[0m\u001b[37m\u001b[0m \u001b[1m0s\u001b[0m 32ms/step - loss: 0.0167 - val_loss: 0.0124\n",
      "Epoch 30/50\n",
      "\u001b[1m4/4\u001b[0m \u001b[32m━━━━━━━━━━━━━━━━━━━━\u001b[0m\u001b[37m\u001b[0m \u001b[1m0s\u001b[0m 31ms/step - loss: 0.0182 - val_loss: 0.0122\n",
      "Epoch 31/50\n",
      "\u001b[1m4/4\u001b[0m \u001b[32m━━━━━━━━━━━━━━━━━━━━\u001b[0m\u001b[37m\u001b[0m \u001b[1m0s\u001b[0m 28ms/step - loss: 0.0161 - val_loss: 0.0124\n",
      "Epoch 32/50\n",
      "\u001b[1m4/4\u001b[0m \u001b[32m━━━━━━━━━━━━━━━━━━━━\u001b[0m\u001b[37m\u001b[0m \u001b[1m0s\u001b[0m 28ms/step - loss: 0.0233 - val_loss: 0.0122\n",
      "Epoch 33/50\n",
      "\u001b[1m4/4\u001b[0m \u001b[32m━━━━━━━━━━━━━━━━━━━━\u001b[0m\u001b[37m\u001b[0m \u001b[1m0s\u001b[0m 28ms/step - loss: 0.0203 - val_loss: 0.0123\n",
      "Epoch 34/50\n",
      "\u001b[1m4/4\u001b[0m \u001b[32m━━━━━━━━━━━━━━━━━━━━\u001b[0m\u001b[37m\u001b[0m \u001b[1m0s\u001b[0m 28ms/step - loss: 0.0187 - val_loss: 0.0126\n",
      "Epoch 35/50\n",
      "\u001b[1m4/4\u001b[0m \u001b[32m━━━━━━━━━━━━━━━━━━━━\u001b[0m\u001b[37m\u001b[0m \u001b[1m0s\u001b[0m 32ms/step - loss: 0.0184 - val_loss: 0.0132\n",
      "Epoch 36/50\n",
      "\u001b[1m4/4\u001b[0m \u001b[32m━━━━━━━━━━━━━━━━━━━━\u001b[0m\u001b[37m\u001b[0m \u001b[1m0s\u001b[0m 32ms/step - loss: 0.0172 - val_loss: 0.0127\n",
      "Epoch 37/50\n",
      "\u001b[1m4/4\u001b[0m \u001b[32m━━━━━━━━━━━━━━━━━━━━\u001b[0m\u001b[37m\u001b[0m \u001b[1m0s\u001b[0m 31ms/step - loss: 0.0217 - val_loss: 0.0125\n",
      "Epoch 38/50\n",
      "\u001b[1m4/4\u001b[0m \u001b[32m━━━━━━━━━━━━━━━━━━━━\u001b[0m\u001b[37m\u001b[0m \u001b[1m0s\u001b[0m 32ms/step - loss: 0.0193 - val_loss: 0.0121\n",
      "Epoch 39/50\n",
      "\u001b[1m4/4\u001b[0m \u001b[32m━━━━━━━━━━━━━━━━━━━━\u001b[0m\u001b[37m\u001b[0m \u001b[1m0s\u001b[0m 27ms/step - loss: 0.0184 - val_loss: 0.0121\n",
      "Epoch 40/50\n",
      "\u001b[1m4/4\u001b[0m \u001b[32m━━━━━━━━━━━━━━━━━━━━\u001b[0m\u001b[37m\u001b[0m \u001b[1m0s\u001b[0m 26ms/step - loss: 0.0158 - val_loss: 0.0122\n",
      "Epoch 41/50\n",
      "\u001b[1m4/4\u001b[0m \u001b[32m━━━━━━━━━━━━━━━━━━━━\u001b[0m\u001b[37m\u001b[0m \u001b[1m0s\u001b[0m 31ms/step - loss: 0.0210 - val_loss: 0.0124\n",
      "Epoch 42/50\n",
      "\u001b[1m4/4\u001b[0m \u001b[32m━━━━━━━━━━━━━━━━━━━━\u001b[0m\u001b[37m\u001b[0m \u001b[1m0s\u001b[0m 32ms/step - loss: 0.0164 - val_loss: 0.0125\n",
      "Epoch 43/50\n",
      "\u001b[1m4/4\u001b[0m \u001b[32m━━━━━━━━━━━━━━━━━━━━\u001b[0m\u001b[37m\u001b[0m \u001b[1m0s\u001b[0m 34ms/step - loss: 0.0186 - val_loss: 0.0121\n",
      "Epoch 44/50\n",
      "\u001b[1m4/4\u001b[0m \u001b[32m━━━━━━━━━━━━━━━━━━━━\u001b[0m\u001b[37m\u001b[0m \u001b[1m0s\u001b[0m 29ms/step - loss: 0.0200 - val_loss: 0.0120\n",
      "Epoch 45/50\n",
      "\u001b[1m4/4\u001b[0m \u001b[32m━━━━━━━━━━━━━━━━━━━━\u001b[0m\u001b[37m\u001b[0m \u001b[1m0s\u001b[0m 31ms/step - loss: 0.0173 - val_loss: 0.0134\n",
      "Epoch 46/50\n",
      "\u001b[1m4/4\u001b[0m \u001b[32m━━━━━━━━━━━━━━━━━━━━\u001b[0m\u001b[37m\u001b[0m \u001b[1m0s\u001b[0m 29ms/step - loss: 0.0259 - val_loss: 0.0140\n",
      "Epoch 47/50\n",
      "\u001b[1m4/4\u001b[0m \u001b[32m━━━━━━━━━━━━━━━━━━━━\u001b[0m\u001b[37m\u001b[0m \u001b[1m0s\u001b[0m 26ms/step - loss: 0.0175 - val_loss: 0.0138\n",
      "Epoch 48/50\n",
      "\u001b[1m4/4\u001b[0m \u001b[32m━━━━━━━━━━━━━━━━━━━━\u001b[0m\u001b[37m\u001b[0m \u001b[1m0s\u001b[0m 33ms/step - loss: 0.0219 - val_loss: 0.0121\n",
      "Epoch 49/50\n",
      "\u001b[1m4/4\u001b[0m \u001b[32m━━━━━━━━━━━━━━━━━━━━\u001b[0m\u001b[37m\u001b[0m \u001b[1m0s\u001b[0m 27ms/step - loss: 0.0185 - val_loss: 0.0120\n",
      "Epoch 50/50\n",
      "\u001b[1m4/4\u001b[0m \u001b[32m━━━━━━━━━━━━━━━━━━━━\u001b[0m\u001b[37m\u001b[0m \u001b[1m0s\u001b[0m 26ms/step - loss: 0.0234 - val_loss: 0.0120\n"
     ]
    }
   ],
   "source": [
    "history = model.fit(\n",
    "    X_train, y_train,\n",
    "    validation_data=(X_test, y_test),\n",
    "    epochs=50,\n",
    "    batch_size=16,\n",
    "    verbose=1\n",
    ")"
   ]
  },
  {
   "cell_type": "markdown",
   "id": "d090612e-90e2-40e6-8eb2-3e0b8f286c47",
   "metadata": {},
   "source": [
    "### Visualizing Train vs Validation loss"
   ]
  },
  {
   "cell_type": "code",
   "execution_count": 102,
   "id": "1ebf16f8-ca20-46ed-940c-945cd4e94bae",
   "metadata": {},
   "outputs": [
    {
     "data": {
      "image/png": "[encoded data removed]",
      "text/plain": [
       "<Figure size 640x480 with 1 Axes>"
      ]
     },
     "metadata": {},
     "output_type": "display_data"
    }
   ],
   "source": [
    "plt.plot(history.history['loss'], label='Train Loss')\n",
    "plt.plot(history.history['val_loss'], label='Validation Loss')\n",
    "plt.legend()\n",
    "plt.show()"
   ]
  },
  {
   "cell_type": "markdown",
   "id": "4230a881-fc42-43d8-bd05-5728ef5d96aa",
   "metadata": {},
   "source": [
    "### Model prediction"
   ]
  },
  {
   "cell_type": "code",
   "execution_count": 103,
   "id": "aaabfa97-8f84-4997-8b45-3d9e171dd577",
   "metadata": {},
   "outputs": [
    {
     "name": "stdout",
     "output_type": "stream",
     "text": [
      "\u001b[1m1/1\u001b[0m \u001b[32m━━━━━━━━━━━━━━━━━━━━\u001b[0m\u001b[37m\u001b[0m \u001b[1m0s\u001b[0m 301ms/step\n"
     ]
    }
   ],
   "source": [
    "y_pred_scaled = model.predict(X_test)\n",
    "y_pred = scaler.inverse_transform(y_pred_scaled)\n",
    "y_test_actual = scaler.inverse_transform(y_test)"
   ]
  },
  {
   "cell_type": "markdown",
   "id": "4bbfd207-223c-4e9a-be78-93df6aea5e39",
   "metadata": {},
   "source": [
    "### LSTM Evaluation"
   ]
  },
  {
   "cell_type": "code",
   "execution_count": 104,
   "id": "97e6d174-3743-4a5d-ace4-fef0c409cc5f",
   "metadata": {},
   "outputs": [],
   "source": [
    "lstm_mse = mean_squared_error(y_test_actual, y_pred)\n",
    "lstm_rmse = np.sqrt(lstm_mse)\n",
    "lstm_mae = mean_absolute_error(y_test_actual, y_pred)\n",
    "lstm_mape = np.mean(np.abs((y_test_actual - y_pred) / y_test_actual)) * 100\n",
    "lstm_accuracy = 100 - lstm_mape"
   ]
  },
  {
   "cell_type": "code",
   "execution_count": 105,
   "id": "947ba1b8-d8c1-4d78-a88d-13dcce25a0c2",
   "metadata": {},
   "outputs": [
    {
     "name": "stdout",
     "output_type": "stream",
     "text": [
      "MSE: 940226414.60\n",
      "RMSE: 30663.11\n",
      "MAE: 22821.30\n",
      "MAPE: 16.74%\n",
      "Accuracy: 83.26%\n"
     ]
    }
   ],
   "source": [
    "print(f\"MSE: {lstm_mse:.2f}\")\n",
    "print(f\"RMSE: {lstm_rmse:.2f}\")\n",
    "print(f\"MAE: {lstm_mae:.2f}\")\n",
    "print(f\"MAPE: {lstm_mape:.2f}%\")\n",
    "print(f\"Accuracy: {lstm_accuracy:.2f}%\")"
   ]
  },
  {
   "cell_type": "markdown",
   "id": "356f988c-d772-4049-b1fe-d9abe0c6b7fa",
   "metadata": {},
   "source": [
    "### Predicted vs Actual"
   ]
  },
  {
   "cell_type": "code",
   "execution_count": 106,
   "id": "76999f69-3942-4673-a74c-79a199adea42",
   "metadata": {},
   "outputs": [
    {
     "data": {
      "image/png": "[encoded data removed]",
      "text/plain": [
       "<Figure size 1200x500 with 1 Axes>"
      ]
     },
     "metadata": {},
     "output_type": "display_data"
    }
   ],
   "source": [
    "plt.figure(figsize=(12,5))\n",
    "plt.plot(input_series.index[-len(y_test_actual):], y_test_actual, label='Actual')\n",
    "plt.plot(input_series.index[-len(y_test_actual):], y_pred, label='Predicted', color='orange')\n",
    "plt.legend()\n",
    "plt.show()"
   ]
  },
  {
   "cell_type": "markdown",
   "id": "3af8efc1-ddaa-4a80-bbe5-0203bd54e8dc",
   "metadata": {},
   "source": [
    "### Forecasting future"
   ]
  },
  {
   "cell_type": "code",
   "execution_count": 107,
   "id": "e76526cf-75db-4c2a-8a20-958b62a08f59",
   "metadata": {},
   "outputs": [
    {
     "name": "stdout",
     "output_type": "stream",
     "text": [
      "\u001b[1m1/1\u001b[0m \u001b[32m━━━━━━━━━━━━━━━━━━━━\u001b[0m\u001b[37m\u001b[0m \u001b[1m0s\u001b[0m 289ms/step\n",
      "\u001b[1m1/1\u001b[0m \u001b[32m━━━━━━━━━━━━━━━━━━━━\u001b[0m\u001b[37m\u001b[0m \u001b[1m0s\u001b[0m 49ms/step\n",
      "\u001b[1m1/1\u001b[0m \u001b[32m━━━━━━━━━━━━━━━━━━━━\u001b[0m\u001b[37m\u001b[0m \u001b[1m0s\u001b[0m 33ms/step\n",
      "\u001b[1m1/1\u001b[0m \u001b[32m━━━━━━━━━━━━━━━━━━━━\u001b[0m\u001b[37m\u001b[0m \u001b[1m0s\u001b[0m 46ms/step\n",
      "\u001b[1m1/1\u001b[0m \u001b[32m━━━━━━━━━━━━━━━━━━━━\u001b[0m\u001b[37m\u001b[0m \u001b[1m0s\u001b[0m 30ms/step\n",
      "\u001b[1m1/1\u001b[0m \u001b[32m━━━━━━━━━━━━━━━━━━━━\u001b[0m\u001b[37m\u001b[0m \u001b[1m0s\u001b[0m 34ms/step\n",
      "\u001b[1m1/1\u001b[0m \u001b[32m━━━━━━━━━━━━━━━━━━━━\u001b[0m\u001b[37m\u001b[0m \u001b[1m0s\u001b[0m 46ms/step\n",
      "\u001b[1m1/1\u001b[0m \u001b[32m━━━━━━━━━━━━━━━━━━━━\u001b[0m\u001b[37m\u001b[0m \u001b[1m0s\u001b[0m 29ms/step\n",
      "\u001b[1m1/1\u001b[0m \u001b[32m━━━━━━━━━━━━━━━━━━━━\u001b[0m\u001b[37m\u001b[0m \u001b[1m0s\u001b[0m 37ms/step\n",
      "\u001b[1m1/1\u001b[0m \u001b[32m━━━━━━━━━━━━━━━━━━━━\u001b[0m\u001b[37m\u001b[0m \u001b[1m0s\u001b[0m 45ms/step\n",
      "\u001b[1m1/1\u001b[0m \u001b[32m━━━━━━━━━━━━━━━━━━━━\u001b[0m\u001b[37m\u001b[0m \u001b[1m0s\u001b[0m 32ms/step\n",
      "\u001b[1m1/1\u001b[0m \u001b[32m━━━━━━━━━━━━━━━━━━━━\u001b[0m\u001b[37m\u001b[0m \u001b[1m0s\u001b[0m 42ms/step\n",
      "\n",
      "Forecasted series: \n",
      "\n",
      "           ds       forecast\n",
      "0  2025-08-01  157111.688703\n",
      "1  2025-09-01  156452.582105\n",
      "2  2025-10-01  156102.469984\n",
      "3  2025-11-01  156275.502227\n",
      "4  2025-12-01  156663.941956\n",
      "5  2026-01-01  156769.605225\n",
      "6  2026-02-01  157862.133606\n",
      "7  2026-03-01  158363.990407\n",
      "8  2026-04-01  158107.415305\n",
      "9  2026-05-01  158252.147415\n",
      "10 2026-06-01  158556.702819\n",
      "11 2026-07-01  158674.833803\n"
     ]
    }
   ],
   "source": [
    "future_preds = []\n",
    "last_seq = scaled_input_series[-seq_length:] \n",
    "\n",
    "current_seq = last_seq.reshape(1, seq_length, 1)\n",
    "\n",
    "for _ in range(12):\n",
    "    next_pred = model.predict(current_seq)[0]\n",
    "    future_preds.append(next_pred)\n",
    "    current_seq = np.append(current_seq[:,1:,:], [[next_pred]], axis=1)\n",
    "\n",
    "future_preds = scaler.inverse_transform(future_preds)\n",
    "\n",
    "last_date = input_series.index[-1]\n",
    "future_dates = pd.date_range(last_date + pd.offsets.MonthBegin(), periods=12, freq='MS')\n",
    "\n",
    "forecast_df = pd.DataFrame({'ds': future_dates, 'forecast': future_preds.flatten()})\n",
    "print(\"\\nForecasted series: \\n\")\n",
    "print(forecast_df)"
   ]
  },
  {
   "cell_type": "markdown",
   "id": "6906c862-7344-48f1-acc3-756b16c2cec0",
   "metadata": {},
   "source": [
    "# Model Comparison"
   ]
  },
  {
   "cell_type": "code",
   "execution_count": 108,
   "id": "3f136694-93cb-47f8-bf15-904cb0a191b1",
   "metadata": {},
   "outputs": [],
   "source": [
    "results = {\n",
    "    \"Model\": [\"LSTM\", \"ARIMA\", \"Prophet\", \"SARIMAX\"],\n",
    "    \"MSE\": [lstm_mse, arima_mse, prophet_mse, sarimax_mse],\n",
    "    \"RMSE\": [lstm_rmse, arima_rmse, prophet_rmse, sarimax_rmse],\n",
    "    \"MAE\": [lstm_mae, arima_mae, prophet_mae, sarimax_mae],\n",
    "    \"MAPE (%)\": [lstm_mape, arima_mape, prophet_mape, sarimax_mape],\n",
    "    \"Accuracy (%)\": [lstm_accuracy, arima_accuracy, prophet_accuracy, sarimax_accuracy]\n",
    "}\n",
    "pd.set_option(\"display.float_format\", \"{:,.2f}\".format)\n",
    "comparison_df = pd.DataFrame(results)"
   ]
  },
  {
   "cell_type": "code",
   "execution_count": 109,
   "id": "4f3f6037-429b-440b-9a23-0e2d2343867a",
   "metadata": {},
   "outputs": [
    {
     "data": {
      "text/html": [
       "<div>\n",
       "<style scoped>\n",
       "    .dataframe tbody tr th:only-of-type {\n",
       "        vertical-align: middle;\n",
       "    }\n",
       "\n",
       "    .dataframe tbody tr th {\n",
       "        vertical-align: top;\n",
       "    }\n",
       "\n",
       "    .dataframe thead th {\n",
       "        text-align: right;\n",
       "    }\n",
       "</style>\n",
       "<table border=\"1\" class=\"dataframe\">\n",
       "  <thead>\n",
       "    <tr style=\"text-align: right;\">\n",
       "      <th></th>\n",
       "      <th>Model</th>\n",
       "      <th>MSE</th>\n",
       "      <th>RMSE</th>\n",
       "      <th>MAE</th>\n",
       "      <th>MAPE (%)</th>\n",
       "      <th>Accuracy (%)</th>\n",
       "    </tr>\n",
       "  </thead>\n",
       "  <tbody>\n",
       "    <tr>\n",
       "      <th>0</th>\n",
       "      <td>LSTM</td>\n",
       "      <td>940,226,414.60</td>\n",
       "      <td>30,663.11</td>\n",
       "      <td>22,821.30</td>\n",
       "      <td>16.74</td>\n",
       "      <td>83.26</td>\n",
       "    </tr>\n",
       "    <tr>\n",
       "      <th>1</th>\n",
       "      <td>ARIMA</td>\n",
       "      <td>856,831,771.52</td>\n",
       "      <td>29,271.69</td>\n",
       "      <td>23,346.82</td>\n",
       "      <td>16.51</td>\n",
       "      <td>83.49</td>\n",
       "    </tr>\n",
       "    <tr>\n",
       "      <th>2</th>\n",
       "      <td>Prophet</td>\n",
       "      <td>1,720,680,607.96</td>\n",
       "      <td>41,481.09</td>\n",
       "      <td>31,128.04</td>\n",
       "      <td>24.29</td>\n",
       "      <td>75.71</td>\n",
       "    </tr>\n",
       "    <tr>\n",
       "      <th>3</th>\n",
       "      <td>SARIMAX</td>\n",
       "      <td>1,093,994,457.31</td>\n",
       "      <td>33,075.59</td>\n",
       "      <td>21,703.44</td>\n",
       "      <td>16.89</td>\n",
       "      <td>83.11</td>\n",
       "    </tr>\n",
       "  </tbody>\n",
       "</table>\n",
       "</div>"
      ],
      "text/plain": [
       "     Model              MSE      RMSE       MAE  MAPE (%)  Accuracy (%)\n",
       "0     LSTM   940,226,414.60 30,663.11 22,821.30     16.74         83.26\n",
       "1    ARIMA   856,831,771.52 29,271.69 23,346.82     16.51         83.49\n",
       "2  Prophet 1,720,680,607.96 41,481.09 31,128.04     24.29         75.71\n",
       "3  SARIMAX 1,093,994,457.31 33,075.59 21,703.44     16.89         83.11"
      ]
     },
     "execution_count": 109,
     "metadata": {},
     "output_type": "execute_result"
    }
   ],
   "source": [
    "comparison_df"
   ]
  },
  {
   "cell_type": "markdown",
   "id": "94c50f35-202f-4c27-bab2-52bed37f4f06",
   "metadata": {},
   "source": [
    "### ARIMA Model for each SKU"
   ]
  },
  {
   "cell_type": "code",
   "execution_count": 110,
   "id": "95acf713-b971-494b-b825-9b41253a8aec",
   "metadata": {},
   "outputs": [
    {
     "data": {
      "text/html": [
       "<div>\n",
       "<style scoped>\n",
       "    .dataframe tbody tr th:only-of-type {\n",
       "        vertical-align: middle;\n",
       "    }\n",
       "\n",
       "    .dataframe tbody tr th {\n",
       "        vertical-align: top;\n",
       "    }\n",
       "\n",
       "    .dataframe thead th {\n",
       "        text-align: right;\n",
       "    }\n",
       "</style>\n",
       "<table border=\"1\" class=\"dataframe\">\n",
       "  <thead>\n",
       "    <tr style=\"text-align: right;\">\n",
       "      <th></th>\n",
       "      <th>dim_product_sk</th>\n",
       "      <th>year_month</th>\n",
       "      <th>amount</th>\n",
       "      <th>quantity</th>\n",
       "      <th>year</th>\n",
       "      <th>month</th>\n",
       "    </tr>\n",
       "  </thead>\n",
       "  <tbody>\n",
       "    <tr>\n",
       "      <th>0</th>\n",
       "      <td>5</td>\n",
       "      <td>2019-01-01</td>\n",
       "      <td>4,008.34</td>\n",
       "      <td>95.00</td>\n",
       "      <td>2019</td>\n",
       "      <td>1</td>\n",
       "    </tr>\n",
       "    <tr>\n",
       "      <th>1</th>\n",
       "      <td>5</td>\n",
       "      <td>2019-02-01</td>\n",
       "      <td>8,282.05</td>\n",
       "      <td>197.00</td>\n",
       "      <td>2019</td>\n",
       "      <td>2</td>\n",
       "    </tr>\n",
       "    <tr>\n",
       "      <th>2</th>\n",
       "      <td>5</td>\n",
       "      <td>2019-03-01</td>\n",
       "      <td>5,168.46</td>\n",
       "      <td>123.00</td>\n",
       "      <td>2019</td>\n",
       "      <td>3</td>\n",
       "    </tr>\n",
       "    <tr>\n",
       "      <th>3</th>\n",
       "      <td>5</td>\n",
       "      <td>2019-04-01</td>\n",
       "      <td>3,659.85</td>\n",
       "      <td>87.00</td>\n",
       "      <td>2019</td>\n",
       "      <td>4</td>\n",
       "    </tr>\n",
       "    <tr>\n",
       "      <th>4</th>\n",
       "      <td>5</td>\n",
       "      <td>2019-05-01</td>\n",
       "      <td>6,643.27</td>\n",
       "      <td>158.00</td>\n",
       "      <td>2019</td>\n",
       "      <td>5</td>\n",
       "    </tr>\n",
       "  </tbody>\n",
       "</table>\n",
       "</div>"
      ],
      "text/plain": [
       "   dim_product_sk year_month   amount  quantity  year  month\n",
       "0               5 2019-01-01 4,008.34     95.00  2019      1\n",
       "1               5 2019-02-01 8,282.05    197.00  2019      2\n",
       "2               5 2019-03-01 5,168.46    123.00  2019      3\n",
       "3               5 2019-04-01 3,659.85     87.00  2019      4\n",
       "4               5 2019-05-01 6,643.27    158.00  2019      5"
      ]
     },
     "execution_count": 110,
     "metadata": {},
     "output_type": "execute_result"
    }
   ],
   "source": [
    "df.head()"
   ]
  },
  {
   "cell_type": "code",
   "execution_count": 111,
   "id": "e5de77b4-b959-4e9e-b8e7-d2f89a614aaf",
   "metadata": {},
   "outputs": [],
   "source": [
    "df['year_month'] = pd.to_datetime(df['year_month'])"
   ]
  },
  {
   "cell_type": "code",
   "execution_count": 118,
   "id": "3bf3c358-6911-44c5-b8ab-b7e50457b12f",
   "metadata": {},
   "outputs": [],
   "source": [
    "arima_models = {}\n",
    "prophet_models = {}"
   ]
  },
  {
   "cell_type": "code",
   "execution_count": 121,
   "id": "a6f3d6ed-e87f-4a8e-8f4e-0dbc8c17e3ed",
   "metadata": {},
   "outputs": [],
   "source": [
    "for sku, group in df.groupby('dim_product_sk'):\n",
    "\n",
    "    series = group.set_index('year_month')['quantity'].asfreq('MS')\n",
    "\n",
    "    try:\n",
    "        arima_model = ARIMA(series, order=(1, 1, 1))\n",
    "        fitted_model = arima_model.fit()\n",
    "        arima_models[sku] = fitted_model\n",
    "    except Exception as e:\n",
    "        print(f'Training failed for SKU: {sku}, Reason : {e}')    "
   ]
  },
  {
   "cell_type": "code",
   "execution_count": null,
   "id": "f5fef422-9d7f-4871-9a3b-47b26d8af4a9",
   "metadata": {},
   "outputs": [
    {
     "name": "stderr",
     "output_type": "stream",
     "text": [
      "21:28:53 - cmdstanpy - INFO - Chain [1] start processing\n",
      "21:28:54 - cmdstanpy - INFO - Chain [1] done processing\n",
      "21:28:54 - cmdstanpy - INFO - Chain [1] start processing\n",
      "21:28:55 - cmdstanpy - INFO - Chain [1] done processing\n",
      "21:28:55 - cmdstanpy - INFO - Chain [1] start processing\n",
      "21:28:55 - cmdstanpy - INFO - Chain [1] done processing\n",
      "21:28:56 - cmdstanpy - INFO - Chain [1] start processing\n",
      "21:28:56 - cmdstanpy - INFO - Chain [1] done processing\n",
      "21:28:56 - cmdstanpy - INFO - Chain [1] start processing\n",
      "21:28:56 - cmdstanpy - INFO - Chain [1] done processing\n",
      "21:28:57 - cmdstanpy - INFO - Chain [1] start processing\n",
      "21:28:57 - cmdstanpy - INFO - Chain [1] done processing\n",
      "21:28:57 - cmdstanpy - INFO - Chain [1] start processing\n",
      "21:28:57 - cmdstanpy - INFO - Chain [1] done processing\n",
      "21:28:58 - cmdstanpy - INFO - Chain [1] start processing\n",
      "21:28:58 - cmdstanpy - INFO - Chain [1] done processing\n",
      "21:28:58 - cmdstanpy - INFO - Chain [1] start processing\n",
      "21:28:58 - cmdstanpy - INFO - Chain [1] done processing\n",
      "21:28:59 - cmdstanpy - INFO - Chain [1] start processing\n",
      "21:28:59 - cmdstanpy - INFO - Chain [1] done processing\n",
      "21:28:59 - cmdstanpy - INFO - Chain [1] start processing\n",
      "21:28:59 - cmdstanpy - INFO - Chain [1] done processing\n",
      "21:29:00 - cmdstanpy - INFO - Chain [1] start processing\n",
      "21:29:00 - cmdstanpy - INFO - Chain [1] done processing\n",
      "21:29:00 - cmdstanpy - INFO - Chain [1] start processing\n",
      "21:29:01 - cmdstanpy - INFO - Chain [1] done processing\n",
      "21:29:01 - cmdstanpy - INFO - Chain [1] start processing\n",
      "21:29:01 - cmdstanpy - INFO - Chain [1] done processing\n",
      "21:29:01 - cmdstanpy - INFO - Chain [1] start processing\n",
      "21:29:01 - cmdstanpy - INFO - Chain [1] done processing\n",
      "21:29:02 - cmdstanpy - INFO - Chain [1] start processing\n",
      "21:29:02 - cmdstanpy - INFO - Chain [1] done processing\n",
      "21:29:02 - cmdstanpy - INFO - Chain [1] start processing\n",
      "21:29:02 - cmdstanpy - INFO - Chain [1] done processing\n",
      "21:29:03 - cmdstanpy - INFO - Chain [1] start processing\n",
      "21:29:03 - cmdstanpy - INFO - Chain [1] done processing\n",
      "21:29:03 - cmdstanpy - INFO - Chain [1] start processing\n",
      "21:29:03 - cmdstanpy - INFO - Chain [1] done processing\n",
      "21:29:03 - cmdstanpy - INFO - Chain [1] start processing\n",
      "21:29:04 - cmdstanpy - INFO - Chain [1] done processing\n",
      "21:29:04 - cmdstanpy - INFO - Chain [1] start processing\n",
      "21:29:04 - cmdstanpy - INFO - Chain [1] done processing\n",
      "21:29:05 - cmdstanpy - INFO - Chain [1] start processing\n",
      "21:29:05 - cmdstanpy - INFO - Chain [1] done processing\n",
      "21:29:05 - cmdstanpy - INFO - Chain [1] start processing\n",
      "21:29:05 - cmdstanpy - INFO - Chain [1] done processing\n",
      "21:29:05 - cmdstanpy - INFO - Chain [1] start processing\n",
      "21:29:06 - cmdstanpy - INFO - Chain [1] done processing\n",
      "21:29:06 - cmdstanpy - INFO - Chain [1] start processing\n",
      "21:29:06 - cmdstanpy - INFO - Chain [1] done processing\n",
      "21:29:06 - cmdstanpy - INFO - Chain [1] start processing\n",
      "21:29:07 - cmdstanpy - INFO - Chain [1] done processing\n",
      "21:29:07 - cmdstanpy - INFO - Chain [1] start processing\n",
      "21:29:07 - cmdstanpy - INFO - Chain [1] done processing\n",
      "21:29:07 - cmdstanpy - INFO - Chain [1] start processing\n",
      "21:29:08 - cmdstanpy - INFO - Chain [1] done processing\n",
      "21:29:08 - cmdstanpy - INFO - Chain [1] start processing\n",
      "21:29:08 - cmdstanpy - INFO - Chain [1] done processing\n",
      "21:29:08 - cmdstanpy - INFO - Chain [1] start processing\n",
      "21:29:09 - cmdstanpy - INFO - Chain [1] done processing\n",
      "21:29:09 - cmdstanpy - INFO - Chain [1] start processing\n",
      "21:29:09 - cmdstanpy - INFO - Chain [1] done processing\n",
      "21:29:09 - cmdstanpy - INFO - Chain [1] start processing\n",
      "21:29:09 - cmdstanpy - INFO - Chain [1] done processing\n",
      "21:29:10 - cmdstanpy - INFO - Chain [1] start processing\n",
      "21:29:10 - cmdstanpy - INFO - Chain [1] done processing\n",
      "21:29:10 - cmdstanpy - INFO - Chain [1] start processing\n",
      "21:29:10 - cmdstanpy - INFO - Chain [1] done processing\n",
      "21:29:11 - cmdstanpy - INFO - Chain [1] start processing\n",
      "21:29:11 - cmdstanpy - INFO - Chain [1] done processing\n",
      "21:29:11 - cmdstanpy - INFO - Chain [1] start processing\n",
      "21:29:11 - cmdstanpy - INFO - Chain [1] done processing\n",
      "21:29:12 - cmdstanpy - INFO - Chain [1] start processing\n",
      "21:29:12 - cmdstanpy - INFO - Chain [1] done processing\n",
      "21:29:12 - cmdstanpy - INFO - Chain [1] start processing\n",
      "21:29:12 - cmdstanpy - INFO - Chain [1] done processing\n",
      "21:29:12 - cmdstanpy - INFO - Chain [1] start processing\n",
      "21:29:13 - cmdstanpy - INFO - Chain [1] done processing\n",
      "21:29:13 - cmdstanpy - INFO - Chain [1] start processing\n",
      "21:29:13 - cmdstanpy - INFO - Chain [1] done processing\n",
      "21:29:13 - cmdstanpy - INFO - Chain [1] start processing\n",
      "21:29:14 - cmdstanpy - INFO - Chain [1] done processing\n",
      "21:29:14 - cmdstanpy - INFO - Chain [1] start processing\n",
      "21:29:14 - cmdstanpy - INFO - Chain [1] done processing\n",
      "21:29:14 - cmdstanpy - INFO - Chain [1] start processing\n",
      "21:29:15 - cmdstanpy - INFO - Chain [1] done processing\n",
      "21:29:15 - cmdstanpy - INFO - Chain [1] start processing\n",
      "21:29:15 - cmdstanpy - INFO - Chain [1] done processing\n",
      "21:29:15 - cmdstanpy - INFO - Chain [1] start processing\n",
      "21:29:16 - cmdstanpy - INFO - Chain [1] done processing\n",
      "21:29:16 - cmdstanpy - INFO - Chain [1] start processing\n",
      "21:29:16 - cmdstanpy - INFO - Chain [1] done processing\n",
      "21:29:16 - cmdstanpy - INFO - Chain [1] start processing\n",
      "21:29:16 - cmdstanpy - INFO - Chain [1] done processing\n",
      "21:29:17 - cmdstanpy - INFO - Chain [1] start processing\n",
      "21:29:17 - cmdstanpy - INFO - Chain [1] done processing\n",
      "21:29:17 - cmdstanpy - INFO - Chain [1] start processing\n",
      "21:29:18 - cmdstanpy - INFO - Chain [1] done processing\n",
      "21:29:18 - cmdstanpy - INFO - Chain [1] start processing\n",
      "21:29:18 - cmdstanpy - INFO - Chain [1] done processing\n",
      "21:29:18 - cmdstanpy - INFO - Chain [1] start processing\n",
      "21:29:19 - cmdstanpy - INFO - Chain [1] done processing\n",
      "21:29:19 - cmdstanpy - INFO - Chain [1] start processing\n",
      "21:29:19 - cmdstanpy - INFO - Chain [1] done processing\n",
      "21:29:19 - cmdstanpy - INFO - Chain [1] start processing\n",
      "21:29:19 - cmdstanpy - INFO - Chain [1] done processing\n",
      "21:29:20 - cmdstanpy - INFO - Chain [1] start processing\n",
      "21:29:20 - cmdstanpy - INFO - Chain [1] done processing\n",
      "21:29:20 - cmdstanpy - INFO - Chain [1] start processing\n",
      "21:29:20 - cmdstanpy - INFO - Chain [1] done processing\n",
      "21:29:20 - cmdstanpy - INFO - Chain [1] start processing\n",
      "21:29:21 - cmdstanpy - INFO - Chain [1] done processing\n",
      "21:29:21 - cmdstanpy - INFO - Chain [1] start processing\n",
      "21:29:21 - cmdstanpy - INFO - Chain [1] done processing\n",
      "21:29:21 - cmdstanpy - INFO - Chain [1] start processing\n",
      "21:29:22 - cmdstanpy - INFO - Chain [1] done processing\n",
      "21:29:22 - cmdstanpy - INFO - Chain [1] start processing\n",
      "21:29:22 - cmdstanpy - INFO - Chain [1] done processing\n",
      "21:29:22 - cmdstanpy - INFO - Chain [1] start processing\n",
      "21:29:22 - cmdstanpy - INFO - Chain [1] done processing\n",
      "21:29:23 - cmdstanpy - INFO - Chain [1] start processing\n",
      "21:29:23 - cmdstanpy - INFO - Chain [1] done processing\n",
      "21:29:23 - cmdstanpy - INFO - Chain [1] start processing\n",
      "21:29:23 - cmdstanpy - INFO - Chain [1] done processing\n",
      "21:29:24 - cmdstanpy - INFO - Chain [1] start processing\n",
      "21:29:24 - cmdstanpy - INFO - Chain [1] done processing\n",
      "21:29:24 - cmdstanpy - INFO - Chain [1] start processing\n",
      "21:29:24 - cmdstanpy - INFO - Chain [1] done processing\n",
      "21:29:24 - cmdstanpy - INFO - Chain [1] start processing\n",
      "21:29:25 - cmdstanpy - INFO - Chain [1] done processing\n",
      "21:29:25 - cmdstanpy - INFO - Chain [1] start processing\n",
      "21:29:25 - cmdstanpy - INFO - Chain [1] done processing\n",
      "21:29:25 - cmdstanpy - INFO - Chain [1] start processing\n",
      "21:29:26 - cmdstanpy - INFO - Chain [1] done processing\n",
      "21:29:26 - cmdstanpy - INFO - Chain [1] start processing\n",
      "21:29:26 - cmdstanpy - INFO - Chain [1] done processing\n",
      "21:29:26 - cmdstanpy - INFO - Chain [1] start processing\n",
      "21:29:26 - cmdstanpy - INFO - Chain [1] done processing\n",
      "21:29:27 - cmdstanpy - INFO - Chain [1] start processing\n",
      "21:29:27 - cmdstanpy - INFO - Chain [1] done processing\n",
      "21:29:27 - cmdstanpy - INFO - Chain [1] start processing\n",
      "21:29:27 - cmdstanpy - INFO - Chain [1] done processing\n",
      "21:29:27 - cmdstanpy - INFO - Chain [1] start processing\n",
      "21:29:28 - cmdstanpy - INFO - Chain [1] done processing\n",
      "21:29:28 - cmdstanpy - INFO - Chain [1] start processing\n",
      "21:29:28 - cmdstanpy - INFO - Chain [1] done processing\n",
      "21:29:28 - cmdstanpy - INFO - Chain [1] start processing\n",
      "21:29:29 - cmdstanpy - INFO - Chain [1] done processing\n",
      "21:29:29 - cmdstanpy - INFO - Chain [1] start processing\n",
      "21:29:29 - cmdstanpy - INFO - Chain [1] done processing\n",
      "21:29:29 - cmdstanpy - INFO - Chain [1] start processing\n",
      "21:29:29 - cmdstanpy - INFO - Chain [1] done processing\n",
      "21:29:29 - cmdstanpy - INFO - Chain [1] start processing\n",
      "21:29:30 - cmdstanpy - INFO - Chain [1] done processing\n",
      "21:29:30 - cmdstanpy - INFO - Chain [1] start processing\n",
      "21:29:30 - cmdstanpy - INFO - Chain [1] done processing\n",
      "21:29:30 - cmdstanpy - INFO - Chain [1] start processing\n",
      "21:29:30 - cmdstanpy - INFO - Chain [1] done processing\n",
      "21:29:31 - cmdstanpy - INFO - Chain [1] start processing\n",
      "21:29:31 - cmdstanpy - INFO - Chain [1] done processing\n",
      "21:29:31 - cmdstanpy - INFO - Chain [1] start processing\n",
      "21:29:32 - cmdstanpy - INFO - Chain [1] done processing\n",
      "21:29:32 - cmdstanpy - INFO - Chain [1] start processing\n",
      "21:29:32 - cmdstanpy - INFO - Chain [1] done processing\n",
      "21:29:32 - cmdstanpy - INFO - Chain [1] start processing\n",
      "21:29:33 - cmdstanpy - INFO - Chain [1] done processing\n",
      "21:29:33 - cmdstanpy - INFO - Chain [1] start processing\n",
      "21:29:33 - cmdstanpy - INFO - Chain [1] done processing\n",
      "21:29:33 - cmdstanpy - INFO - Chain [1] start processing\n",
      "21:29:33 - cmdstanpy - INFO - Chain [1] done processing\n",
      "21:29:34 - cmdstanpy - INFO - Chain [1] start processing\n",
      "21:29:34 - cmdstanpy - INFO - Chain [1] done processing\n",
      "21:29:34 - cmdstanpy - INFO - Chain [1] start processing\n",
      "21:29:34 - cmdstanpy - INFO - Chain [1] done processing\n",
      "21:29:34 - cmdstanpy - INFO - Chain [1] start processing\n",
      "21:29:35 - cmdstanpy - INFO - Chain [1] done processing\n",
      "21:29:35 - cmdstanpy - INFO - Chain [1] start processing\n",
      "21:29:35 - cmdstanpy - INFO - Chain [1] done processing\n",
      "21:29:35 - cmdstanpy - INFO - Chain [1] start processing\n",
      "21:29:35 - cmdstanpy - INFO - Chain [1] done processing\n",
      "21:29:36 - cmdstanpy - INFO - Chain [1] start processing\n",
      "21:29:36 - cmdstanpy - INFO - Chain [1] done processing\n",
      "21:29:36 - cmdstanpy - INFO - Chain [1] start processing\n",
      "21:29:37 - cmdstanpy - INFO - Chain [1] done processing\n",
      "21:29:37 - cmdstanpy - INFO - Chain [1] start processing\n",
      "21:29:37 - cmdstanpy - INFO - Chain [1] done processing\n",
      "21:29:37 - cmdstanpy - INFO - Chain [1] start processing\n",
      "21:29:38 - cmdstanpy - INFO - Chain [1] done processing\n",
      "21:29:38 - cmdstanpy - INFO - Chain [1] start processing\n",
      "21:29:38 - cmdstanpy - INFO - Chain [1] done processing\n",
      "21:29:39 - cmdstanpy - INFO - Chain [1] start processing\n",
      "21:29:39 - cmdstanpy - INFO - Chain [1] done processing\n",
      "21:29:39 - cmdstanpy - INFO - Chain [1] start processing\n",
      "21:29:39 - cmdstanpy - INFO - Chain [1] done processing\n",
      "21:29:40 - cmdstanpy - INFO - Chain [1] start processing\n",
      "21:29:40 - cmdstanpy - INFO - Chain [1] done processing\n",
      "21:29:40 - cmdstanpy - INFO - Chain [1] start processing\n",
      "21:29:41 - cmdstanpy - INFO - Chain [1] done processing\n",
      "21:29:41 - cmdstanpy - INFO - Chain [1] start processing\n",
      "21:29:41 - cmdstanpy - INFO - Chain [1] done processing\n",
      "21:29:41 - cmdstanpy - INFO - Chain [1] start processing\n",
      "21:29:41 - cmdstanpy - INFO - Chain [1] done processing\n",
      "21:29:42 - cmdstanpy - INFO - Chain [1] start processing\n",
      "21:29:42 - cmdstanpy - INFO - Chain [1] done processing\n",
      "21:29:42 - cmdstanpy - INFO - Chain [1] start processing\n",
      "21:29:42 - cmdstanpy - INFO - Chain [1] done processing\n",
      "21:29:42 - cmdstanpy - INFO - Chain [1] start processing\n",
      "21:29:43 - cmdstanpy - INFO - Chain [1] done processing\n",
      "21:29:43 - cmdstanpy - INFO - Chain [1] start processing\n",
      "21:29:43 - cmdstanpy - INFO - Chain [1] done processing\n",
      "21:29:43 - cmdstanpy - INFO - Chain [1] start processing\n",
      "21:29:44 - cmdstanpy - INFO - Chain [1] done processing\n",
      "21:29:44 - cmdstanpy - INFO - Chain [1] start processing\n",
      "21:29:44 - cmdstanpy - INFO - Chain [1] done processing\n",
      "21:29:44 - cmdstanpy - INFO - Chain [1] start processing\n",
      "21:29:44 - cmdstanpy - INFO - Chain [1] done processing\n",
      "21:29:45 - cmdstanpy - INFO - Chain [1] start processing\n",
      "21:29:45 - cmdstanpy - INFO - Chain [1] done processing\n",
      "21:29:45 - cmdstanpy - INFO - Chain [1] start processing\n",
      "21:29:45 - cmdstanpy - INFO - Chain [1] done processing\n",
      "21:29:45 - cmdstanpy - INFO - Chain [1] start processing\n",
      "21:29:46 - cmdstanpy - INFO - Chain [1] done processing\n",
      "21:29:46 - cmdstanpy - INFO - Chain [1] start processing\n",
      "21:29:46 - cmdstanpy - INFO - Chain [1] done processing\n",
      "21:29:46 - cmdstanpy - INFO - Chain [1] start processing\n",
      "21:29:47 - cmdstanpy - INFO - Chain [1] done processing\n",
      "21:29:47 - cmdstanpy - INFO - Chain [1] start processing\n",
      "21:29:47 - cmdstanpy - INFO - Chain [1] done processing\n",
      "21:29:47 - cmdstanpy - INFO - Chain [1] start processing\n",
      "21:29:48 - cmdstanpy - INFO - Chain [1] done processing\n",
      "21:29:48 - cmdstanpy - INFO - Chain [1] start processing\n",
      "21:29:48 - cmdstanpy - INFO - Chain [1] done processing\n",
      "21:29:48 - cmdstanpy - INFO - Chain [1] start processing\n",
      "21:29:48 - cmdstanpy - INFO - Chain [1] done processing\n",
      "21:29:49 - cmdstanpy - INFO - Chain [1] start processing\n",
      "21:29:49 - cmdstanpy - INFO - Chain [1] done processing\n",
      "21:29:49 - cmdstanpy - INFO - Chain [1] start processing\n",
      "21:29:49 - cmdstanpy - INFO - Chain [1] done processing\n",
      "21:29:49 - cmdstanpy - INFO - Chain [1] start processing\n",
      "21:29:50 - cmdstanpy - INFO - Chain [1] done processing\n",
      "21:29:50 - cmdstanpy - INFO - Chain [1] start processing\n",
      "21:29:50 - cmdstanpy - INFO - Chain [1] done processing\n",
      "21:29:50 - cmdstanpy - INFO - Chain [1] start processing\n",
      "21:29:51 - cmdstanpy - INFO - Chain [1] done processing\n",
      "21:29:51 - cmdstanpy - INFO - Chain [1] start processing\n",
      "21:29:51 - cmdstanpy - INFO - Chain [1] done processing\n",
      "21:29:51 - cmdstanpy - INFO - Chain [1] start processing\n",
      "21:29:52 - cmdstanpy - INFO - Chain [1] done processing\n",
      "21:29:52 - cmdstanpy - INFO - Chain [1] start processing\n",
      "21:29:52 - cmdstanpy - INFO - Chain [1] done processing\n",
      "21:29:52 - cmdstanpy - INFO - Chain [1] start processing\n",
      "21:29:53 - cmdstanpy - INFO - Chain [1] done processing\n",
      "21:29:53 - cmdstanpy - INFO - Chain [1] start processing\n",
      "21:29:53 - cmdstanpy - INFO - Chain [1] done processing\n",
      "21:29:53 - cmdstanpy - INFO - Chain [1] start processing\n",
      "21:29:54 - cmdstanpy - INFO - Chain [1] done processing\n",
      "21:29:54 - cmdstanpy - INFO - Chain [1] start processing\n",
      "21:29:54 - cmdstanpy - INFO - Chain [1] done processing\n",
      "21:29:54 - cmdstanpy - INFO - Chain [1] start processing\n",
      "21:29:54 - cmdstanpy - INFO - Chain [1] done processing\n",
      "21:29:55 - cmdstanpy - INFO - Chain [1] start processing\n",
      "21:29:55 - cmdstanpy - INFO - Chain [1] done processing\n",
      "21:29:55 - cmdstanpy - INFO - Chain [1] start processing\n",
      "21:29:55 - cmdstanpy - INFO - Chain [1] done processing\n",
      "21:29:55 - cmdstanpy - INFO - Chain [1] start processing\n",
      "21:29:56 - cmdstanpy - INFO - Chain [1] done processing\n",
      "21:29:56 - cmdstanpy - INFO - Chain [1] start processing\n",
      "21:29:56 - cmdstanpy - INFO - Chain [1] done processing\n",
      "21:29:56 - cmdstanpy - INFO - Chain [1] start processing\n",
      "21:29:57 - cmdstanpy - INFO - Chain [1] done processing\n",
      "21:29:57 - cmdstanpy - INFO - Chain [1] start processing\n",
      "21:29:57 - cmdstanpy - INFO - Chain [1] done processing\n",
      "21:29:57 - cmdstanpy - INFO - Chain [1] start processing\n",
      "21:29:58 - cmdstanpy - INFO - Chain [1] done processing\n",
      "21:29:58 - cmdstanpy - INFO - Chain [1] start processing\n",
      "21:29:58 - cmdstanpy - INFO - Chain [1] done processing\n",
      "21:29:58 - cmdstanpy - INFO - Chain [1] start processing\n",
      "21:29:59 - cmdstanpy - INFO - Chain [1] done processing\n",
      "21:29:59 - cmdstanpy - INFO - Chain [1] start processing\n",
      "21:29:59 - cmdstanpy - INFO - Chain [1] done processing\n",
      "21:29:59 - cmdstanpy - INFO - Chain [1] start processing\n",
      "21:29:59 - cmdstanpy - INFO - Chain [1] done processing\n",
      "21:30:00 - cmdstanpy - INFO - Chain [1] start processing\n",
      "21:30:00 - cmdstanpy - INFO - Chain [1] done processing\n",
      "21:30:00 - cmdstanpy - INFO - Chain [1] start processing\n",
      "21:30:00 - cmdstanpy - INFO - Chain [1] done processing\n",
      "21:30:01 - cmdstanpy - INFO - Chain [1] start processing\n",
      "21:30:01 - cmdstanpy - INFO - Chain [1] done processing\n",
      "21:30:01 - cmdstanpy - INFO - Chain [1] start processing\n",
      "21:30:01 - cmdstanpy - INFO - Chain [1] done processing\n",
      "21:30:02 - cmdstanpy - INFO - Chain [1] start processing\n",
      "21:30:02 - cmdstanpy - INFO - Chain [1] done processing\n",
      "21:30:02 - cmdstanpy - INFO - Chain [1] start processing\n",
      "21:30:02 - cmdstanpy - INFO - Chain [1] done processing\n",
      "21:30:03 - cmdstanpy - INFO - Chain [1] start processing\n",
      "21:30:03 - cmdstanpy - INFO - Chain [1] done processing\n",
      "21:30:03 - cmdstanpy - INFO - Chain [1] start processing\n",
      "21:30:04 - cmdstanpy - INFO - Chain [1] done processing\n",
      "21:30:04 - cmdstanpy - INFO - Chain [1] start processing\n",
      "21:30:04 - cmdstanpy - INFO - Chain [1] done processing\n",
      "21:30:05 - cmdstanpy - INFO - Chain [1] start processing\n",
      "21:30:05 - cmdstanpy - INFO - Chain [1] done processing\n",
      "21:30:05 - cmdstanpy - INFO - Chain [1] start processing\n",
      "21:30:06 - cmdstanpy - INFO - Chain [1] done processing\n",
      "21:30:06 - cmdstanpy - INFO - Chain [1] start processing\n",
      "21:30:06 - cmdstanpy - INFO - Chain [1] done processing\n",
      "21:30:06 - cmdstanpy - INFO - Chain [1] start processing\n",
      "21:30:07 - cmdstanpy - INFO - Chain [1] done processing\n",
      "21:30:07 - cmdstanpy - INFO - Chain [1] start processing\n",
      "21:30:07 - cmdstanpy - INFO - Chain [1] done processing\n",
      "21:30:08 - cmdstanpy - INFO - Chain [1] start processing\n",
      "21:30:08 - cmdstanpy - INFO - Chain [1] done processing\n",
      "21:30:08 - cmdstanpy - INFO - Chain [1] start processing\n",
      "21:30:08 - cmdstanpy - INFO - Chain [1] done processing\n",
      "21:30:08 - cmdstanpy - INFO - Chain [1] start processing\n",
      "21:30:09 - cmdstanpy - INFO - Chain [1] done processing\n",
      "21:30:09 - cmdstanpy - INFO - Chain [1] start processing\n",
      "21:30:09 - cmdstanpy - INFO - Chain [1] done processing\n",
      "21:30:09 - cmdstanpy - INFO - Chain [1] start processing\n",
      "21:30:10 - cmdstanpy - INFO - Chain [1] done processing\n",
      "21:30:10 - cmdstanpy - INFO - Chain [1] start processing\n",
      "21:30:10 - cmdstanpy - INFO - Chain [1] done processing\n",
      "21:30:10 - cmdstanpy - INFO - Chain [1] start processing\n",
      "21:30:11 - cmdstanpy - INFO - Chain [1] done processing\n",
      "21:30:11 - cmdstanpy - INFO - Chain [1] start processing\n",
      "21:30:11 - cmdstanpy - INFO - Chain [1] done processing\n",
      "21:30:11 - cmdstanpy - INFO - Chain [1] start processing\n",
      "21:30:12 - cmdstanpy - INFO - Chain [1] done processing\n",
      "21:30:12 - cmdstanpy - INFO - Chain [1] start processing\n",
      "21:30:12 - cmdstanpy - INFO - Chain [1] done processing\n",
      "21:30:12 - cmdstanpy - INFO - Chain [1] start processing\n",
      "21:30:12 - cmdstanpy - INFO - Chain [1] done processing\n",
      "21:30:13 - cmdstanpy - INFO - Chain [1] start processing\n",
      "21:30:13 - cmdstanpy - INFO - Chain [1] done processing\n",
      "21:30:13 - cmdstanpy - INFO - Chain [1] start processing\n",
      "21:30:13 - cmdstanpy - INFO - Chain [1] done processing\n",
      "21:30:14 - cmdstanpy - INFO - Chain [1] start processing\n",
      "21:30:14 - cmdstanpy - INFO - Chain [1] done processing\n",
      "21:30:14 - cmdstanpy - INFO - Chain [1] start processing\n",
      "21:30:14 - cmdstanpy - INFO - Chain [1] done processing\n",
      "21:30:14 - cmdstanpy - INFO - Chain [1] start processing\n",
      "21:30:15 - cmdstanpy - INFO - Chain [1] done processing\n",
      "21:30:15 - cmdstanpy - INFO - Chain [1] start processing\n",
      "21:30:15 - cmdstanpy - INFO - Chain [1] done processing\n",
      "21:30:15 - cmdstanpy - INFO - Chain [1] start processing\n",
      "21:30:16 - cmdstanpy - INFO - Chain [1] done processing\n",
      "21:30:16 - cmdstanpy - INFO - Chain [1] start processing\n",
      "21:30:16 - cmdstanpy - INFO - Chain [1] done processing\n",
      "21:30:16 - cmdstanpy - INFO - Chain [1] start processing\n",
      "21:30:17 - cmdstanpy - INFO - Chain [1] done processing\n",
      "21:30:17 - cmdstanpy - INFO - Chain [1] start processing\n",
      "21:30:18 - cmdstanpy - INFO - Chain [1] done processing\n",
      "21:30:18 - cmdstanpy - INFO - Chain [1] start processing\n",
      "21:30:18 - cmdstanpy - INFO - Chain [1] done processing\n",
      "21:30:19 - cmdstanpy - INFO - Chain [1] start processing\n",
      "21:30:19 - cmdstanpy - INFO - Chain [1] done processing\n",
      "21:30:19 - cmdstanpy - INFO - Chain [1] start processing\n",
      "21:30:19 - cmdstanpy - INFO - Chain [1] done processing\n",
      "21:30:20 - cmdstanpy - INFO - Chain [1] start processing\n",
      "21:30:20 - cmdstanpy - INFO - Chain [1] done processing\n",
      "21:30:20 - cmdstanpy - INFO - Chain [1] start processing\n",
      "21:30:21 - cmdstanpy - INFO - Chain [1] done processing\n",
      "21:30:21 - cmdstanpy - INFO - Chain [1] start processing\n",
      "21:30:21 - cmdstanpy - INFO - Chain [1] done processing\n",
      "21:30:21 - cmdstanpy - INFO - Chain [1] start processing\n",
      "21:30:22 - cmdstanpy - INFO - Chain [1] done processing\n",
      "21:30:22 - cmdstanpy - INFO - Chain [1] start processing\n",
      "21:30:22 - cmdstanpy - INFO - Chain [1] done processing\n",
      "21:30:22 - cmdstanpy - INFO - Chain [1] start processing\n",
      "21:30:22 - cmdstanpy - INFO - Chain [1] done processing\n",
      "21:30:23 - cmdstanpy - INFO - Chain [1] start processing\n",
      "21:30:23 - cmdstanpy - INFO - Chain [1] done processing\n",
      "21:30:23 - cmdstanpy - INFO - Chain [1] start processing\n",
      "21:30:23 - cmdstanpy - INFO - Chain [1] done processing\n",
      "21:30:24 - cmdstanpy - INFO - Chain [1] start processing\n",
      "21:30:24 - cmdstanpy - INFO - Chain [1] done processing\n",
      "21:30:24 - cmdstanpy - INFO - Chain [1] start processing\n",
      "21:30:24 - cmdstanpy - INFO - Chain [1] done processing\n",
      "21:30:25 - cmdstanpy - INFO - Chain [1] start processing\n",
      "21:30:25 - cmdstanpy - INFO - Chain [1] done processing\n",
      "21:30:25 - cmdstanpy - INFO - Chain [1] start processing\n",
      "21:30:25 - cmdstanpy - INFO - Chain [1] done processing\n",
      "21:30:25 - cmdstanpy - INFO - Chain [1] start processing\n",
      "21:30:26 - cmdstanpy - INFO - Chain [1] done processing\n",
      "21:30:26 - cmdstanpy - INFO - Chain [1] start processing\n",
      "21:30:27 - cmdstanpy - INFO - Chain [1] done processing\n",
      "21:30:27 - cmdstanpy - INFO - Chain [1] start processing\n",
      "21:30:27 - cmdstanpy - INFO - Chain [1] done processing\n",
      "21:30:28 - cmdstanpy - INFO - Chain [1] start processing\n",
      "21:30:28 - cmdstanpy - INFO - Chain [1] done processing\n",
      "21:30:28 - cmdstanpy - INFO - Chain [1] start processing\n",
      "21:30:28 - cmdstanpy - INFO - Chain [1] done processing\n",
      "21:30:29 - cmdstanpy - INFO - Chain [1] start processing\n",
      "21:30:29 - cmdstanpy - INFO - Chain [1] done processing\n",
      "21:30:29 - cmdstanpy - INFO - Chain [1] start processing\n",
      "21:30:29 - cmdstanpy - INFO - Chain [1] done processing\n",
      "21:30:30 - cmdstanpy - INFO - Chain [1] start processing\n",
      "21:30:30 - cmdstanpy - INFO - Chain [1] done processing\n",
      "21:30:30 - cmdstanpy - INFO - Chain [1] start processing\n",
      "21:30:31 - cmdstanpy - INFO - Chain [1] done processing\n",
      "21:30:31 - cmdstanpy - INFO - Chain [1] start processing\n",
      "21:30:31 - cmdstanpy - INFO - Chain [1] done processing\n",
      "21:30:31 - cmdstanpy - INFO - Chain [1] start processing\n",
      "21:30:32 - cmdstanpy - INFO - Chain [1] done processing\n",
      "21:30:32 - cmdstanpy - INFO - Chain [1] start processing\n",
      "21:30:32 - cmdstanpy - INFO - Chain [1] done processing\n",
      "21:30:32 - cmdstanpy - INFO - Chain [1] start processing\n",
      "21:30:33 - cmdstanpy - INFO - Chain [1] done processing\n",
      "21:30:33 - cmdstanpy - INFO - Chain [1] start processing\n",
      "21:30:33 - cmdstanpy - INFO - Chain [1] done processing\n",
      "21:30:33 - cmdstanpy - INFO - Chain [1] start processing\n",
      "21:30:34 - cmdstanpy - INFO - Chain [1] done processing\n",
      "21:30:34 - cmdstanpy - INFO - Chain [1] start processing\n",
      "21:30:34 - cmdstanpy - INFO - Chain [1] done processing\n",
      "21:30:34 - cmdstanpy - INFO - Chain [1] start processing\n",
      "21:30:34 - cmdstanpy - INFO - Chain [1] done processing\n",
      "21:30:35 - cmdstanpy - INFO - Chain [1] start processing\n",
      "21:30:35 - cmdstanpy - INFO - Chain [1] done processing\n",
      "21:30:35 - cmdstanpy - INFO - Chain [1] start processing\n",
      "21:30:35 - cmdstanpy - INFO - Chain [1] done processing\n",
      "21:30:36 - cmdstanpy - INFO - Chain [1] start processing\n",
      "21:30:36 - cmdstanpy - INFO - Chain [1] done processing\n",
      "21:30:36 - cmdstanpy - INFO - Chain [1] start processing\n",
      "21:30:36 - cmdstanpy - INFO - Chain [1] done processing\n",
      "21:30:37 - cmdstanpy - INFO - Chain [1] start processing\n",
      "21:30:37 - cmdstanpy - INFO - Chain [1] done processing\n",
      "21:30:37 - cmdstanpy - INFO - Chain [1] start processing\n",
      "21:30:37 - cmdstanpy - INFO - Chain [1] done processing\n",
      "21:30:38 - cmdstanpy - INFO - Chain [1] start processing\n",
      "21:30:38 - cmdstanpy - INFO - Chain [1] done processing\n",
      "21:30:38 - cmdstanpy - INFO - Chain [1] start processing\n",
      "21:30:38 - cmdstanpy - INFO - Chain [1] done processing\n",
      "21:30:39 - cmdstanpy - INFO - Chain [1] start processing\n",
      "21:30:39 - cmdstanpy - INFO - Chain [1] done processing\n",
      "21:30:39 - cmdstanpy - INFO - Chain [1] start processing\n",
      "21:30:39 - cmdstanpy - INFO - Chain [1] done processing\n",
      "21:30:40 - cmdstanpy - INFO - Chain [1] start processing\n",
      "21:30:40 - cmdstanpy - INFO - Chain [1] done processing\n",
      "21:30:40 - cmdstanpy - INFO - Chain [1] start processing\n",
      "21:30:40 - cmdstanpy - INFO - Chain [1] done processing\n",
      "21:30:40 - cmdstanpy - INFO - Chain [1] start processing\n",
      "21:30:41 - cmdstanpy - INFO - Chain [1] done processing\n",
      "21:30:41 - cmdstanpy - INFO - Chain [1] start processing\n",
      "21:30:41 - cmdstanpy - INFO - Chain [1] done processing\n",
      "21:30:41 - cmdstanpy - INFO - Chain [1] start processing\n",
      "21:30:42 - cmdstanpy - INFO - Chain [1] done processing\n",
      "21:30:42 - cmdstanpy - INFO - Chain [1] start processing\n",
      "21:30:42 - cmdstanpy - INFO - Chain [1] done processing\n",
      "21:30:43 - cmdstanpy - INFO - Chain [1] start processing\n",
      "21:30:43 - cmdstanpy - INFO - Chain [1] done processing\n",
      "21:30:43 - cmdstanpy - INFO - Chain [1] start processing\n",
      "21:30:43 - cmdstanpy - INFO - Chain [1] done processing\n",
      "21:30:43 - cmdstanpy - INFO - Chain [1] start processing\n",
      "21:30:44 - cmdstanpy - INFO - Chain [1] done processing\n",
      "21:30:44 - cmdstanpy - INFO - Chain [1] start processing\n",
      "21:30:44 - cmdstanpy - INFO - Chain [1] done processing\n",
      "21:30:44 - cmdstanpy - INFO - Chain [1] start processing\n",
      "21:30:45 - cmdstanpy - INFO - Chain [1] done processing\n",
      "21:30:45 - cmdstanpy - INFO - Chain [1] start processing\n",
      "21:30:45 - cmdstanpy - INFO - Chain [1] done processing\n",
      "21:30:45 - cmdstanpy - INFO - Chain [1] start processing\n",
      "21:30:45 - cmdstanpy - INFO - Chain [1] done processing\n",
      "21:30:46 - cmdstanpy - INFO - Chain [1] start processing\n",
      "21:30:46 - cmdstanpy - INFO - Chain [1] done processing\n",
      "21:30:46 - cmdstanpy - INFO - Chain [1] start processing\n",
      "21:30:46 - cmdstanpy - INFO - Chain [1] done processing\n",
      "21:30:47 - cmdstanpy - INFO - Chain [1] start processing\n",
      "21:30:47 - cmdstanpy - INFO - Chain [1] done processing\n",
      "21:30:47 - cmdstanpy - INFO - Chain [1] start processing\n",
      "21:30:47 - cmdstanpy - INFO - Chain [1] done processing\n",
      "21:30:48 - cmdstanpy - INFO - Chain [1] start processing\n",
      "21:30:48 - cmdstanpy - INFO - Chain [1] done processing\n",
      "21:30:48 - cmdstanpy - INFO - Chain [1] start processing\n",
      "21:30:48 - cmdstanpy - INFO - Chain [1] done processing\n",
      "21:30:49 - cmdstanpy - INFO - Chain [1] start processing\n",
      "21:30:49 - cmdstanpy - INFO - Chain [1] done processing\n",
      "21:30:49 - cmdstanpy - INFO - Chain [1] start processing\n",
      "21:30:49 - cmdstanpy - INFO - Chain [1] done processing\n",
      "21:30:50 - cmdstanpy - INFO - Chain [1] start processing\n",
      "21:30:50 - cmdstanpy - INFO - Chain [1] done processing\n",
      "21:30:50 - cmdstanpy - INFO - Chain [1] start processing\n",
      "21:30:50 - cmdstanpy - INFO - Chain [1] done processing\n",
      "21:30:51 - cmdstanpy - INFO - Chain [1] start processing\n",
      "21:30:51 - cmdstanpy - INFO - Chain [1] done processing\n",
      "21:30:51 - cmdstanpy - INFO - Chain [1] start processing\n",
      "21:30:51 - cmdstanpy - INFO - Chain [1] done processing\n",
      "21:30:52 - cmdstanpy - INFO - Chain [1] start processing\n",
      "21:30:52 - cmdstanpy - INFO - Chain [1] done processing\n",
      "21:30:52 - cmdstanpy - INFO - Chain [1] start processing\n",
      "21:30:52 - cmdstanpy - INFO - Chain [1] done processing\n",
      "21:30:53 - cmdstanpy - INFO - Chain [1] start processing\n",
      "21:30:53 - cmdstanpy - INFO - Chain [1] done processing\n",
      "21:30:53 - cmdstanpy - INFO - Chain [1] start processing\n",
      "21:30:53 - cmdstanpy - INFO - Chain [1] done processing\n",
      "21:30:54 - cmdstanpy - INFO - Chain [1] start processing\n",
      "21:30:54 - cmdstanpy - INFO - Chain [1] done processing\n",
      "21:30:54 - cmdstanpy - INFO - Chain [1] start processing\n",
      "21:30:54 - cmdstanpy - INFO - Chain [1] done processing\n",
      "21:30:55 - cmdstanpy - INFO - Chain [1] start processing\n",
      "21:30:55 - cmdstanpy - INFO - Chain [1] done processing\n",
      "21:30:55 - cmdstanpy - INFO - Chain [1] start processing\n",
      "21:30:55 - cmdstanpy - INFO - Chain [1] done processing\n",
      "21:30:56 - cmdstanpy - INFO - Chain [1] start processing\n",
      "21:30:56 - cmdstanpy - INFO - Chain [1] done processing\n",
      "21:30:56 - cmdstanpy - INFO - Chain [1] start processing\n",
      "21:30:56 - cmdstanpy - INFO - Chain [1] done processing\n",
      "21:30:57 - cmdstanpy - INFO - Chain [1] start processing\n",
      "21:30:57 - cmdstanpy - INFO - Chain [1] done processing\n",
      "21:30:57 - cmdstanpy - INFO - Chain [1] start processing\n",
      "21:30:57 - cmdstanpy - INFO - Chain [1] done processing\n",
      "21:30:58 - cmdstanpy - INFO - Chain [1] start processing\n",
      "21:30:58 - cmdstanpy - INFO - Chain [1] done processing\n",
      "21:30:58 - cmdstanpy - INFO - Chain [1] start processing\n",
      "21:30:58 - cmdstanpy - INFO - Chain [1] done processing\n",
      "21:30:59 - cmdstanpy - INFO - Chain [1] start processing\n",
      "21:30:59 - cmdstanpy - INFO - Chain [1] done processing\n",
      "21:30:59 - cmdstanpy - INFO - Chain [1] start processing\n",
      "21:30:59 - cmdstanpy - INFO - Chain [1] done processing\n",
      "21:30:59 - cmdstanpy - INFO - Chain [1] start processing\n",
      "21:31:00 - cmdstanpy - INFO - Chain [1] done processing\n",
      "21:31:00 - cmdstanpy - INFO - Chain [1] start processing\n",
      "21:31:00 - cmdstanpy - INFO - Chain [1] done processing\n",
      "21:31:00 - cmdstanpy - INFO - Chain [1] start processing\n",
      "21:31:01 - cmdstanpy - INFO - Chain [1] done processing\n",
      "21:31:01 - cmdstanpy - INFO - Chain [1] start processing\n",
      "21:31:01 - cmdstanpy - INFO - Chain [1] done processing\n",
      "21:31:01 - cmdstanpy - INFO - Chain [1] start processing\n",
      "21:31:02 - cmdstanpy - INFO - Chain [1] done processing\n",
      "21:31:02 - cmdstanpy - INFO - Chain [1] start processing\n",
      "21:31:02 - cmdstanpy - INFO - Chain [1] done processing\n",
      "21:31:02 - cmdstanpy - INFO - Chain [1] start processing\n",
      "21:31:02 - cmdstanpy - INFO - Chain [1] done processing\n",
      "21:31:03 - cmdstanpy - INFO - Chain [1] start processing\n",
      "21:31:03 - cmdstanpy - INFO - Chain [1] done processing\n",
      "21:31:03 - cmdstanpy - INFO - Chain [1] start processing\n",
      "21:31:03 - cmdstanpy - INFO - Chain [1] done processing\n",
      "21:31:04 - cmdstanpy - INFO - Chain [1] start processing\n",
      "21:31:04 - cmdstanpy - INFO - Chain [1] done processing\n",
      "21:31:04 - cmdstanpy - INFO - Chain [1] start processing\n",
      "21:31:04 - cmdstanpy - INFO - Chain [1] done processing\n",
      "21:31:04 - cmdstanpy - INFO - Chain [1] start processing\n",
      "21:31:05 - cmdstanpy - INFO - Chain [1] done processing\n",
      "21:31:05 - cmdstanpy - INFO - Chain [1] start processing\n",
      "21:31:05 - cmdstanpy - INFO - Chain [1] done processing\n",
      "21:31:06 - cmdstanpy - INFO - Chain [1] start processing\n",
      "21:31:06 - cmdstanpy - INFO - Chain [1] done processing\n",
      "21:31:06 - cmdstanpy - INFO - Chain [1] start processing\n",
      "21:31:06 - cmdstanpy - INFO - Chain [1] done processing\n",
      "21:31:07 - cmdstanpy - INFO - Chain [1] start processing\n",
      "21:31:07 - cmdstanpy - INFO - Chain [1] done processing\n",
      "21:31:07 - cmdstanpy - INFO - Chain [1] start processing\n",
      "21:31:07 - cmdstanpy - INFO - Chain [1] done processing\n",
      "21:31:08 - cmdstanpy - INFO - Chain [1] start processing\n",
      "21:31:08 - cmdstanpy - INFO - Chain [1] done processing\n",
      "21:31:08 - cmdstanpy - INFO - Chain [1] start processing\n",
      "21:31:08 - cmdstanpy - INFO - Chain [1] done processing\n",
      "21:31:09 - cmdstanpy - INFO - Chain [1] start processing\n",
      "21:31:09 - cmdstanpy - INFO - Chain [1] done processing\n",
      "21:31:09 - cmdstanpy - INFO - Chain [1] start processing\n",
      "21:31:10 - cmdstanpy - INFO - Chain [1] done processing\n",
      "21:31:10 - cmdstanpy - INFO - Chain [1] start processing\n",
      "21:31:10 - cmdstanpy - INFO - Chain [1] done processing\n",
      "21:31:10 - cmdstanpy - INFO - Chain [1] start processing\n",
      "21:31:11 - cmdstanpy - INFO - Chain [1] done processing\n",
      "21:31:11 - cmdstanpy - INFO - Chain [1] start processing\n",
      "21:31:11 - cmdstanpy - INFO - Chain [1] done processing\n",
      "21:31:11 - cmdstanpy - INFO - Chain [1] start processing\n",
      "21:31:12 - cmdstanpy - INFO - Chain [1] done processing\n",
      "21:31:12 - cmdstanpy - INFO - Chain [1] start processing\n",
      "21:31:12 - cmdstanpy - INFO - Chain [1] done processing\n",
      "21:31:13 - cmdstanpy - INFO - Chain [1] start processing\n",
      "21:31:13 - cmdstanpy - INFO - Chain [1] done processing\n",
      "21:31:13 - cmdstanpy - INFO - Chain [1] start processing\n",
      "21:31:13 - cmdstanpy - INFO - Chain [1] done processing\n",
      "21:31:14 - cmdstanpy - INFO - Chain [1] start processing\n",
      "21:31:14 - cmdstanpy - INFO - Chain [1] done processing\n",
      "21:31:14 - cmdstanpy - INFO - Chain [1] start processing\n",
      "21:31:15 - cmdstanpy - INFO - Chain [1] done processing\n",
      "21:31:15 - cmdstanpy - INFO - Chain [1] start processing\n",
      "21:31:15 - cmdstanpy - INFO - Chain [1] done processing\n",
      "21:31:15 - cmdstanpy - INFO - Chain [1] start processing\n",
      "21:31:15 - cmdstanpy - INFO - Chain [1] done processing\n",
      "21:31:16 - cmdstanpy - INFO - Chain [1] start processing\n",
      "21:31:16 - cmdstanpy - INFO - Chain [1] done processing\n",
      "21:31:16 - cmdstanpy - INFO - Chain [1] start processing\n",
      "21:31:16 - cmdstanpy - INFO - Chain [1] done processing\n",
      "21:31:17 - cmdstanpy - INFO - Chain [1] start processing\n",
      "21:31:17 - cmdstanpy - INFO - Chain [1] done processing\n",
      "21:31:17 - cmdstanpy - INFO - Chain [1] start processing\n",
      "21:31:17 - cmdstanpy - INFO - Chain [1] done processing\n",
      "21:31:17 - cmdstanpy - INFO - Chain [1] start processing\n",
      "21:31:18 - cmdstanpy - INFO - Chain [1] done processing\n",
      "21:31:18 - cmdstanpy - INFO - Chain [1] start processing\n",
      "21:31:18 - cmdstanpy - INFO - Chain [1] done processing\n",
      "21:31:19 - cmdstanpy - INFO - Chain [1] start processing\n",
      "21:31:19 - cmdstanpy - INFO - Chain [1] done processing\n",
      "21:31:19 - cmdstanpy - INFO - Chain [1] start processing\n",
      "21:31:19 - cmdstanpy - INFO - Chain [1] done processing\n",
      "21:31:19 - cmdstanpy - INFO - Chain [1] start processing\n",
      "21:31:20 - cmdstanpy - INFO - Chain [1] done processing\n",
      "21:31:20 - cmdstanpy - INFO - Chain [1] start processing\n",
      "21:31:20 - cmdstanpy - INFO - Chain [1] done processing\n",
      "21:31:20 - cmdstanpy - INFO - Chain [1] start processing\n",
      "21:31:21 - cmdstanpy - INFO - Chain [1] done processing\n",
      "21:31:21 - cmdstanpy - INFO - Chain [1] start processing\n",
      "21:31:21 - cmdstanpy - INFO - Chain [1] done processing\n",
      "21:31:21 - cmdstanpy - INFO - Chain [1] start processing\n",
      "21:31:21 - cmdstanpy - INFO - Chain [1] done processing\n",
      "21:31:22 - cmdstanpy - INFO - Chain [1] start processing\n",
      "21:31:22 - cmdstanpy - INFO - Chain [1] done processing\n",
      "21:31:22 - cmdstanpy - INFO - Chain [1] start processing\n",
      "21:31:22 - cmdstanpy - INFO - Chain [1] done processing\n",
      "21:31:22 - cmdstanpy - INFO - Chain [1] start processing\n",
      "21:31:23 - cmdstanpy - INFO - Chain [1] done processing\n",
      "21:31:23 - cmdstanpy - INFO - Chain [1] start processing\n",
      "21:31:23 - cmdstanpy - INFO - Chain [1] done processing\n",
      "21:31:23 - cmdstanpy - INFO - Chain [1] start processing\n",
      "21:31:24 - cmdstanpy - INFO - Chain [1] done processing\n",
      "21:31:24 - cmdstanpy - INFO - Chain [1] start processing\n",
      "21:31:24 - cmdstanpy - INFO - Chain [1] done processing\n",
      "21:31:24 - cmdstanpy - INFO - Chain [1] start processing\n",
      "21:31:25 - cmdstanpy - INFO - Chain [1] done processing\n",
      "21:31:25 - cmdstanpy - INFO - Chain [1] start processing\n",
      "21:31:25 - cmdstanpy - INFO - Chain [1] done processing\n",
      "21:31:25 - cmdstanpy - INFO - Chain [1] start processing\n",
      "21:31:25 - cmdstanpy - INFO - Chain [1] done processing\n",
      "21:31:26 - cmdstanpy - INFO - Chain [1] start processing\n",
      "21:31:26 - cmdstanpy - INFO - Chain [1] done processing\n",
      "21:31:26 - cmdstanpy - INFO - Chain [1] start processing\n",
      "21:31:27 - cmdstanpy - INFO - Chain [1] done processing\n",
      "21:31:27 - cmdstanpy - INFO - Chain [1] start processing\n",
      "21:31:27 - cmdstanpy - INFO - Chain [1] done processing\n",
      "21:31:28 - cmdstanpy - INFO - Chain [1] start processing\n",
      "21:31:28 - cmdstanpy - INFO - Chain [1] done processing\n",
      "21:31:28 - cmdstanpy - INFO - Chain [1] start processing\n",
      "21:31:28 - cmdstanpy - INFO - Chain [1] done processing\n",
      "21:31:28 - cmdstanpy - INFO - Chain [1] start processing\n",
      "21:31:29 - cmdstanpy - INFO - Chain [1] done processing\n",
      "21:31:29 - cmdstanpy - INFO - Chain [1] start processing\n",
      "21:31:29 - cmdstanpy - INFO - Chain [1] done processing\n",
      "21:31:29 - cmdstanpy - INFO - Chain [1] start processing\n",
      "21:31:29 - cmdstanpy - INFO - Chain [1] done processing\n",
      "21:31:30 - cmdstanpy - INFO - Chain [1] start processing\n",
      "21:31:30 - cmdstanpy - INFO - Chain [1] done processing\n",
      "21:31:30 - cmdstanpy - INFO - Chain [1] start processing\n",
      "21:31:30 - cmdstanpy - INFO - Chain [1] done processing\n",
      "21:31:31 - cmdstanpy - INFO - Chain [1] start processing\n",
      "21:31:31 - cmdstanpy - INFO - Chain [1] done processing\n",
      "21:31:31 - cmdstanpy - INFO - Chain [1] start processing\n",
      "21:31:31 - cmdstanpy - INFO - Chain [1] done processing\n",
      "21:31:32 - cmdstanpy - INFO - Chain [1] start processing\n",
      "21:31:32 - cmdstanpy - INFO - Chain [1] done processing\n",
      "21:31:32 - cmdstanpy - INFO - Chain [1] start processing\n",
      "21:31:32 - cmdstanpy - INFO - Chain [1] done processing\n",
      "21:31:32 - cmdstanpy - INFO - Chain [1] start processing\n",
      "21:31:33 - cmdstanpy - INFO - Chain [1] done processing\n",
      "21:31:33 - cmdstanpy - INFO - Chain [1] start processing\n",
      "21:31:33 - cmdstanpy - INFO - Chain [1] done processing\n",
      "21:31:33 - cmdstanpy - INFO - Chain [1] start processing\n",
      "21:31:34 - cmdstanpy - INFO - Chain [1] done processing\n",
      "21:31:34 - cmdstanpy - INFO - Chain [1] start processing\n",
      "21:31:34 - cmdstanpy - INFO - Chain [1] done processing\n",
      "21:31:34 - cmdstanpy - INFO - Chain [1] start processing\n",
      "21:31:35 - cmdstanpy - INFO - Chain [1] done processing\n",
      "21:31:35 - cmdstanpy - INFO - Chain [1] start processing\n",
      "21:31:35 - cmdstanpy - INFO - Chain [1] done processing\n",
      "21:31:36 - cmdstanpy - INFO - Chain [1] start processing\n",
      "21:31:36 - cmdstanpy - INFO - Chain [1] done processing\n",
      "21:31:36 - cmdstanpy - INFO - Chain [1] start processing\n",
      "21:31:36 - cmdstanpy - INFO - Chain [1] done processing\n",
      "21:31:36 - cmdstanpy - INFO - Chain [1] start processing\n",
      "21:31:37 - cmdstanpy - INFO - Chain [1] done processing\n",
      "21:31:37 - cmdstanpy - INFO - Chain [1] start processing\n",
      "21:31:37 - cmdstanpy - INFO - Chain [1] done processing\n",
      "21:31:37 - cmdstanpy - INFO - Chain [1] start processing\n",
      "21:31:38 - cmdstanpy - INFO - Chain [1] done processing\n",
      "21:31:38 - cmdstanpy - INFO - Chain [1] start processing\n",
      "21:31:38 - cmdstanpy - INFO - Chain [1] done processing\n",
      "21:31:38 - cmdstanpy - INFO - Chain [1] start processing\n",
      "21:31:39 - cmdstanpy - INFO - Chain [1] done processing\n",
      "21:31:39 - cmdstanpy - INFO - Chain [1] start processing\n",
      "21:31:39 - cmdstanpy - INFO - Chain [1] done processing\n",
      "21:31:39 - cmdstanpy - INFO - Chain [1] start processing\n",
      "21:31:40 - cmdstanpy - INFO - Chain [1] done processing\n",
      "21:31:40 - cmdstanpy - INFO - Chain [1] start processing\n",
      "21:31:40 - cmdstanpy - INFO - Chain [1] done processing\n",
      "21:31:40 - cmdstanpy - INFO - Chain [1] start processing\n",
      "21:31:41 - cmdstanpy - INFO - Chain [1] done processing\n",
      "21:31:41 - cmdstanpy - INFO - Chain [1] start processing\n",
      "21:31:41 - cmdstanpy - INFO - Chain [1] done processing\n",
      "21:31:41 - cmdstanpy - INFO - Chain [1] start processing\n",
      "21:31:42 - cmdstanpy - INFO - Chain [1] done processing\n",
      "21:31:42 - cmdstanpy - INFO - Chain [1] start processing\n",
      "21:31:42 - cmdstanpy - INFO - Chain [1] done processing\n",
      "21:31:42 - cmdstanpy - INFO - Chain [1] start processing\n",
      "21:31:43 - cmdstanpy - INFO - Chain [1] done processing\n",
      "21:31:43 - cmdstanpy - INFO - Chain [1] start processing\n",
      "21:31:43 - cmdstanpy - INFO - Chain [1] done processing\n",
      "21:31:43 - cmdstanpy - INFO - Chain [1] start processing\n",
      "21:31:44 - cmdstanpy - INFO - Chain [1] done processing\n",
      "21:31:44 - cmdstanpy - INFO - Chain [1] start processing\n",
      "21:31:44 - cmdstanpy - INFO - Chain [1] done processing\n",
      "21:31:44 - cmdstanpy - INFO - Chain [1] start processing\n",
      "21:31:45 - cmdstanpy - INFO - Chain [1] done processing\n",
      "21:31:45 - cmdstanpy - INFO - Chain [1] start processing\n",
      "21:31:46 - cmdstanpy - INFO - Chain [1] done processing\n",
      "21:31:46 - cmdstanpy - INFO - Chain [1] start processing\n",
      "21:31:46 - cmdstanpy - INFO - Chain [1] done processing\n",
      "21:31:46 - cmdstanpy - INFO - Chain [1] start processing\n",
      "21:31:47 - cmdstanpy - INFO - Chain [1] done processing\n",
      "21:31:47 - cmdstanpy - INFO - Chain [1] start processing\n",
      "21:31:48 - cmdstanpy - INFO - Chain [1] done processing\n",
      "21:31:48 - cmdstanpy - INFO - Chain [1] start processing\n",
      "21:31:48 - cmdstanpy - INFO - Chain [1] done processing\n",
      "21:31:48 - cmdstanpy - INFO - Chain [1] start processing\n",
      "21:31:48 - cmdstanpy - INFO - Chain [1] done processing\n",
      "21:31:49 - cmdstanpy - INFO - Chain [1] start processing\n",
      "21:31:49 - cmdstanpy - INFO - Chain [1] done processing\n",
      "21:31:49 - cmdstanpy - INFO - Chain [1] start processing\n",
      "21:31:49 - cmdstanpy - INFO - Chain [1] done processing\n",
      "21:31:50 - cmdstanpy - INFO - Chain [1] start processing\n",
      "21:31:50 - cmdstanpy - INFO - Chain [1] done processing\n",
      "21:31:50 - cmdstanpy - INFO - Chain [1] start processing\n",
      "21:31:50 - cmdstanpy - INFO - Chain [1] done processing\n",
      "21:31:51 - cmdstanpy - INFO - Chain [1] start processing\n",
      "21:31:51 - cmdstanpy - INFO - Chain [1] done processing\n",
      "21:31:51 - cmdstanpy - INFO - Chain [1] start processing\n",
      "21:31:51 - cmdstanpy - INFO - Chain [1] done processing\n",
      "21:31:52 - cmdstanpy - INFO - Chain [1] start processing\n",
      "21:31:52 - cmdstanpy - INFO - Chain [1] done processing\n",
      "21:31:52 - cmdstanpy - INFO - Chain [1] start processing\n",
      "21:31:52 - cmdstanpy - INFO - Chain [1] done processing\n",
      "21:31:53 - cmdstanpy - INFO - Chain [1] start processing\n",
      "21:31:53 - cmdstanpy - INFO - Chain [1] done processing\n",
      "21:31:53 - cmdstanpy - INFO - Chain [1] start processing\n",
      "21:31:53 - cmdstanpy - INFO - Chain [1] done processing\n",
      "21:31:54 - cmdstanpy - INFO - Chain [1] start processing\n",
      "21:31:54 - cmdstanpy - INFO - Chain [1] done processing\n",
      "21:31:54 - cmdstanpy - INFO - Chain [1] start processing\n",
      "21:31:54 - cmdstanpy - INFO - Chain [1] done processing\n",
      "21:31:55 - cmdstanpy - INFO - Chain [1] start processing\n",
      "21:31:55 - cmdstanpy - INFO - Chain [1] done processing\n",
      "21:31:55 - cmdstanpy - INFO - Chain [1] start processing\n",
      "21:31:55 - cmdstanpy - INFO - Chain [1] done processing\n",
      "21:31:56 - cmdstanpy - INFO - Chain [1] start processing\n",
      "21:31:56 - cmdstanpy - INFO - Chain [1] done processing\n",
      "21:31:56 - cmdstanpy - INFO - Chain [1] start processing\n",
      "21:31:57 - cmdstanpy - INFO - Chain [1] done processing\n",
      "21:31:57 - cmdstanpy - INFO - Chain [1] start processing\n",
      "21:31:57 - cmdstanpy - INFO - Chain [1] done processing\n",
      "21:31:57 - cmdstanpy - INFO - Chain [1] start processing\n",
      "21:31:58 - cmdstanpy - INFO - Chain [1] done processing\n",
      "21:31:58 - cmdstanpy - INFO - Chain [1] start processing\n",
      "21:31:58 - cmdstanpy - INFO - Chain [1] done processing\n",
      "21:31:58 - cmdstanpy - INFO - Chain [1] start processing\n",
      "21:31:58 - cmdstanpy - INFO - Chain [1] done processing\n",
      "21:31:59 - cmdstanpy - INFO - Chain [1] start processing\n",
      "21:31:59 - cmdstanpy - INFO - Chain [1] done processing\n",
      "21:31:59 - cmdstanpy - INFO - Chain [1] start processing\n",
      "21:31:59 - cmdstanpy - INFO - Chain [1] done processing\n",
      "21:31:59 - cmdstanpy - INFO - Chain [1] start processing\n",
      "21:32:00 - cmdstanpy - INFO - Chain [1] done processing\n",
      "21:32:00 - cmdstanpy - INFO - Chain [1] start processing\n",
      "21:32:00 - cmdstanpy - INFO - Chain [1] done processing\n",
      "21:32:00 - cmdstanpy - INFO - Chain [1] start processing\n",
      "21:32:01 - cmdstanpy - INFO - Chain [1] done processing\n",
      "21:32:01 - cmdstanpy - INFO - Chain [1] start processing\n",
      "21:32:01 - cmdstanpy - INFO - Chain [1] done processing\n",
      "21:32:01 - cmdstanpy - INFO - Chain [1] start processing\n",
      "21:32:02 - cmdstanpy - INFO - Chain [1] done processing\n",
      "21:32:02 - cmdstanpy - INFO - Chain [1] start processing\n",
      "21:32:02 - cmdstanpy - INFO - Chain [1] done processing\n",
      "21:32:03 - cmdstanpy - INFO - Chain [1] start processing\n",
      "21:32:03 - cmdstanpy - INFO - Chain [1] done processing\n",
      "21:32:03 - cmdstanpy - INFO - Chain [1] start processing\n",
      "21:32:03 - cmdstanpy - INFO - Chain [1] done processing\n",
      "21:32:04 - cmdstanpy - INFO - Chain [1] start processing\n",
      "21:32:04 - cmdstanpy - INFO - Chain [1] done processing\n",
      "21:32:04 - cmdstanpy - INFO - Chain [1] start processing\n",
      "21:32:04 - cmdstanpy - INFO - Chain [1] done processing\n",
      "21:32:05 - cmdstanpy - INFO - Chain [1] start processing\n",
      "21:32:05 - cmdstanpy - INFO - Chain [1] done processing\n",
      "21:32:05 - cmdstanpy - INFO - Chain [1] start processing\n",
      "21:32:05 - cmdstanpy - INFO - Chain [1] done processing\n",
      "21:32:06 - cmdstanpy - INFO - Chain [1] start processing\n",
      "21:32:06 - cmdstanpy - INFO - Chain [1] done processing\n",
      "21:32:06 - cmdstanpy - INFO - Chain [1] start processing\n",
      "21:32:06 - cmdstanpy - INFO - Chain [1] done processing\n",
      "21:32:06 - cmdstanpy - INFO - Chain [1] start processing\n",
      "21:32:07 - cmdstanpy - INFO - Chain [1] done processing\n",
      "21:32:07 - cmdstanpy - INFO - Chain [1] start processing\n",
      "21:32:07 - cmdstanpy - INFO - Chain [1] done processing\n",
      "21:32:07 - cmdstanpy - INFO - Chain [1] start processing\n",
      "21:32:08 - cmdstanpy - INFO - Chain [1] done processing\n",
      "21:32:08 - cmdstanpy - INFO - Chain [1] start processing\n",
      "21:32:08 - cmdstanpy - INFO - Chain [1] done processing\n",
      "21:32:08 - cmdstanpy - INFO - Chain [1] start processing\n",
      "21:32:09 - cmdstanpy - INFO - Chain [1] done processing\n",
      "21:32:09 - cmdstanpy - INFO - Chain [1] start processing\n",
      "21:32:09 - cmdstanpy - INFO - Chain [1] done processing\n",
      "21:32:09 - cmdstanpy - INFO - Chain [1] start processing\n",
      "21:32:10 - cmdstanpy - INFO - Chain [1] done processing\n",
      "21:32:10 - cmdstanpy - INFO - Chain [1] start processing\n",
      "21:32:11 - cmdstanpy - INFO - Chain [1] done processing\n",
      "21:32:11 - cmdstanpy - INFO - Chain [1] start processing\n",
      "21:32:12 - cmdstanpy - INFO - Chain [1] done processing\n",
      "21:32:12 - cmdstanpy - INFO - Chain [1] start processing\n",
      "21:32:13 - cmdstanpy - INFO - Chain [1] done processing\n",
      "21:32:13 - cmdstanpy - INFO - Chain [1] start processing\n",
      "21:32:13 - cmdstanpy - INFO - Chain [1] done processing\n",
      "21:32:14 - cmdstanpy - INFO - Chain [1] start processing\n",
      "21:32:14 - cmdstanpy - INFO - Chain [1] done processing\n",
      "21:32:14 - cmdstanpy - INFO - Chain [1] start processing\n",
      "21:32:14 - cmdstanpy - INFO - Chain [1] done processing\n",
      "21:32:15 - cmdstanpy - INFO - Chain [1] start processing\n",
      "21:32:15 - cmdstanpy - INFO - Chain [1] done processing\n",
      "21:32:15 - cmdstanpy - INFO - Chain [1] start processing\n",
      "21:32:16 - cmdstanpy - INFO - Chain [1] done processing\n",
      "21:32:16 - cmdstanpy - INFO - Chain [1] start processing\n",
      "21:32:16 - cmdstanpy - INFO - Chain [1] done processing\n",
      "21:32:16 - cmdstanpy - INFO - Chain [1] start processing\n",
      "21:32:17 - cmdstanpy - INFO - Chain [1] done processing\n",
      "21:32:17 - cmdstanpy - INFO - Chain [1] start processing\n",
      "21:32:17 - cmdstanpy - INFO - Chain [1] done processing\n",
      "21:32:17 - cmdstanpy - INFO - Chain [1] start processing\n",
      "21:32:18 - cmdstanpy - INFO - Chain [1] done processing\n",
      "21:32:18 - cmdstanpy - INFO - Chain [1] start processing\n",
      "21:32:18 - cmdstanpy - INFO - Chain [1] done processing\n",
      "21:32:19 - cmdstanpy - INFO - Chain [1] start processing\n",
      "21:32:19 - cmdstanpy - INFO - Chain [1] done processing\n",
      "21:32:19 - cmdstanpy - INFO - Chain [1] start processing\n",
      "21:32:19 - cmdstanpy - INFO - Chain [1] done processing\n",
      "21:32:20 - cmdstanpy - INFO - Chain [1] start processing\n",
      "21:32:20 - cmdstanpy - INFO - Chain [1] done processing\n",
      "21:32:20 - cmdstanpy - INFO - Chain [1] start processing\n",
      "21:32:21 - cmdstanpy - INFO - Chain [1] done processing\n",
      "21:32:21 - cmdstanpy - INFO - Chain [1] start processing\n",
      "21:32:21 - cmdstanpy - INFO - Chain [1] done processing\n",
      "21:32:21 - cmdstanpy - INFO - Chain [1] start processing\n",
      "21:32:21 - cmdstanpy - INFO - Chain [1] done processing\n",
      "21:32:22 - cmdstanpy - INFO - Chain [1] start processing\n",
      "21:32:22 - cmdstanpy - INFO - Chain [1] done processing\n",
      "21:32:22 - cmdstanpy - INFO - Chain [1] start processing\n",
      "21:32:23 - cmdstanpy - INFO - Chain [1] done processing\n",
      "21:32:23 - cmdstanpy - INFO - Chain [1] start processing\n",
      "21:32:23 - cmdstanpy - INFO - Chain [1] done processing\n",
      "21:32:23 - cmdstanpy - INFO - Chain [1] start processing\n",
      "21:32:24 - cmdstanpy - INFO - Chain [1] done processing\n",
      "21:32:24 - cmdstanpy - INFO - Chain [1] start processing\n",
      "21:32:24 - cmdstanpy - INFO - Chain [1] done processing\n",
      "21:32:25 - cmdstanpy - INFO - Chain [1] start processing\n",
      "21:32:25 - cmdstanpy - INFO - Chain [1] done processing\n",
      "21:32:25 - cmdstanpy - INFO - Chain [1] start processing\n",
      "21:32:25 - cmdstanpy - INFO - Chain [1] done processing\n",
      "21:32:26 - cmdstanpy - INFO - Chain [1] start processing\n",
      "21:32:26 - cmdstanpy - INFO - Chain [1] done processing\n",
      "21:32:26 - cmdstanpy - INFO - Chain [1] start processing\n",
      "21:32:26 - cmdstanpy - INFO - Chain [1] done processing\n",
      "21:32:27 - cmdstanpy - INFO - Chain [1] start processing\n",
      "21:32:27 - cmdstanpy - INFO - Chain [1] done processing\n",
      "21:32:27 - cmdstanpy - INFO - Chain [1] start processing\n",
      "21:32:27 - cmdstanpy - INFO - Chain [1] done processing\n",
      "21:32:28 - cmdstanpy - INFO - Chain [1] start processing\n",
      "21:32:28 - cmdstanpy - INFO - Chain [1] done processing\n",
      "21:32:28 - cmdstanpy - INFO - Chain [1] start processing\n",
      "21:32:28 - cmdstanpy - INFO - Chain [1] done processing\n",
      "21:32:29 - cmdstanpy - INFO - Chain [1] start processing\n",
      "21:32:29 - cmdstanpy - INFO - Chain [1] done processing\n",
      "21:32:29 - cmdstanpy - INFO - Chain [1] start processing\n",
      "21:32:29 - cmdstanpy - INFO - Chain [1] done processing\n",
      "21:32:29 - cmdstanpy - INFO - Chain [1] start processing\n",
      "21:32:30 - cmdstanpy - INFO - Chain [1] done processing\n",
      "21:32:30 - cmdstanpy - INFO - Chain [1] start processing\n",
      "21:32:30 - cmdstanpy - INFO - Chain [1] done processing\n",
      "21:32:31 - cmdstanpy - INFO - Chain [1] start processing\n",
      "21:32:31 - cmdstanpy - INFO - Chain [1] done processing\n",
      "21:32:31 - cmdstanpy - INFO - Chain [1] start processing\n",
      "21:32:32 - cmdstanpy - INFO - Chain [1] done processing\n",
      "21:32:32 - cmdstanpy - INFO - Chain [1] start processing\n",
      "21:32:32 - cmdstanpy - INFO - Chain [1] done processing\n",
      "21:32:33 - cmdstanpy - INFO - Chain [1] start processing\n",
      "21:32:33 - cmdstanpy - INFO - Chain [1] done processing\n",
      "21:32:33 - cmdstanpy - INFO - Chain [1] start processing\n",
      "21:32:34 - cmdstanpy - INFO - Chain [1] done processing\n",
      "21:32:34 - cmdstanpy - INFO - Chain [1] start processing\n",
      "21:32:34 - cmdstanpy - INFO - Chain [1] done processing\n",
      "21:32:34 - cmdstanpy - INFO - Chain [1] start processing\n",
      "21:32:35 - cmdstanpy - INFO - Chain [1] done processing\n",
      "21:32:35 - cmdstanpy - INFO - Chain [1] start processing\n",
      "21:32:35 - cmdstanpy - INFO - Chain [1] done processing\n",
      "21:32:35 - cmdstanpy - INFO - Chain [1] start processing\n",
      "21:32:36 - cmdstanpy - INFO - Chain [1] done processing\n",
      "21:32:36 - cmdstanpy - INFO - Chain [1] start processing\n",
      "21:32:36 - cmdstanpy - INFO - Chain [1] done processing\n",
      "21:32:36 - cmdstanpy - INFO - Chain [1] start processing\n",
      "21:32:36 - cmdstanpy - INFO - Chain [1] done processing\n",
      "21:32:37 - cmdstanpy - INFO - Chain [1] start processing\n",
      "21:32:37 - cmdstanpy - INFO - Chain [1] done processing\n",
      "21:32:37 - cmdstanpy - INFO - Chain [1] start processing\n",
      "21:32:37 - cmdstanpy - INFO - Chain [1] done processing\n",
      "21:32:38 - cmdstanpy - INFO - Chain [1] start processing\n",
      "21:32:38 - cmdstanpy - INFO - Chain [1] done processing\n",
      "21:32:38 - cmdstanpy - INFO - Chain [1] start processing\n",
      "21:32:38 - cmdstanpy - INFO - Chain [1] done processing\n",
      "21:32:38 - cmdstanpy - INFO - Chain [1] start processing\n",
      "21:32:39 - cmdstanpy - INFO - Chain [1] done processing\n",
      "21:32:39 - cmdstanpy - INFO - Chain [1] start processing\n",
      "21:32:39 - cmdstanpy - INFO - Chain [1] done processing\n",
      "21:32:39 - cmdstanpy - INFO - Chain [1] start processing\n",
      "21:32:40 - cmdstanpy - INFO - Chain [1] done processing\n",
      "21:32:40 - cmdstanpy - INFO - Chain [1] start processing\n",
      "21:32:40 - cmdstanpy - INFO - Chain [1] done processing\n",
      "21:32:41 - cmdstanpy - INFO - Chain [1] start processing\n",
      "21:32:41 - cmdstanpy - INFO - Chain [1] done processing\n",
      "21:32:42 - cmdstanpy - INFO - Chain [1] start processing\n",
      "21:32:42 - cmdstanpy - INFO - Chain [1] done processing\n",
      "21:32:42 - cmdstanpy - INFO - Chain [1] start processing\n",
      "21:32:43 - cmdstanpy - INFO - Chain [1] done processing\n",
      "21:32:43 - cmdstanpy - INFO - Chain [1] start processing\n",
      "21:32:43 - cmdstanpy - INFO - Chain [1] done processing\n",
      "21:32:44 - cmdstanpy - INFO - Chain [1] start processing\n",
      "21:32:44 - cmdstanpy - INFO - Chain [1] done processing\n",
      "21:32:44 - cmdstanpy - INFO - Chain [1] start processing\n",
      "21:32:45 - cmdstanpy - INFO - Chain [1] done processing\n",
      "21:32:45 - cmdstanpy - INFO - Chain [1] start processing\n",
      "21:32:45 - cmdstanpy - INFO - Chain [1] done processing\n",
      "21:32:45 - cmdstanpy - INFO - Chain [1] start processing\n",
      "21:32:46 - cmdstanpy - INFO - Chain [1] done processing\n",
      "21:32:46 - cmdstanpy - INFO - Chain [1] start processing\n",
      "21:32:46 - cmdstanpy - INFO - Chain [1] done processing\n",
      "21:32:46 - cmdstanpy - INFO - Chain [1] start processing\n",
      "21:32:47 - cmdstanpy - INFO - Chain [1] done processing\n",
      "21:32:47 - cmdstanpy - INFO - Chain [1] start processing\n",
      "21:32:47 - cmdstanpy - INFO - Chain [1] done processing\n",
      "21:32:48 - cmdstanpy - INFO - Chain [1] start processing\n",
      "21:32:48 - cmdstanpy - INFO - Chain [1] done processing\n",
      "21:32:48 - cmdstanpy - INFO - Chain [1] start processing\n",
      "21:32:48 - cmdstanpy - INFO - Chain [1] done processing\n",
      "21:32:48 - cmdstanpy - INFO - Chain [1] start processing\n",
      "21:32:49 - cmdstanpy - INFO - Chain [1] done processing\n",
      "21:32:49 - cmdstanpy - INFO - Chain [1] start processing\n",
      "21:32:50 - cmdstanpy - INFO - Chain [1] done processing\n",
      "21:32:50 - cmdstanpy - INFO - Chain [1] start processing\n",
      "21:32:50 - cmdstanpy - INFO - Chain [1] done processing\n",
      "21:32:51 - cmdstanpy - INFO - Chain [1] start processing\n",
      "21:32:51 - cmdstanpy - INFO - Chain [1] done processing\n",
      "21:32:51 - cmdstanpy - INFO - Chain [1] start processing\n",
      "21:32:52 - cmdstanpy - INFO - Chain [1] done processing\n",
      "21:32:52 - cmdstanpy - INFO - Chain [1] start processing\n",
      "21:32:53 - cmdstanpy - INFO - Chain [1] done processing\n",
      "21:32:53 - cmdstanpy - INFO - Chain [1] start processing\n",
      "21:32:53 - cmdstanpy - INFO - Chain [1] done processing\n",
      "21:32:53 - cmdstanpy - INFO - Chain [1] start processing\n",
      "21:32:53 - cmdstanpy - INFO - Chain [1] done processing\n",
      "21:32:54 - cmdstanpy - INFO - Chain [1] start processing\n",
      "21:32:54 - cmdstanpy - INFO - Chain [1] done processing\n",
      "21:32:54 - cmdstanpy - INFO - Chain [1] start processing\n",
      "21:32:54 - cmdstanpy - INFO - Chain [1] done processing\n",
      "21:32:55 - cmdstanpy - INFO - Chain [1] start processing\n",
      "21:32:55 - cmdstanpy - INFO - Chain [1] done processing\n",
      "21:32:55 - cmdstanpy - INFO - Chain [1] start processing\n",
      "21:32:55 - cmdstanpy - INFO - Chain [1] done processing\n",
      "21:32:56 - cmdstanpy - INFO - Chain [1] start processing\n",
      "21:32:56 - cmdstanpy - INFO - Chain [1] done processing\n",
      "21:32:56 - cmdstanpy - INFO - Chain [1] start processing\n",
      "21:32:56 - cmdstanpy - INFO - Chain [1] done processing\n",
      "21:32:57 - cmdstanpy - INFO - Chain [1] start processing\n",
      "21:32:57 - cmdstanpy - INFO - Chain [1] done processing\n",
      "21:32:57 - cmdstanpy - INFO - Chain [1] start processing\n",
      "21:32:57 - cmdstanpy - INFO - Chain [1] done processing\n",
      "21:32:58 - cmdstanpy - INFO - Chain [1] start processing\n",
      "21:32:58 - cmdstanpy - INFO - Chain [1] done processing\n",
      "21:32:58 - cmdstanpy - INFO - Chain [1] start processing\n",
      "21:32:58 - cmdstanpy - INFO - Chain [1] done processing\n",
      "21:32:59 - cmdstanpy - INFO - Chain [1] start processing\n",
      "21:32:59 - cmdstanpy - INFO - Chain [1] done processing\n",
      "21:32:59 - cmdstanpy - INFO - Chain [1] start processing\n",
      "21:32:59 - cmdstanpy - INFO - Chain [1] done processing\n",
      "21:32:59 - cmdstanpy - INFO - Chain [1] start processing\n",
      "21:33:00 - cmdstanpy - INFO - Chain [1] done processing\n",
      "21:33:00 - cmdstanpy - INFO - Chain [1] start processing\n",
      "21:33:00 - cmdstanpy - INFO - Chain [1] done processing\n",
      "21:33:00 - cmdstanpy - INFO - Chain [1] start processing\n",
      "21:33:01 - cmdstanpy - INFO - Chain [1] done processing\n",
      "21:33:01 - cmdstanpy - INFO - Chain [1] start processing\n",
      "21:33:01 - cmdstanpy - INFO - Chain [1] done processing\n",
      "21:33:01 - cmdstanpy - INFO - Chain [1] start processing\n",
      "21:33:01 - cmdstanpy - INFO - Chain [1] done processing\n",
      "21:33:02 - cmdstanpy - INFO - Chain [1] start processing\n",
      "21:33:02 - cmdstanpy - INFO - Chain [1] done processing\n",
      "21:33:02 - cmdstanpy - INFO - Chain [1] start processing\n",
      "21:33:02 - cmdstanpy - INFO - Chain [1] done processing\n",
      "21:33:03 - cmdstanpy - INFO - Chain [1] start processing\n",
      "21:33:03 - cmdstanpy - INFO - Chain [1] done processing\n",
      "21:33:03 - cmdstanpy - INFO - Chain [1] start processing\n",
      "21:33:03 - cmdstanpy - INFO - Chain [1] done processing\n",
      "21:33:04 - cmdstanpy - INFO - Chain [1] start processing\n",
      "21:33:04 - cmdstanpy - INFO - Chain [1] done processing\n",
      "21:33:04 - cmdstanpy - INFO - Chain [1] start processing\n",
      "21:33:04 - cmdstanpy - INFO - Chain [1] done processing\n",
      "21:33:05 - cmdstanpy - INFO - Chain [1] start processing\n",
      "21:33:05 - cmdstanpy - INFO - Chain [1] done processing\n",
      "21:33:05 - cmdstanpy - INFO - Chain [1] start processing\n",
      "21:33:06 - cmdstanpy - INFO - Chain [1] done processing\n",
      "21:33:06 - cmdstanpy - INFO - Chain [1] start processing\n",
      "21:33:06 - cmdstanpy - INFO - Chain [1] done processing\n",
      "21:33:06 - cmdstanpy - INFO - Chain [1] start processing\n",
      "21:33:07 - cmdstanpy - INFO - Chain [1] done processing\n",
      "21:33:07 - cmdstanpy - INFO - Chain [1] start processing\n",
      "21:33:07 - cmdstanpy - INFO - Chain [1] done processing\n",
      "21:33:07 - cmdstanpy - INFO - Chain [1] start processing\n",
      "21:33:08 - cmdstanpy - INFO - Chain [1] done processing\n",
      "21:33:08 - cmdstanpy - INFO - Chain [1] start processing\n",
      "21:33:08 - cmdstanpy - INFO - Chain [1] done processing\n",
      "21:33:09 - cmdstanpy - INFO - Chain [1] start processing\n",
      "21:33:09 - cmdstanpy - INFO - Chain [1] done processing\n",
      "21:33:09 - cmdstanpy - INFO - Chain [1] start processing\n",
      "21:33:09 - cmdstanpy - INFO - Chain [1] done processing\n",
      "21:33:10 - cmdstanpy - INFO - Chain [1] start processing\n",
      "21:33:10 - cmdstanpy - INFO - Chain [1] done processing\n",
      "21:33:10 - cmdstanpy - INFO - Chain [1] start processing\n",
      "21:33:10 - cmdstanpy - INFO - Chain [1] done processing\n",
      "21:33:11 - cmdstanpy - INFO - Chain [1] start processing\n",
      "21:33:11 - cmdstanpy - INFO - Chain [1] done processing\n",
      "21:33:11 - cmdstanpy - INFO - Chain [1] start processing\n",
      "21:33:11 - cmdstanpy - INFO - Chain [1] done processing\n",
      "21:33:12 - cmdstanpy - INFO - Chain [1] start processing\n",
      "21:33:12 - cmdstanpy - INFO - Chain [1] done processing\n",
      "21:33:12 - cmdstanpy - INFO - Chain [1] start processing\n",
      "21:33:12 - cmdstanpy - INFO - Chain [1] done processing\n",
      "21:33:13 - cmdstanpy - INFO - Chain [1] start processing\n",
      "21:33:13 - cmdstanpy - INFO - Chain [1] done processing\n",
      "21:33:13 - cmdstanpy - INFO - Chain [1] start processing\n",
      "21:33:14 - cmdstanpy - INFO - Chain [1] done processing\n",
      "21:33:14 - cmdstanpy - INFO - Chain [1] start processing\n",
      "21:33:14 - cmdstanpy - INFO - Chain [1] done processing\n",
      "21:33:15 - cmdstanpy - INFO - Chain [1] start processing\n",
      "21:33:15 - cmdstanpy - INFO - Chain [1] done processing\n",
      "21:33:15 - cmdstanpy - INFO - Chain [1] start processing\n",
      "21:33:16 - cmdstanpy - INFO - Chain [1] done processing\n",
      "21:33:16 - cmdstanpy - INFO - Chain [1] start processing\n",
      "21:33:16 - cmdstanpy - INFO - Chain [1] done processing\n",
      "21:33:17 - cmdstanpy - INFO - Chain [1] start processing\n",
      "21:33:17 - cmdstanpy - INFO - Chain [1] done processing\n",
      "21:33:18 - cmdstanpy - INFO - Chain [1] start processing\n",
      "21:33:18 - cmdstanpy - INFO - Chain [1] done processing\n",
      "21:33:18 - cmdstanpy - INFO - Chain [1] start processing\n",
      "21:33:19 - cmdstanpy - INFO - Chain [1] done processing\n",
      "21:33:19 - cmdstanpy - INFO - Chain [1] start processing\n",
      "21:33:19 - cmdstanpy - INFO - Chain [1] done processing\n",
      "21:33:20 - cmdstanpy - INFO - Chain [1] start processing\n",
      "21:33:20 - cmdstanpy - INFO - Chain [1] done processing\n",
      "21:33:20 - cmdstanpy - INFO - Chain [1] start processing\n",
      "21:33:21 - cmdstanpy - INFO - Chain [1] done processing\n",
      "21:33:21 - cmdstanpy - INFO - Chain [1] start processing\n",
      "21:33:21 - cmdstanpy - INFO - Chain [1] done processing\n",
      "21:33:21 - cmdstanpy - INFO - Chain [1] start processing\n",
      "21:33:22 - cmdstanpy - INFO - Chain [1] done processing\n",
      "21:33:22 - cmdstanpy - INFO - Chain [1] start processing\n",
      "21:33:22 - cmdstanpy - INFO - Chain [1] done processing\n",
      "21:33:22 - cmdstanpy - INFO - Chain [1] start processing\n",
      "21:33:23 - cmdstanpy - INFO - Chain [1] done processing\n",
      "21:33:23 - cmdstanpy - INFO - Chain [1] start processing\n",
      "21:33:23 - cmdstanpy - INFO - Chain [1] done processing\n",
      "21:33:23 - cmdstanpy - INFO - Chain [1] start processing\n",
      "21:33:23 - cmdstanpy - INFO - Chain [1] done processing\n",
      "21:33:24 - cmdstanpy - INFO - Chain [1] start processing\n",
      "21:33:24 - cmdstanpy - INFO - Chain [1] done processing\n",
      "21:33:24 - cmdstanpy - INFO - Chain [1] start processing\n",
      "21:33:24 - cmdstanpy - INFO - Chain [1] done processing\n",
      "21:33:25 - cmdstanpy - INFO - Chain [1] start processing\n",
      "21:33:25 - cmdstanpy - INFO - Chain [1] done processing\n",
      "21:33:25 - cmdstanpy - INFO - Chain [1] start processing\n",
      "21:33:25 - cmdstanpy - INFO - Chain [1] done processing\n",
      "21:33:26 - cmdstanpy - INFO - Chain [1] start processing\n",
      "21:33:26 - cmdstanpy - INFO - Chain [1] done processing\n",
      "21:33:26 - cmdstanpy - INFO - Chain [1] start processing\n",
      "21:33:26 - cmdstanpy - INFO - Chain [1] done processing\n",
      "21:33:27 - cmdstanpy - INFO - Chain [1] start processing\n",
      "21:33:27 - cmdstanpy - INFO - Chain [1] done processing\n",
      "21:33:27 - cmdstanpy - INFO - Chain [1] start processing\n",
      "21:33:28 - cmdstanpy - INFO - Chain [1] done processing\n",
      "21:33:28 - cmdstanpy - INFO - Chain [1] start processing\n",
      "21:33:28 - cmdstanpy - INFO - Chain [1] done processing\n",
      "21:33:28 - cmdstanpy - INFO - Chain [1] start processing\n",
      "21:33:29 - cmdstanpy - INFO - Chain [1] done processing\n",
      "21:33:29 - cmdstanpy - INFO - Chain [1] start processing\n",
      "21:33:30 - cmdstanpy - INFO - Chain [1] done processing\n",
      "21:33:30 - cmdstanpy - INFO - Chain [1] start processing\n",
      "21:33:30 - cmdstanpy - INFO - Chain [1] done processing\n",
      "21:33:31 - cmdstanpy - INFO - Chain [1] start processing\n",
      "21:33:31 - cmdstanpy - INFO - Chain [1] done processing\n",
      "21:33:31 - cmdstanpy - INFO - Chain [1] start processing\n",
      "21:33:32 - cmdstanpy - INFO - Chain [1] done processing\n",
      "21:33:32 - cmdstanpy - INFO - Chain [1] start processing\n",
      "21:33:32 - cmdstanpy - INFO - Chain [1] done processing\n",
      "21:33:33 - cmdstanpy - INFO - Chain [1] start processing\n",
      "21:33:33 - cmdstanpy - INFO - Chain [1] done processing\n",
      "21:33:33 - cmdstanpy - INFO - Chain [1] start processing\n",
      "21:33:33 - cmdstanpy - INFO - Chain [1] done processing\n",
      "21:33:34 - cmdstanpy - INFO - Chain [1] start processing\n",
      "21:33:34 - cmdstanpy - INFO - Chain [1] done processing\n",
      "21:33:34 - cmdstanpy - INFO - Chain [1] start processing\n",
      "21:33:34 - cmdstanpy - INFO - Chain [1] done processing\n",
      "21:33:34 - cmdstanpy - INFO - Chain [1] start processing\n",
      "21:33:35 - cmdstanpy - INFO - Chain [1] done processing\n",
      "21:33:35 - cmdstanpy - INFO - Chain [1] start processing\n",
      "21:33:35 - cmdstanpy - INFO - Chain [1] done processing\n",
      "21:33:35 - cmdstanpy - INFO - Chain [1] start processing\n",
      "21:33:35 - cmdstanpy - INFO - Chain [1] done processing\n",
      "21:33:36 - cmdstanpy - INFO - Chain [1] start processing\n",
      "21:33:36 - cmdstanpy - INFO - Chain [1] done processing\n",
      "21:33:36 - cmdstanpy - INFO - Chain [1] start processing\n",
      "21:33:36 - cmdstanpy - INFO - Chain [1] done processing\n",
      "21:33:36 - cmdstanpy - INFO - Chain [1] start processing\n",
      "21:33:37 - cmdstanpy - INFO - Chain [1] done processing\n",
      "21:33:37 - cmdstanpy - INFO - Chain [1] start processing\n",
      "21:33:37 - cmdstanpy - INFO - Chain [1] done processing\n",
      "21:33:38 - cmdstanpy - INFO - Chain [1] start processing\n",
      "21:33:38 - cmdstanpy - INFO - Chain [1] done processing\n",
      "21:33:38 - cmdstanpy - INFO - Chain [1] start processing\n",
      "21:33:38 - cmdstanpy - INFO - Chain [1] done processing\n",
      "21:33:38 - cmdstanpy - INFO - Chain [1] start processing\n",
      "21:33:39 - cmdstanpy - INFO - Chain [1] done processing\n",
      "21:33:39 - cmdstanpy - INFO - Chain [1] start processing\n",
      "21:33:39 - cmdstanpy - INFO - Chain [1] done processing\n",
      "21:33:39 - cmdstanpy - INFO - Chain [1] start processing\n",
      "21:33:40 - cmdstanpy - INFO - Chain [1] done processing\n",
      "21:33:40 - cmdstanpy - INFO - Chain [1] start processing\n",
      "21:33:40 - cmdstanpy - INFO - Chain [1] done processing\n",
      "21:33:41 - cmdstanpy - INFO - Chain [1] start processing\n",
      "21:33:41 - cmdstanpy - INFO - Chain [1] done processing\n",
      "21:33:41 - cmdstanpy - INFO - Chain [1] start processing\n",
      "21:33:42 - cmdstanpy - INFO - Chain [1] done processing\n",
      "21:33:42 - cmdstanpy - INFO - Chain [1] start processing\n",
      "21:33:42 - cmdstanpy - INFO - Chain [1] done processing\n",
      "21:33:42 - cmdstanpy - INFO - Chain [1] start processing\n",
      "21:33:43 - cmdstanpy - INFO - Chain [1] done processing\n",
      "21:33:43 - cmdstanpy - INFO - Chain [1] start processing\n",
      "21:33:44 - cmdstanpy - INFO - Chain [1] done processing\n",
      "21:33:44 - cmdstanpy - INFO - Chain [1] start processing\n",
      "21:33:44 - cmdstanpy - INFO - Chain [1] done processing\n",
      "21:33:44 - cmdstanpy - INFO - Chain [1] start processing\n",
      "21:33:45 - cmdstanpy - INFO - Chain [1] done processing\n",
      "21:33:45 - cmdstanpy - INFO - Chain [1] start processing\n",
      "21:33:45 - cmdstanpy - INFO - Chain [1] done processing\n",
      "21:33:46 - cmdstanpy - INFO - Chain [1] start processing\n",
      "21:33:46 - cmdstanpy - INFO - Chain [1] done processing\n",
      "21:33:47 - cmdstanpy - INFO - Chain [1] start processing\n",
      "21:33:47 - cmdstanpy - INFO - Chain [1] done processing\n",
      "21:33:47 - cmdstanpy - INFO - Chain [1] start processing\n",
      "21:33:47 - cmdstanpy - INFO - Chain [1] done processing\n",
      "21:33:48 - cmdstanpy - INFO - Chain [1] start processing\n",
      "21:33:48 - cmdstanpy - INFO - Chain [1] done processing\n",
      "21:33:48 - cmdstanpy - INFO - Chain [1] start processing\n",
      "21:33:48 - cmdstanpy - INFO - Chain [1] done processing\n",
      "21:33:48 - cmdstanpy - INFO - Chain [1] start processing\n",
      "21:33:49 - cmdstanpy - INFO - Chain [1] done processing\n",
      "21:33:49 - cmdstanpy - INFO - Chain [1] start processing\n",
      "21:33:49 - cmdstanpy - INFO - Chain [1] done processing\n",
      "21:33:49 - cmdstanpy - INFO - Chain [1] start processing\n",
      "21:33:50 - cmdstanpy - INFO - Chain [1] done processing\n",
      "21:33:50 - cmdstanpy - INFO - Chain [1] start processing\n",
      "21:33:50 - cmdstanpy - INFO - Chain [1] done processing\n",
      "21:33:50 - cmdstanpy - INFO - Chain [1] start processing\n",
      "21:33:51 - cmdstanpy - INFO - Chain [1] done processing\n",
      "21:33:51 - cmdstanpy - INFO - Chain [1] start processing\n",
      "21:33:51 - cmdstanpy - INFO - Chain [1] done processing\n",
      "21:33:51 - cmdstanpy - INFO - Chain [1] start processing\n",
      "21:33:52 - cmdstanpy - INFO - Chain [1] done processing\n",
      "21:33:52 - cmdstanpy - INFO - Chain [1] start processing\n",
      "21:33:53 - cmdstanpy - INFO - Chain [1] done processing\n",
      "21:33:54 - cmdstanpy - INFO - Chain [1] start processing\n",
      "21:33:54 - cmdstanpy - INFO - Chain [1] done processing\n",
      "21:33:54 - cmdstanpy - INFO - Chain [1] start processing\n",
      "21:33:55 - cmdstanpy - INFO - Chain [1] done processing\n",
      "21:33:55 - cmdstanpy - INFO - Chain [1] start processing\n",
      "21:33:55 - cmdstanpy - INFO - Chain [1] done processing\n",
      "21:33:56 - cmdstanpy - INFO - Chain [1] start processing\n",
      "21:33:56 - cmdstanpy - INFO - Chain [1] done processing\n",
      "21:33:56 - cmdstanpy - INFO - Chain [1] start processing\n",
      "21:33:57 - cmdstanpy - INFO - Chain [1] done processing\n",
      "21:33:57 - cmdstanpy - INFO - Chain [1] start processing\n",
      "21:33:57 - cmdstanpy - INFO - Chain [1] done processing\n",
      "21:33:58 - cmdstanpy - INFO - Chain [1] start processing\n",
      "21:33:58 - cmdstanpy - INFO - Chain [1] done processing\n",
      "21:33:58 - cmdstanpy - INFO - Chain [1] start processing\n",
      "21:33:58 - cmdstanpy - INFO - Chain [1] done processing\n",
      "21:33:58 - cmdstanpy - INFO - Chain [1] start processing\n",
      "21:33:59 - cmdstanpy - INFO - Chain [1] done processing\n",
      "21:33:59 - cmdstanpy - INFO - Chain [1] start processing\n",
      "21:33:59 - cmdstanpy - INFO - Chain [1] done processing\n",
      "21:33:59 - cmdstanpy - INFO - Chain [1] start processing\n",
      "21:34:00 - cmdstanpy - INFO - Chain [1] done processing\n",
      "21:34:00 - cmdstanpy - INFO - Chain [1] start processing\n",
      "21:34:00 - cmdstanpy - INFO - Chain [1] done processing\n",
      "21:34:01 - cmdstanpy - INFO - Chain [1] start processing\n",
      "21:34:01 - cmdstanpy - INFO - Chain [1] done processing\n",
      "21:34:01 - cmdstanpy - INFO - Chain [1] start processing\n",
      "21:34:02 - cmdstanpy - INFO - Chain [1] done processing\n",
      "21:34:02 - cmdstanpy - INFO - Chain [1] start processing\n",
      "21:34:02 - cmdstanpy - INFO - Chain [1] done processing\n",
      "21:34:02 - cmdstanpy - INFO - Chain [1] start processing\n",
      "21:34:03 - cmdstanpy - INFO - Chain [1] done processing\n",
      "21:34:03 - cmdstanpy - INFO - Chain [1] start processing\n",
      "21:34:03 - cmdstanpy - INFO - Chain [1] done processing\n",
      "21:34:03 - cmdstanpy - INFO - Chain [1] start processing\n",
      "21:34:03 - cmdstanpy - INFO - Chain [1] done processing\n",
      "21:34:04 - cmdstanpy - INFO - Chain [1] start processing\n",
      "21:34:04 - cmdstanpy - INFO - Chain [1] done processing\n",
      "21:34:04 - cmdstanpy - INFO - Chain [1] start processing\n",
      "21:34:04 - cmdstanpy - INFO - Chain [1] done processing\n",
      "21:34:05 - cmdstanpy - INFO - Chain [1] start processing\n",
      "21:34:05 - cmdstanpy - INFO - Chain [1] done processing\n",
      "21:34:05 - cmdstanpy - INFO - Chain [1] start processing\n",
      "21:34:05 - cmdstanpy - INFO - Chain [1] done processing\n",
      "21:34:06 - cmdstanpy - INFO - Chain [1] start processing\n",
      "21:34:06 - cmdstanpy - INFO - Chain [1] done processing\n",
      "21:34:06 - cmdstanpy - INFO - Chain [1] start processing\n",
      "21:34:06 - cmdstanpy - INFO - Chain [1] done processing\n",
      "21:34:07 - cmdstanpy - INFO - Chain [1] start processing\n",
      "21:34:07 - cmdstanpy - INFO - Chain [1] done processing\n",
      "21:34:07 - cmdstanpy - INFO - Chain [1] start processing\n",
      "21:34:08 - cmdstanpy - INFO - Chain [1] done processing\n",
      "21:34:08 - cmdstanpy - INFO - Chain [1] start processing\n",
      "21:34:08 - cmdstanpy - INFO - Chain [1] done processing\n",
      "21:34:09 - cmdstanpy - INFO - Chain [1] start processing\n",
      "21:34:09 - cmdstanpy - INFO - Chain [1] done processing\n",
      "21:34:09 - cmdstanpy - INFO - Chain [1] start processing\n",
      "21:34:10 - cmdstanpy - INFO - Chain [1] done processing\n",
      "21:34:10 - cmdstanpy - INFO - Chain [1] start processing\n",
      "21:34:10 - cmdstanpy - INFO - Chain [1] done processing\n",
      "21:34:11 - cmdstanpy - INFO - Chain [1] start processing\n",
      "21:34:11 - cmdstanpy - INFO - Chain [1] done processing\n",
      "21:34:11 - cmdstanpy - INFO - Chain [1] start processing\n",
      "21:34:11 - cmdstanpy - INFO - Chain [1] done processing\n",
      "21:34:11 - cmdstanpy - INFO - Chain [1] start processing\n",
      "21:34:12 - cmdstanpy - INFO - Chain [1] done processing\n",
      "21:34:12 - cmdstanpy - INFO - Chain [1] start processing\n",
      "21:34:12 - cmdstanpy - INFO - Chain [1] done processing\n",
      "21:34:12 - cmdstanpy - INFO - Chain [1] start processing\n",
      "21:34:13 - cmdstanpy - INFO - Chain [1] done processing\n",
      "21:34:13 - cmdstanpy - INFO - Chain [1] start processing\n",
      "21:34:13 - cmdstanpy - INFO - Chain [1] done processing\n",
      "21:34:13 - cmdstanpy - INFO - Chain [1] start processing\n",
      "21:34:14 - cmdstanpy - INFO - Chain [1] done processing\n",
      "21:34:14 - cmdstanpy - INFO - Chain [1] start processing\n",
      "21:34:14 - cmdstanpy - INFO - Chain [1] done processing\n",
      "21:34:15 - cmdstanpy - INFO - Chain [1] start processing\n",
      "21:34:15 - cmdstanpy - INFO - Chain [1] done processing\n",
      "21:34:15 - cmdstanpy - INFO - Chain [1] start processing\n",
      "21:34:16 - cmdstanpy - INFO - Chain [1] done processing\n",
      "21:34:16 - cmdstanpy - INFO - Chain [1] start processing\n",
      "21:34:16 - cmdstanpy - INFO - Chain [1] done processing\n",
      "21:34:17 - cmdstanpy - INFO - Chain [1] start processing\n",
      "21:34:17 - cmdstanpy - INFO - Chain [1] done processing\n",
      "21:34:17 - cmdstanpy - INFO - Chain [1] start processing\n",
      "21:34:17 - cmdstanpy - INFO - Chain [1] done processing\n",
      "21:34:18 - cmdstanpy - INFO - Chain [1] start processing\n",
      "21:34:18 - cmdstanpy - INFO - Chain [1] done processing\n",
      "21:34:18 - cmdstanpy - INFO - Chain [1] start processing\n",
      "21:34:19 - cmdstanpy - INFO - Chain [1] done processing\n",
      "21:34:19 - cmdstanpy - INFO - Chain [1] start processing\n",
      "21:34:20 - cmdstanpy - INFO - Chain [1] done processing\n",
      "21:34:20 - cmdstanpy - INFO - Chain [1] start processing\n",
      "21:34:20 - cmdstanpy - INFO - Chain [1] done processing\n",
      "21:34:20 - cmdstanpy - INFO - Chain [1] start processing\n",
      "21:34:21 - cmdstanpy - INFO - Chain [1] done processing\n",
      "21:34:21 - cmdstanpy - INFO - Chain [1] start processing\n",
      "21:34:21 - cmdstanpy - INFO - Chain [1] done processing\n",
      "21:34:22 - cmdstanpy - INFO - Chain [1] start processing\n",
      "21:34:22 - cmdstanpy - INFO - Chain [1] done processing\n",
      "21:34:22 - cmdstanpy - INFO - Chain [1] start processing\n",
      "21:34:23 - cmdstanpy - INFO - Chain [1] done processing\n",
      "21:34:23 - cmdstanpy - INFO - Chain [1] start processing\n",
      "21:34:23 - cmdstanpy - INFO - Chain [1] done processing\n",
      "21:34:24 - cmdstanpy - INFO - Chain [1] start processing\n",
      "21:34:24 - cmdstanpy - INFO - Chain [1] done processing\n",
      "21:34:24 - cmdstanpy - INFO - Chain [1] start processing\n",
      "21:34:25 - cmdstanpy - INFO - Chain [1] done processing\n",
      "21:34:25 - cmdstanpy - INFO - Chain [1] start processing\n",
      "21:34:25 - cmdstanpy - INFO - Chain [1] done processing\n",
      "21:34:26 - cmdstanpy - INFO - Chain [1] start processing\n",
      "21:34:27 - cmdstanpy - INFO - Chain [1] done processing\n",
      "21:34:27 - cmdstanpy - INFO - Chain [1] start processing\n",
      "21:34:28 - cmdstanpy - INFO - Chain [1] done processing\n",
      "21:34:29 - cmdstanpy - INFO - Chain [1] start processing\n",
      "21:34:29 - cmdstanpy - INFO - Chain [1] done processing\n",
      "21:34:30 - cmdstanpy - INFO - Chain [1] start processing\n",
      "21:34:30 - cmdstanpy - INFO - Chain [1] done processing\n",
      "21:34:30 - cmdstanpy - INFO - Chain [1] start processing\n",
      "21:34:31 - cmdstanpy - INFO - Chain [1] done processing\n",
      "21:34:31 - cmdstanpy - INFO - Chain [1] start processing\n",
      "21:34:31 - cmdstanpy - INFO - Chain [1] done processing\n",
      "21:34:32 - cmdstanpy - INFO - Chain [1] start processing\n",
      "21:34:32 - cmdstanpy - INFO - Chain [1] done processing\n",
      "21:34:32 - cmdstanpy - INFO - Chain [1] start processing\n",
      "21:34:32 - cmdstanpy - INFO - Chain [1] done processing\n",
      "21:34:33 - cmdstanpy - INFO - Chain [1] start processing\n",
      "21:34:33 - cmdstanpy - INFO - Chain [1] done processing\n",
      "21:34:33 - cmdstanpy - INFO - Chain [1] start processing\n",
      "21:34:34 - cmdstanpy - INFO - Chain [1] done processing\n",
      "21:34:34 - cmdstanpy - INFO - Chain [1] start processing\n",
      "21:34:34 - cmdstanpy - INFO - Chain [1] done processing\n",
      "21:34:35 - cmdstanpy - INFO - Chain [1] start processing\n",
      "21:34:35 - cmdstanpy - INFO - Chain [1] done processing\n",
      "21:34:36 - cmdstanpy - INFO - Chain [1] start processing\n",
      "21:34:36 - cmdstanpy - INFO - Chain [1] done processing\n",
      "21:34:37 - cmdstanpy - INFO - Chain [1] start processing\n",
      "21:34:37 - cmdstanpy - INFO - Chain [1] done processing\n",
      "21:34:37 - cmdstanpy - INFO - Chain [1] start processing\n",
      "21:34:38 - cmdstanpy - INFO - Chain [1] done processing\n",
      "21:34:38 - cmdstanpy - INFO - Chain [1] start processing\n",
      "21:34:39 - cmdstanpy - INFO - Chain [1] done processing\n",
      "21:34:39 - cmdstanpy - INFO - Chain [1] start processing\n",
      "21:34:39 - cmdstanpy - INFO - Chain [1] done processing\n",
      "21:34:39 - cmdstanpy - INFO - Chain [1] start processing\n",
      "21:34:40 - cmdstanpy - INFO - Chain [1] done processing\n",
      "21:34:40 - cmdstanpy - INFO - Chain [1] start processing\n",
      "21:34:40 - cmdstanpy - INFO - Chain [1] done processing\n",
      "21:34:40 - cmdstanpy - INFO - Chain [1] start processing\n",
      "21:34:41 - cmdstanpy - INFO - Chain [1] done processing\n",
      "21:34:41 - cmdstanpy - INFO - Chain [1] start processing\n",
      "21:34:41 - cmdstanpy - INFO - Chain [1] done processing\n",
      "21:34:42 - cmdstanpy - INFO - Chain [1] start processing\n",
      "21:34:42 - cmdstanpy - INFO - Chain [1] done processing\n",
      "21:34:42 - cmdstanpy - INFO - Chain [1] start processing\n",
      "21:34:42 - cmdstanpy - INFO - Chain [1] done processing\n",
      "21:34:43 - cmdstanpy - INFO - Chain [1] start processing\n",
      "21:34:43 - cmdstanpy - INFO - Chain [1] done processing\n",
      "21:34:44 - cmdstanpy - INFO - Chain [1] start processing\n",
      "21:34:44 - cmdstanpy - INFO - Chain [1] done processing\n",
      "21:34:44 - cmdstanpy - INFO - Chain [1] start processing\n",
      "21:34:45 - cmdstanpy - INFO - Chain [1] done processing\n",
      "21:34:45 - cmdstanpy - INFO - Chain [1] start processing\n",
      "21:34:45 - cmdstanpy - INFO - Chain [1] done processing\n",
      "21:34:46 - cmdstanpy - INFO - Chain [1] start processing\n",
      "21:34:46 - cmdstanpy - INFO - Chain [1] done processing\n",
      "21:34:46 - cmdstanpy - INFO - Chain [1] start processing\n",
      "21:34:46 - cmdstanpy - INFO - Chain [1] done processing\n",
      "21:34:46 - cmdstanpy - INFO - Chain [1] start processing\n",
      "21:34:47 - cmdstanpy - INFO - Chain [1] done processing\n",
      "21:34:47 - cmdstanpy - INFO - Chain [1] start processing\n",
      "21:34:47 - cmdstanpy - INFO - Chain [1] done processing\n",
      "21:34:47 - cmdstanpy - INFO - Chain [1] start processing\n",
      "21:34:48 - cmdstanpy - INFO - Chain [1] done processing\n",
      "21:34:48 - cmdstanpy - INFO - Chain [1] start processing\n",
      "21:34:48 - cmdstanpy - INFO - Chain [1] done processing\n",
      "21:34:49 - cmdstanpy - INFO - Chain [1] start processing\n",
      "21:34:49 - cmdstanpy - INFO - Chain [1] done processing\n",
      "21:34:49 - cmdstanpy - INFO - Chain [1] start processing\n",
      "21:34:49 - cmdstanpy - INFO - Chain [1] done processing\n",
      "21:34:50 - cmdstanpy - INFO - Chain [1] start processing\n",
      "21:34:50 - cmdstanpy - INFO - Chain [1] done processing\n",
      "21:34:50 - cmdstanpy - INFO - Chain [1] start processing\n",
      "21:34:51 - cmdstanpy - INFO - Chain [1] done processing\n",
      "21:34:51 - cmdstanpy - INFO - Chain [1] start processing\n",
      "21:34:51 - cmdstanpy - INFO - Chain [1] done processing\n",
      "21:34:51 - cmdstanpy - INFO - Chain [1] start processing\n",
      "21:34:52 - cmdstanpy - INFO - Chain [1] done processing\n",
      "21:34:52 - cmdstanpy - INFO - Chain [1] start processing\n",
      "21:34:52 - cmdstanpy - INFO - Chain [1] done processing\n",
      "21:34:52 - cmdstanpy - INFO - Chain [1] start processing\n",
      "21:34:53 - cmdstanpy - INFO - Chain [1] done processing\n",
      "21:34:53 - cmdstanpy - INFO - Chain [1] start processing\n",
      "21:34:53 - cmdstanpy - INFO - Chain [1] done processing\n",
      "21:34:54 - cmdstanpy - INFO - Chain [1] start processing\n",
      "21:34:54 - cmdstanpy - INFO - Chain [1] done processing\n",
      "21:34:54 - cmdstanpy - INFO - Chain [1] start processing\n",
      "21:34:54 - cmdstanpy - INFO - Chain [1] done processing\n",
      "21:34:55 - cmdstanpy - INFO - Chain [1] start processing\n",
      "21:34:55 - cmdstanpy - INFO - Chain [1] done processing\n",
      "21:34:55 - cmdstanpy - INFO - Chain [1] start processing\n",
      "21:34:55 - cmdstanpy - INFO - Chain [1] done processing\n",
      "21:34:56 - cmdstanpy - INFO - Chain [1] start processing\n",
      "21:34:56 - cmdstanpy - INFO - Chain [1] done processing\n",
      "21:34:56 - cmdstanpy - INFO - Chain [1] start processing\n",
      "21:34:56 - cmdstanpy - INFO - Chain [1] done processing\n",
      "21:34:57 - cmdstanpy - INFO - Chain [1] start processing\n",
      "21:34:58 - cmdstanpy - INFO - Chain [1] done processing\n",
      "21:34:58 - cmdstanpy - INFO - Chain [1] start processing\n",
      "21:34:58 - cmdstanpy - INFO - Chain [1] done processing\n",
      "21:34:59 - cmdstanpy - INFO - Chain [1] start processing\n",
      "21:35:00 - cmdstanpy - INFO - Chain [1] done processing\n",
      "21:35:00 - cmdstanpy - INFO - Chain [1] start processing\n",
      "21:35:00 - cmdstanpy - INFO - Chain [1] done processing\n",
      "21:35:01 - cmdstanpy - INFO - Chain [1] start processing\n",
      "21:35:01 - cmdstanpy - INFO - Chain [1] done processing\n",
      "21:35:01 - cmdstanpy - INFO - Chain [1] start processing\n",
      "21:35:02 - cmdstanpy - INFO - Chain [1] done processing\n",
      "21:35:02 - cmdstanpy - INFO - Chain [1] start processing\n",
      "21:35:03 - cmdstanpy - INFO - Chain [1] done processing\n",
      "21:35:03 - cmdstanpy - INFO - Chain [1] start processing\n",
      "21:35:03 - cmdstanpy - INFO - Chain [1] done processing\n",
      "21:35:04 - cmdstanpy - INFO - Chain [1] start processing\n",
      "21:35:04 - cmdstanpy - INFO - Chain [1] done processing\n",
      "21:35:04 - cmdstanpy - INFO - Chain [1] start processing\n",
      "21:35:05 - cmdstanpy - INFO - Chain [1] done processing\n",
      "21:35:05 - cmdstanpy - INFO - Chain [1] start processing\n",
      "21:35:05 - cmdstanpy - INFO - Chain [1] done processing\n",
      "21:35:05 - cmdstanpy - INFO - Chain [1] start processing\n",
      "21:35:06 - cmdstanpy - INFO - Chain [1] done processing\n",
      "21:35:06 - cmdstanpy - INFO - Chain [1] start processing\n",
      "21:35:06 - cmdstanpy - INFO - Chain [1] done processing\n",
      "21:35:06 - cmdstanpy - INFO - Chain [1] start processing\n",
      "21:35:07 - cmdstanpy - INFO - Chain [1] done processing\n",
      "21:35:07 - cmdstanpy - INFO - Chain [1] start processing\n",
      "21:35:07 - cmdstanpy - INFO - Chain [1] done processing\n",
      "21:35:07 - cmdstanpy - INFO - Chain [1] start processing\n",
      "21:35:08 - cmdstanpy - INFO - Chain [1] done processing\n",
      "21:35:08 - cmdstanpy - INFO - Chain [1] start processing\n",
      "21:35:08 - cmdstanpy - INFO - Chain [1] done processing\n",
      "21:35:08 - cmdstanpy - INFO - Chain [1] start processing\n",
      "21:35:09 - cmdstanpy - INFO - Chain [1] done processing\n",
      "21:35:09 - cmdstanpy - INFO - Chain [1] start processing\n",
      "21:35:09 - cmdstanpy - INFO - Chain [1] done processing\n",
      "21:35:09 - cmdstanpy - INFO - Chain [1] start processing\n",
      "21:35:10 - cmdstanpy - INFO - Chain [1] done processing\n",
      "21:35:10 - cmdstanpy - INFO - Chain [1] start processing\n",
      "21:35:10 - cmdstanpy - INFO - Chain [1] done processing\n",
      "21:35:11 - cmdstanpy - INFO - Chain [1] start processing\n",
      "21:35:11 - cmdstanpy - INFO - Chain [1] done processing\n",
      "21:35:11 - cmdstanpy - INFO - Chain [1] start processing\n",
      "21:35:12 - cmdstanpy - INFO - Chain [1] done processing\n",
      "21:35:12 - cmdstanpy - INFO - Chain [1] start processing\n",
      "21:35:12 - cmdstanpy - INFO - Chain [1] done processing\n",
      "21:35:13 - cmdstanpy - INFO - Chain [1] start processing\n",
      "21:35:13 - cmdstanpy - INFO - Chain [1] done processing\n",
      "21:35:13 - cmdstanpy - INFO - Chain [1] start processing\n",
      "21:35:14 - cmdstanpy - INFO - Chain [1] done processing\n",
      "21:35:14 - cmdstanpy - INFO - Chain [1] start processing\n",
      "21:35:15 - cmdstanpy - INFO - Chain [1] done processing\n",
      "21:35:15 - cmdstanpy - INFO - Chain [1] start processing\n",
      "21:35:15 - cmdstanpy - INFO - Chain [1] done processing\n",
      "21:35:15 - cmdstanpy - INFO - Chain [1] start processing\n",
      "21:35:15 - cmdstanpy - INFO - Chain [1] done processing\n",
      "21:35:16 - cmdstanpy - INFO - Chain [1] start processing\n",
      "21:35:16 - cmdstanpy - INFO - Chain [1] done processing\n",
      "21:35:16 - cmdstanpy - INFO - Chain [1] start processing\n",
      "21:35:16 - cmdstanpy - INFO - Chain [1] done processing\n",
      "21:35:16 - cmdstanpy - INFO - Chain [1] start processing\n",
      "21:35:17 - cmdstanpy - INFO - Chain [1] done processing\n",
      "21:35:17 - cmdstanpy - INFO - Chain [1] start processing\n",
      "21:35:17 - cmdstanpy - INFO - Chain [1] done processing\n",
      "21:35:17 - cmdstanpy - INFO - Chain [1] start processing\n",
      "21:35:18 - cmdstanpy - INFO - Chain [1] done processing\n",
      "21:35:18 - cmdstanpy - INFO - Chain [1] start processing\n",
      "21:35:18 - cmdstanpy - INFO - Chain [1] done processing\n",
      "21:35:18 - cmdstanpy - INFO - Chain [1] start processing\n",
      "21:35:18 - cmdstanpy - INFO - Chain [1] done processing\n",
      "21:35:18 - cmdstanpy - INFO - Chain [1] start processing\n",
      "21:35:19 - cmdstanpy - INFO - Chain [1] done processing\n",
      "21:35:19 - cmdstanpy - INFO - Chain [1] start processing\n",
      "21:35:19 - cmdstanpy - INFO - Chain [1] done processing\n",
      "21:35:20 - cmdstanpy - INFO - Chain [1] start processing\n",
      "21:35:20 - cmdstanpy - INFO - Chain [1] done processing\n",
      "21:35:21 - cmdstanpy - INFO - Chain [1] start processing\n",
      "21:35:21 - cmdstanpy - INFO - Chain [1] done processing\n",
      "21:35:21 - cmdstanpy - INFO - Chain [1] start processing\n",
      "21:35:21 - cmdstanpy - INFO - Chain [1] done processing\n",
      "21:35:21 - cmdstanpy - INFO - Chain [1] start processing\n",
      "21:35:22 - cmdstanpy - INFO - Chain [1] done processing\n",
      "21:35:22 - cmdstanpy - INFO - Chain [1] start processing\n",
      "21:35:22 - cmdstanpy - INFO - Chain [1] done processing\n",
      "21:35:22 - cmdstanpy - INFO - Chain [1] start processing\n",
      "21:35:23 - cmdstanpy - INFO - Chain [1] done processing\n",
      "21:35:23 - cmdstanpy - INFO - Chain [1] start processing\n",
      "21:35:23 - cmdstanpy - INFO - Chain [1] done processing\n",
      "21:35:23 - cmdstanpy - INFO - Chain [1] start processing\n",
      "21:35:24 - cmdstanpy - INFO - Chain [1] done processing\n",
      "21:35:24 - cmdstanpy - INFO - Chain [1] start processing\n",
      "21:35:24 - cmdstanpy - INFO - Chain [1] done processing\n",
      "21:35:24 - cmdstanpy - INFO - Chain [1] start processing\n",
      "21:35:25 - cmdstanpy - INFO - Chain [1] done processing\n",
      "21:35:25 - cmdstanpy - INFO - Chain [1] start processing\n",
      "21:35:25 - cmdstanpy - INFO - Chain [1] done processing\n",
      "21:35:26 - cmdstanpy - INFO - Chain [1] start processing\n",
      "21:35:26 - cmdstanpy - INFO - Chain [1] done processing\n",
      "21:35:26 - cmdstanpy - INFO - Chain [1] start processing\n",
      "21:35:26 - cmdstanpy - INFO - Chain [1] done processing\n",
      "21:35:26 - cmdstanpy - INFO - Chain [1] start processing\n",
      "21:35:27 - cmdstanpy - INFO - Chain [1] done processing\n",
      "21:35:27 - cmdstanpy - INFO - Chain [1] start processing\n",
      "21:35:27 - cmdstanpy - INFO - Chain [1] done processing\n",
      "21:35:27 - cmdstanpy - INFO - Chain [1] start processing\n",
      "21:35:27 - cmdstanpy - INFO - Chain [1] done processing\n",
      "21:35:28 - cmdstanpy - INFO - Chain [1] start processing\n",
      "21:35:28 - cmdstanpy - INFO - Chain [1] done processing\n",
      "21:35:29 - cmdstanpy - INFO - Chain [1] start processing\n",
      "21:35:29 - cmdstanpy - INFO - Chain [1] done processing\n",
      "21:35:30 - cmdstanpy - INFO - Chain [1] start processing\n",
      "21:35:30 - cmdstanpy - INFO - Chain [1] done processing\n",
      "21:35:31 - cmdstanpy - INFO - Chain [1] start processing\n",
      "21:35:31 - cmdstanpy - INFO - Chain [1] done processing\n",
      "21:35:32 - cmdstanpy - INFO - Chain [1] start processing\n",
      "21:35:32 - cmdstanpy - INFO - Chain [1] done processing\n",
      "21:35:32 - cmdstanpy - INFO - Chain [1] start processing\n",
      "21:35:33 - cmdstanpy - INFO - Chain [1] done processing\n",
      "21:35:33 - cmdstanpy - INFO - Chain [1] start processing\n",
      "21:35:33 - cmdstanpy - INFO - Chain [1] done processing\n",
      "21:35:34 - cmdstanpy - INFO - Chain [1] start processing\n",
      "21:35:34 - cmdstanpy - INFO - Chain [1] done processing\n",
      "21:35:35 - cmdstanpy - INFO - Chain [1] start processing\n",
      "21:35:35 - cmdstanpy - INFO - Chain [1] done processing\n",
      "21:35:35 - cmdstanpy - INFO - Chain [1] start processing\n",
      "21:35:36 - cmdstanpy - INFO - Chain [1] done processing\n",
      "21:35:36 - cmdstanpy - INFO - Chain [1] start processing\n",
      "21:35:36 - cmdstanpy - INFO - Chain [1] done processing\n",
      "21:35:36 - cmdstanpy - INFO - Chain [1] start processing\n",
      "21:35:37 - cmdstanpy - INFO - Chain [1] done processing\n",
      "21:35:37 - cmdstanpy - INFO - Chain [1] start processing\n",
      "21:35:37 - cmdstanpy - INFO - Chain [1] done processing\n",
      "21:35:37 - cmdstanpy - INFO - Chain [1] start processing\n",
      "21:35:37 - cmdstanpy - INFO - Chain [1] done processing\n",
      "21:35:38 - cmdstanpy - INFO - Chain [1] start processing\n",
      "21:35:38 - cmdstanpy - INFO - Chain [1] done processing\n",
      "21:35:39 - cmdstanpy - INFO - Chain [1] start processing\n",
      "21:35:39 - cmdstanpy - INFO - Chain [1] done processing\n",
      "21:35:40 - cmdstanpy - INFO - Chain [1] start processing\n",
      "21:35:40 - cmdstanpy - INFO - Chain [1] done processing\n",
      "21:35:40 - cmdstanpy - INFO - Chain [1] start processing\n",
      "21:35:41 - cmdstanpy - INFO - Chain [1] done processing\n",
      "21:35:41 - cmdstanpy - INFO - Chain [1] start processing\n",
      "21:35:42 - cmdstanpy - INFO - Chain [1] done processing\n",
      "21:35:42 - cmdstanpy - INFO - Chain [1] start processing\n",
      "21:35:42 - cmdstanpy - INFO - Chain [1] done processing\n",
      "21:35:42 - cmdstanpy - INFO - Chain [1] start processing\n",
      "21:35:43 - cmdstanpy - INFO - Chain [1] done processing\n",
      "21:35:43 - cmdstanpy - INFO - Chain [1] start processing\n",
      "21:35:43 - cmdstanpy - INFO - Chain [1] done processing\n",
      "21:35:43 - cmdstanpy - INFO - Chain [1] start processing\n",
      "21:35:44 - cmdstanpy - INFO - Chain [1] done processing\n",
      "21:35:44 - cmdstanpy - INFO - Chain [1] start processing\n",
      "21:35:44 - cmdstanpy - INFO - Chain [1] done processing\n",
      "21:35:45 - cmdstanpy - INFO - Chain [1] start processing\n",
      "21:35:45 - cmdstanpy - INFO - Chain [1] done processing\n",
      "21:35:45 - cmdstanpy - INFO - Chain [1] start processing\n",
      "21:35:45 - cmdstanpy - INFO - Chain [1] done processing\n",
      "21:35:46 - cmdstanpy - INFO - Chain [1] start processing\n",
      "21:35:46 - cmdstanpy - INFO - Chain [1] done processing\n",
      "21:35:46 - cmdstanpy - INFO - Chain [1] start processing\n",
      "21:35:46 - cmdstanpy - INFO - Chain [1] done processing\n",
      "21:35:46 - cmdstanpy - INFO - Chain [1] start processing\n",
      "21:35:47 - cmdstanpy - INFO - Chain [1] done processing\n",
      "21:35:47 - cmdstanpy - INFO - Chain [1] start processing\n",
      "21:35:47 - cmdstanpy - INFO - Chain [1] done processing\n",
      "21:35:47 - cmdstanpy - INFO - Chain [1] start processing\n",
      "21:35:48 - cmdstanpy - INFO - Chain [1] done processing\n",
      "21:35:48 - cmdstanpy - INFO - Chain [1] start processing\n",
      "21:35:48 - cmdstanpy - INFO - Chain [1] done processing\n",
      "21:35:48 - cmdstanpy - INFO - Chain [1] start processing\n",
      "21:35:49 - cmdstanpy - INFO - Chain [1] done processing\n",
      "21:35:49 - cmdstanpy - INFO - Chain [1] start processing\n",
      "21:35:50 - cmdstanpy - INFO - Chain [1] done processing\n",
      "21:35:50 - cmdstanpy - INFO - Chain [1] start processing\n",
      "21:35:51 - cmdstanpy - INFO - Chain [1] done processing\n",
      "21:35:51 - cmdstanpy - INFO - Chain [1] start processing\n",
      "21:35:51 - cmdstanpy - INFO - Chain [1] done processing\n",
      "21:35:52 - cmdstanpy - INFO - Chain [1] start processing\n",
      "21:35:52 - cmdstanpy - INFO - Chain [1] done processing\n",
      "21:35:52 - cmdstanpy - INFO - Chain [1] start processing\n",
      "21:35:53 - cmdstanpy - INFO - Chain [1] done processing\n",
      "21:35:53 - cmdstanpy - INFO - Chain [1] start processing\n",
      "21:35:53 - cmdstanpy - INFO - Chain [1] done processing\n",
      "21:35:53 - cmdstanpy - INFO - Chain [1] start processing\n",
      "21:35:54 - cmdstanpy - INFO - Chain [1] done processing\n",
      "21:35:54 - cmdstanpy - INFO - Chain [1] start processing\n",
      "21:35:54 - cmdstanpy - INFO - Chain [1] done processing\n",
      "21:35:54 - cmdstanpy - INFO - Chain [1] start processing\n",
      "21:35:55 - cmdstanpy - INFO - Chain [1] done processing\n",
      "21:35:55 - cmdstanpy - INFO - Chain [1] start processing\n",
      "21:35:55 - cmdstanpy - INFO - Chain [1] done processing\n",
      "21:35:55 - cmdstanpy - INFO - Chain [1] start processing\n",
      "21:35:55 - cmdstanpy - INFO - Chain [1] done processing\n",
      "21:35:56 - cmdstanpy - INFO - Chain [1] start processing\n",
      "21:35:56 - cmdstanpy - INFO - Chain [1] done processing\n",
      "21:35:56 - cmdstanpy - INFO - Chain [1] start processing\n",
      "21:35:56 - cmdstanpy - INFO - Chain [1] done processing\n",
      "21:35:57 - cmdstanpy - INFO - Chain [1] start processing\n",
      "21:35:57 - cmdstanpy - INFO - Chain [1] done processing\n",
      "21:35:57 - cmdstanpy - INFO - Chain [1] start processing\n",
      "21:35:57 - cmdstanpy - INFO - Chain [1] done processing\n",
      "21:35:58 - cmdstanpy - INFO - Chain [1] start processing\n",
      "21:35:58 - cmdstanpy - INFO - Chain [1] done processing\n",
      "21:35:58 - cmdstanpy - INFO - Chain [1] start processing\n",
      "21:35:59 - cmdstanpy - INFO - Chain [1] done processing\n",
      "21:35:59 - cmdstanpy - INFO - Chain [1] start processing\n",
      "21:36:00 - cmdstanpy - INFO - Chain [1] done processing\n",
      "21:36:00 - cmdstanpy - INFO - Chain [1] start processing\n",
      "21:36:01 - cmdstanpy - INFO - Chain [1] done processing\n",
      "21:36:01 - cmdstanpy - INFO - Chain [1] start processing\n",
      "21:36:02 - cmdstanpy - INFO - Chain [1] done processing\n",
      "21:36:02 - cmdstanpy - INFO - Chain [1] start processing\n",
      "21:36:02 - cmdstanpy - INFO - Chain [1] done processing\n",
      "21:36:02 - cmdstanpy - INFO - Chain [1] start processing\n",
      "21:36:02 - cmdstanpy - INFO - Chain [1] done processing\n",
      "21:36:03 - cmdstanpy - INFO - Chain [1] start processing\n",
      "21:36:03 - cmdstanpy - INFO - Chain [1] done processing\n",
      "21:36:03 - cmdstanpy - INFO - Chain [1] start processing\n",
      "21:36:03 - cmdstanpy - INFO - Chain [1] done processing\n",
      "21:36:04 - cmdstanpy - INFO - Chain [1] start processing\n",
      "21:36:04 - cmdstanpy - INFO - Chain [1] done processing\n",
      "21:36:04 - cmdstanpy - INFO - Chain [1] start processing\n",
      "21:36:05 - cmdstanpy - INFO - Chain [1] done processing\n",
      "21:36:05 - cmdstanpy - INFO - Chain [1] start processing\n",
      "21:36:05 - cmdstanpy - INFO - Chain [1] done processing\n",
      "21:36:05 - cmdstanpy - INFO - Chain [1] start processing\n",
      "21:36:06 - cmdstanpy - INFO - Chain [1] done processing\n",
      "21:36:06 - cmdstanpy - INFO - Chain [1] start processing\n",
      "21:36:06 - cmdstanpy - INFO - Chain [1] done processing\n",
      "21:36:06 - cmdstanpy - INFO - Chain [1] start processing\n",
      "21:36:07 - cmdstanpy - INFO - Chain [1] done processing\n",
      "21:36:07 - cmdstanpy - INFO - Chain [1] start processing\n",
      "21:36:07 - cmdstanpy - INFO - Chain [1] done processing\n",
      "21:36:07 - cmdstanpy - INFO - Chain [1] start processing\n",
      "21:36:07 - cmdstanpy - INFO - Chain [1] done processing\n",
      "21:36:08 - cmdstanpy - INFO - Chain [1] start processing\n",
      "21:36:08 - cmdstanpy - INFO - Chain [1] done processing\n",
      "21:36:08 - cmdstanpy - INFO - Chain [1] start processing\n",
      "21:36:08 - cmdstanpy - INFO - Chain [1] done processing\n",
      "21:36:09 - cmdstanpy - INFO - Chain [1] start processing\n",
      "21:36:09 - cmdstanpy - INFO - Chain [1] done processing\n",
      "21:36:09 - cmdstanpy - INFO - Chain [1] start processing\n",
      "21:36:09 - cmdstanpy - INFO - Chain [1] done processing\n",
      "21:36:10 - cmdstanpy - INFO - Chain [1] start processing\n",
      "21:36:10 - cmdstanpy - INFO - Chain [1] done processing\n",
      "21:36:10 - cmdstanpy - INFO - Chain [1] start processing\n",
      "21:36:11 - cmdstanpy - INFO - Chain [1] done processing\n",
      "21:36:11 - cmdstanpy - INFO - Chain [1] start processing\n",
      "21:36:11 - cmdstanpy - INFO - Chain [1] done processing\n",
      "21:36:12 - cmdstanpy - INFO - Chain [1] start processing\n",
      "21:36:12 - cmdstanpy - INFO - Chain [1] done processing\n",
      "21:36:12 - cmdstanpy - INFO - Chain [1] start processing\n",
      "21:36:13 - cmdstanpy - INFO - Chain [1] done processing\n",
      "21:36:13 - cmdstanpy - INFO - Chain [1] start processing\n",
      "21:36:13 - cmdstanpy - INFO - Chain [1] done processing\n",
      "21:36:13 - cmdstanpy - INFO - Chain [1] start processing\n",
      "21:36:14 - cmdstanpy - INFO - Chain [1] done processing\n",
      "21:36:14 - cmdstanpy - INFO - Chain [1] start processing\n",
      "21:36:14 - cmdstanpy - INFO - Chain [1] done processing\n",
      "21:36:15 - cmdstanpy - INFO - Chain [1] start processing\n",
      "21:36:15 - cmdstanpy - INFO - Chain [1] done processing\n",
      "21:36:15 - cmdstanpy - INFO - Chain [1] start processing\n",
      "21:36:15 - cmdstanpy - INFO - Chain [1] done processing\n"
     ]
    }
   ],
   "source": [
    "for sku, group in df.groupby('dim_product_sk'):\n",
    "    data = group[['year_month', 'quantity']].rename(columns={'year_month': 'ds', 'quantity': 'y'})\n",
    "    \n",
    "    try:\n",
    "        model = Prophet(\n",
    "            yearly_seasonality=True,\n",
    "            weekly_seasonality=False,\n",
    "            daily_seasonality=False\n",
    "        )\n",
    "        model.fit(data)\n",
    "        prophet_models[sku] = model\n",
    "    except Exception as e:\n",
    "        print(f\"Prophet failed for SKU {sku}: {e}\")"
   ]
  },
  {
   "cell_type": "code",
   "execution_count": 115,
   "id": "c66080f9-6f34-4bcd-88ea-9373e386f428",
   "metadata": {},
   "outputs": [],
   "source": [
    "def forecast_product(sku, model=\"prophet\", periods = 12):\n",
    "    if model == \"arima\": \n",
    "        if sku not in arima_models:\n",
    "            raise ValueError(f\"SKU : {sku} not found in trained arima models.\")\n",
    "    \n",
    "        fitted_model = arima_models[sku]\n",
    "        forecast = model.forecast(steps=periods)\n",
    "        return forecast\n",
    "    elif model == \"prophet\":\n",
    "        if sku not in prophet_models:\n",
    "            raise ValueError(f\"Prophet model for SKU {sku} not found.\")\n",
    "        \n",
    "        fitted_model = prophet_models[sku]\n",
    "        future = fitted.make_future_dataframe(periods=periods, freq=\"MS\")\n",
    "        forecast = fitted.predict(future)\n",
    "        \n",
    "        return forecast[[\"ds\", \"yhat\", \"yhat_lower\", \"yhat_upper\"]].tail(periods)\n",
    "     else:\n",
    "        raise ValueError(\"Model must be 'arima' or 'prophet'\")"
   ]
  },
  {
   "cell_type": "code",
   "execution_count": 119,
   "id": "e2c5353b-97b2-4665-815a-4ebc73a41056",
   "metadata": {},
   "outputs": [
    {
     "ename": "ValueError",
     "evalue": "SKU : 5 not found in trained arima models.",
     "output_type": "error",
     "traceback": [
      "\u001b[1;31m---------------------------------------------------------------------------\u001b[0m",
      "\u001b[1;31mValueError\u001b[0m                                Traceback (most recent call last)",
      "Cell \u001b[1;32mIn[119], line 2\u001b[0m\n\u001b[0;32m      1\u001b[0m sku \u001b[38;5;241m=\u001b[39m \u001b[38;5;241m5\u001b[39m\n\u001b[1;32m----> 2\u001b[0m future_forecast \u001b[38;5;241m=\u001b[39m \u001b[43mforecast_product\u001b[49m\u001b[43m(\u001b[49m\u001b[43msku\u001b[49m\u001b[43m,\u001b[49m\u001b[43m \u001b[49m\u001b[43mperiods\u001b[49m\u001b[38;5;241;43m=\u001b[39;49m\u001b[38;5;241;43m12\u001b[39;49m\u001b[43m)\u001b[49m\n\u001b[0;32m      3\u001b[0m \u001b[38;5;28mprint\u001b[39m(\u001b[38;5;124mf\u001b[39m\u001b[38;5;124m\"\u001b[39m\u001b[38;5;124mForecast for the next 12 months by ARIMA model for Product : \u001b[39m\u001b[38;5;132;01m{\u001b[39;00msku\u001b[38;5;132;01m}\u001b[39;00m\u001b[38;5;124m:\u001b[39m\u001b[38;5;130;01m\\n\u001b[39;00m\u001b[38;5;124m\"\u001b[39m, future_forecast)\n",
      "Cell \u001b[1;32mIn[115], line 3\u001b[0m, in \u001b[0;36mforecast_product\u001b[1;34m(sku, periods)\u001b[0m\n\u001b[0;32m      1\u001b[0m \u001b[38;5;28;01mdef\u001b[39;00m \u001b[38;5;21mforecast_product\u001b[39m(sku, periods \u001b[38;5;241m=\u001b[39m \u001b[38;5;241m12\u001b[39m):\n\u001b[0;32m      2\u001b[0m     \u001b[38;5;28;01mif\u001b[39;00m sku \u001b[38;5;129;01mnot\u001b[39;00m \u001b[38;5;129;01min\u001b[39;00m arima_models:\n\u001b[1;32m----> 3\u001b[0m         \u001b[38;5;28;01mraise\u001b[39;00m \u001b[38;5;167;01mValueError\u001b[39;00m(\u001b[38;5;124mf\u001b[39m\u001b[38;5;124m\"\u001b[39m\u001b[38;5;124mSKU : \u001b[39m\u001b[38;5;132;01m{\u001b[39;00msku\u001b[38;5;132;01m}\u001b[39;00m\u001b[38;5;124m not found in trained arima models.\u001b[39m\u001b[38;5;124m\"\u001b[39m)\n\u001b[0;32m      5\u001b[0m     model \u001b[38;5;241m=\u001b[39m arima_models[sku]\n\u001b[0;32m      6\u001b[0m     forecast \u001b[38;5;241m=\u001b[39m model\u001b[38;5;241m.\u001b[39mforecast(steps\u001b[38;5;241m=\u001b[39mperiods)\n",
      "\u001b[1;31mValueError\u001b[0m: SKU : 5 not found in trained arima models."
     ]
    }
   ],
   "source": [
    "# Forecast next 6 months for SKU=5 using ARIMA\n",
    "print(forecast_sku(5, model=\"arima\", periods=12))\n",
    "\n",
    "# Forecast next 6 months for SKU=5 using Prophet\n",
    "print(forecast_sku(5, model=\"prophet\", periods=12))\n"
   ]
  },
  {
   "cell_type": "code",
   "execution_count": null,
   "id": "e5769b53-6976-4652-bcef-a2c28009e698",
   "metadata": {},
   "outputs": [],
   "source": []
  }
 ],
 "metadata": {
  "kernelspec": {
   "display_name": "Python 3 (ipykernel)",
   "language": "python",
   "name": "python3"
  },
  "language_info": {
   "codemirror_mode": {
    "name": "ipython",
    "version": 3
   },
   "file_extension": ".py",
   "mimetype": "text/x-python",
   "name": "python",
   "nbconvert_exporter": "python",
   "pygments_lexer": "ipython3",
   "version": "3.12.0"
  }
 },
 "nbformat": 4,
 "nbformat_minor": 5
}
